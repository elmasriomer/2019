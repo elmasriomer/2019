{
 "cells": [
  {
   "cell_type": "markdown",
   "metadata": {},
   "source": [
    "# The PRACTICE of COMPUTING USING PYTHON - Pearson Prog. Lab"
   ]
  },
  {
   "cell_type": "markdown",
   "metadata": {},
   "source": [
    "## Chapter 1 - Beginnings"
   ]
  },
  {
   "cell_type": "markdown",
   "metadata": {},
   "source": [
    "#### 1.3 An Interactive Session"
   ]
  },
  {
   "cell_type": "markdown",
   "metadata": {},
   "source": [
    "Write an expression whose value is the result of converting the str value associated with s to an int value. So if s were associated with \"41\" then the resulting int would be 41."
   ]
  },
  {
   "cell_type": "code",
   "execution_count": 1,
   "metadata": {
    "scrolled": true
   },
   "outputs": [
    {
     "data": {
      "text/plain": [
       "41"
      ]
     },
     "execution_count": 1,
     "metadata": {},
     "output_type": "execute_result"
    }
   ],
   "source": [
    "s=41\n",
    "int(s)"
   ]
  },
  {
   "cell_type": "markdown",
   "metadata": {},
   "source": [
    "#### 1.5 Variables (Examples)"
   ]
  },
  {
   "cell_type": "markdown",
   "metadata": {},
   "source": [
    "Assign 7 to a variable named seven."
   ]
  },
  {
   "cell_type": "code",
   "execution_count": 2,
   "metadata": {},
   "outputs": [],
   "source": [
    "seven=7"
   ]
  },
  {
   "cell_type": "markdown",
   "metadata": {},
   "source": [
    "Define two variables, one named length making it refer to 3.5 and the other named width making it refer to 1.55."
   ]
  },
  {
   "cell_type": "code",
   "execution_count": 3,
   "metadata": {},
   "outputs": [],
   "source": [
    "length=3.5\n",
    "width=1.55"
   ]
  },
  {
   "cell_type": "markdown",
   "metadata": {},
   "source": [
    "Given two variables matric_age and grad_age, write a statement that makes the associated value of grad_age 4 more than that of matric_age.\n",
    "\n",
    "\n"
   ]
  },
  {
   "cell_type": "code",
   "execution_count": 4,
   "metadata": {},
   "outputs": [
    {
     "data": {
      "text/plain": [
       "14"
      ]
     },
     "execution_count": 4,
     "metadata": {},
     "output_type": "execute_result"
    }
   ],
   "source": [
    "matric_age = 10\n",
    "grad_age=4 + matric_age\n",
    "grad_age"
   ]
  },
  {
   "cell_type": "markdown",
   "metadata": {},
   "source": [
    "#### 1.7 Operators"
   ]
  },
  {
   "cell_type": "markdown",
   "metadata": {},
   "source": [
    "Write an expression that computes the sum of two variables verbal_score and math_score (assume that both have already been defined). \n",
    "\n"
   ]
  },
  {
   "cell_type": "code",
   "execution_count": 5,
   "metadata": {},
   "outputs": [
    {
     "data": {
      "text/plain": [
       "95"
      ]
     },
     "execution_count": 5,
     "metadata": {},
     "output_type": "execute_result"
    }
   ],
   "source": [
    "verbal_score= 50\n",
    "math_score=45\n",
    "y=verbal_score + math_score\n",
    "y"
   ]
  },
  {
   "cell_type": "markdown",
   "metadata": {},
   "source": [
    "Assume there is a variable, h already assigned a positive integer value. Write the code necessary to assign its square to the variable g. For example, if h had the value 8 then g would get the value 64.\n",
    "\n"
   ]
  },
  {
   "cell_type": "code",
   "execution_count": 6,
   "metadata": {},
   "outputs": [
    {
     "data": {
      "text/plain": [
       "64"
      ]
     },
     "execution_count": 6,
     "metadata": {},
     "output_type": "execute_result"
    }
   ],
   "source": [
    "h=8\n",
    "g=h**2\n",
    "g"
   ]
  },
  {
   "cell_type": "markdown",
   "metadata": {},
   "source": [
    "Assume that price is an integer variable whose value is the price (in US currency) in cents of an item. Assuming the item is paid for with a minimum amount of change and just single dollars, write an expression for the number of single dollars that would have to be paid.\n",
    "\n"
   ]
  },
  {
   "cell_type": "code",
   "execution_count": 7,
   "metadata": {},
   "outputs": [
    {
     "data": {
      "text/plain": [
       "2.0"
      ]
     },
     "execution_count": 7,
     "metadata": {},
     "output_type": "execute_result"
    }
   ],
   "source": [
    "price= 205\n",
    "price//100.0"
   ]
  },
  {
   "cell_type": "markdown",
   "metadata": {},
   "source": [
    "#### 1.7.1 Integer Operators (Examples)"
   ]
  },
  {
   "cell_type": "markdown",
   "metadata": {},
   "source": [
    "Write an expression that computes the remainder of the variable principal when divided by the variable divisor. (Assume that each is associated with an int.)"
   ]
  },
  {
   "cell_type": "code",
   "execution_count": 8,
   "metadata": {},
   "outputs": [
    {
     "data": {
      "text/plain": [
       "1"
      ]
     },
     "execution_count": 8,
     "metadata": {},
     "output_type": "execute_result"
    }
   ],
   "source": [
    "principal=10\n",
    "divisor=3\n",
    "principal%divisor"
   ]
  },
  {
   "cell_type": "markdown",
   "metadata": {},
   "source": [
    "Assume that price is an integer variable whose value is the price (in US currency) in cents of an item. Assuming the item is paid for with a minimum amount of change and just single dollars, write an expression for the amount of change (in cents) that would have to be paid.\n",
    "\n"
   ]
  },
  {
   "cell_type": "code",
   "execution_count": 9,
   "metadata": {},
   "outputs": [
    {
     "data": {
      "text/plain": [
       "5"
      ]
     },
     "execution_count": 9,
     "metadata": {},
     "output_type": "execute_result"
    }
   ],
   "source": [
    "price=105\n",
    "price % 100"
   ]
  },
  {
   "cell_type": "markdown",
   "metadata": {},
   "source": [
    "#### 1.7.3 Mixed Operators (Examples)"
   ]
  },
  {
   "cell_type": "markdown",
   "metadata": {},
   "source": [
    "Assign the average of the values in the variables a, b, and c to a variable avg. Assume that the variables a, b, and c have already been assigned a value, but do not assume that the values are all floating-point. The average should be a floating-point value."
   ]
  },
  {
   "cell_type": "code",
   "execution_count": 10,
   "metadata": {},
   "outputs": [
    {
     "data": {
      "text/plain": [
       "2.0"
      ]
     },
     "execution_count": 10,
     "metadata": {},
     "output_type": "execute_result"
    }
   ],
   "source": [
    "a=3\n",
    "b=2\n",
    "c=1\n",
    "avg=(a+b+c)/3. #floating\n",
    "avg "
   ]
  },
  {
   "cell_type": "markdown",
   "metadata": {},
   "source": [
    "### Programming Projects"
   ]
  },
  {
   "cell_type": "markdown",
   "metadata": {},
   "source": [
    "Write a program that asks the user for the number of males and the number of females registered in a class using two separate inputs (\"Enter number of males:\", \"Enter number of females:\"). The program should display the percentage of males and females (round to the nearest whole number) in the following format:\n",
    "* Percent males: 35%\n",
    "* Percent females: 65%\n",
    "\n",
    "Use string formatting.\t"
   ]
  },
  {
   "cell_type": "code",
   "execution_count": 11,
   "metadata": {},
   "outputs": [
    {
     "name": "stdout",
     "output_type": "stream",
     "text": [
      "Enter number of males:50\n",
      "Enter number of females:40\n",
      "Percent males: 56%\n",
      "Percent females: 44%\n"
     ]
    }
   ],
   "source": [
    "males=int(input(\"Enter number of males:\"))\n",
    "females=int(input(\"Enter number of females:\"))\n",
    "\n",
    "total= males+females\n",
    "\n",
    "percentmale= males/total\n",
    "percentfemale= females/total\n",
    "\n",
    "print(\"Percent males:\", end=\" \")\n",
    "print(format(percentmale,'.0%'))\n",
    "print(\"Percent females:\", end=\" \")\n",
    "print(format(percentfemale,'.0%'))"
   ]
  },
  {
   "cell_type": "markdown",
   "metadata": {},
   "source": [
    "## Chapter 2 - Control"
   ]
  },
  {
   "cell_type": "markdown",
   "metadata": {},
   "source": [
    "#### 2.1 Selection Statements of Decisions"
   ]
  },
  {
   "cell_type": "markdown",
   "metadata": {},
   "source": [
    "#### 2.1.1 Booleans for Decisions (Examples)"
   ]
  },
  {
   "cell_type": "markdown",
   "metadata": {},
   "source": [
    "Write an expression that evaluates to True if and only if the value of x is equal to zero."
   ]
  },
  {
   "cell_type": "code",
   "execution_count": 12,
   "metadata": {
    "scrolled": true
   },
   "outputs": [
    {
     "data": {
      "text/plain": [
       "False"
      ]
     },
     "execution_count": 12,
     "metadata": {},
     "output_type": "execute_result"
    }
   ],
   "source": [
    "x=1\n",
    "x==0"
   ]
  },
  {
   "cell_type": "markdown",
   "metadata": {},
   "source": [
    "Write an expression that evaluates to True if the value of index is greater than the value of last_index."
   ]
  },
  {
   "cell_type": "code",
   "execution_count": 14,
   "metadata": {},
   "outputs": [
    {
     "data": {
      "text/plain": [
       "True"
      ]
     },
     "execution_count": 14,
     "metadata": {},
     "output_type": "execute_result"
    }
   ],
   "source": [
    "index=a\n",
    "last_index=c\n",
    "index > last_index"
   ]
  },
  {
   "cell_type": "markdown",
   "metadata": {},
   "source": [
    "#### 2.1.2 If Statements (Examples)"
   ]
  },
  {
   "cell_type": "markdown",
   "metadata": {},
   "source": [
    "Write a conditional that assigns True to fever if temperature is greater than 98.6."
   ]
  },
  {
   "cell_type": "code",
   "execution_count": 15,
   "metadata": {},
   "outputs": [],
   "source": [
    "temperature= 10\n",
    "\n",
    "if temperature > 98.6: \n",
    "    fever = True"
   ]
  },
  {
   "cell_type": "markdown",
   "metadata": {},
   "source": [
    "Write a conditional that decreases the value associated with shelf_life by 4 if the value associated with outside_temperature is greater than 90.\n",
    "\n"
   ]
  },
  {
   "cell_type": "code",
   "execution_count": 16,
   "metadata": {
    "scrolled": true
   },
   "outputs": [
    {
     "data": {
      "text/plain": [
       "96"
      ]
     },
     "execution_count": 16,
     "metadata": {},
     "output_type": "execute_result"
    }
   ],
   "source": [
    "outside_temperature = 97\n",
    "shelf_life= 100\n",
    "\n",
    "if outside_temperature > 90: \n",
    "    shelf_life = shelf_life-4\n",
    "    \n",
    "shelf_life"
   ]
  },
  {
   "cell_type": "markdown",
   "metadata": {},
   "source": [
    "Given the variables name1 and name2, write a fragment of code that assigns the larger of their associated values to first.\n",
    "\n",
    "\n",
    "(NOTE: \"larger\" here means alphabetically larger, not \"longer\". Thus, \"mouse\" is larger than \"elephant\" because \"mouse\" comes later in the dictionary than \"elephant\"!) "
   ]
  },
  {
   "cell_type": "code",
   "execution_count": 17,
   "metadata": {},
   "outputs": [
    {
     "data": {
      "text/plain": [
       "'mouse'"
      ]
     },
     "execution_count": 17,
     "metadata": {},
     "output_type": "execute_result"
    }
   ],
   "source": [
    "name1= \"mouse\"\n",
    "name2= \"elephant\"\n",
    "first=max(name1, name2)\n",
    "first"
   ]
  },
  {
   "cell_type": "markdown",
   "metadata": {},
   "source": [
    "Given x and y, each associated with an int, write a fragment of code that associates the larger of these with another variable named max.\n",
    "\n"
   ]
  },
  {
   "cell_type": "code",
   "execution_count": 18,
   "metadata": {},
   "outputs": [
    {
     "data": {
      "text/plain": [
       "4"
      ]
     },
     "execution_count": 18,
     "metadata": {},
     "output_type": "execute_result"
    }
   ],
   "source": [
    "x=3\n",
    "y=4\n",
    "\n",
    "if x > y: \n",
    "    max = x\n",
    "else: \n",
    "    max = y\n",
    "    \n",
    "max"
   ]
  },
  {
   "cell_type": "markdown",
   "metadata": {},
   "source": [
    "Given the variables x, y, and z, each associated with an int, write a fragment of code that assigns the smallest of these to min."
   ]
  },
  {
   "cell_type": "code",
   "execution_count": 19,
   "metadata": {},
   "outputs": [
    {
     "data": {
      "text/plain": [
       "1"
      ]
     },
     "execution_count": 19,
     "metadata": {},
     "output_type": "execute_result"
    }
   ],
   "source": [
    "x=1\n",
    "y=2\n",
    "z=3\n",
    "\n",
    "min = x\n",
    "if y < min : \n",
    "\tmin = y\n",
    "if z < min : \n",
    "\tmin = z\n",
    "    \n",
    "min"
   ]
  },
  {
   "cell_type": "markdown",
   "metadata": {},
   "source": [
    "Write an if/else statement that compares age with 65, adds 1 to senior_citizens if age is greater than or equal to 65, and adds 1 to non_seniors otherwise."
   ]
  },
  {
   "cell_type": "code",
   "execution_count": 20,
   "metadata": {},
   "outputs": [],
   "source": [
    "age=75\n",
    "senior_citizens=0\n",
    "non_seniors=0\n",
    "\n",
    "if age >= 65 : \n",
    "    senior_citizens += 1\n",
    "else : \n",
    "    non_seniors += 1\n",
    "\n"
   ]
  },
  {
   "cell_type": "code",
   "execution_count": 21,
   "metadata": {},
   "outputs": [
    {
     "data": {
      "text/plain": [
       "1"
      ]
     },
     "execution_count": 21,
     "metadata": {},
     "output_type": "execute_result"
    }
   ],
   "source": [
    "senior_citizens"
   ]
  },
  {
   "cell_type": "code",
   "execution_count": 22,
   "metadata": {},
   "outputs": [
    {
     "data": {
      "text/plain": [
       "0"
      ]
     },
     "execution_count": 22,
     "metadata": {},
     "output_type": "execute_result"
    }
   ],
   "source": [
    "non_seniors"
   ]
  },
  {
   "cell_type": "markdown",
   "metadata": {},
   "source": [
    "NOTE: in mathematics, the square root of a negative number is not real; in Python therefore, passing such a value to the square root function returns a value known as NaN (not-a-number).\n",
    "\n",
    "Write the code that reads a value, the area of some square, into a variable named areaOfSquare and prints out the length of the side of that square.\n",
    "\n",
    "HOWEVER: if any value read in is not valid input, just print the message \"INVALID\"."
   ]
  },
  {
   "cell_type": "code",
   "execution_count": 23,
   "metadata": {},
   "outputs": [
    {
     "name": "stdout",
     "output_type": "stream",
     "text": [
      "42\n",
      "6.48074069840786\n"
     ]
    }
   ],
   "source": [
    "import math\n",
    "areaOfSquare = float(input())\n",
    "\n",
    "if areaOfSquare>=0:\n",
    "\tprint(math.sqrt(areaOfSquare))\n",
    "else:\n",
    "\tprint(\"INVALID\")"
   ]
  },
  {
   "cell_type": "markdown",
   "metadata": {},
   "source": [
    "NOTE: in mathematics, division by zero is undefined. So, in Python, division by zero is always an error.\n",
    "\n",
    "Write the necessary code to read values into callsReceived and operatorsOnCall and print out the number of calls received per operator (integer division with truncation will do).\n",
    "HOWEVER: if any value read in is not valid input, just print the message \"INVALID\"."
   ]
  },
  {
   "cell_type": "code",
   "execution_count": 25,
   "metadata": {},
   "outputs": [
    {
     "name": "stdout",
     "output_type": "stream",
     "text": [
      "Enter number of callsReceived:40\n",
      "Enter number of operatorsOnCall:50\n",
      "0\n"
     ]
    }
   ],
   "source": [
    "callsReceived = float(input(\"Enter number of callsReceived:\"))\n",
    "operatorsOnCall = float(input(\"Enter number of operatorsOnCall:\"))\n",
    "if operatorsOnCall == 0:\n",
    "\tprint(\"INVALID\")\n",
    "else:\n",
    "\tprint(int(callsReceived/operatorsOnCall))"
   ]
  },
  {
   "cell_type": "markdown",
   "metadata": {},
   "source": [
    "Given a int variable named yesCount and another int variable named noCount and an int variable named response write the necessary code to read a value into into response and then carry out the following:\n",
    "\n",
    "* if the value typed in is a 1 or a 2 then increment yesCount and print out \"YES WAS RECORDED\"\n",
    "* if the value typed in is a 3 or an 4 then increment noCount and print out \"NO WAS RECORDED\"\n",
    "* If the input is invalid just print the message \"INVALID\" and do nothing else."
   ]
  },
  {
   "cell_type": "code",
   "execution_count": 26,
   "metadata": {},
   "outputs": [
    {
     "name": "stdout",
     "output_type": "stream",
     "text": [
      "5\n",
      "INVALID\n"
     ]
    }
   ],
   "source": [
    "response = int(input())\n",
    "\n",
    "if response==1 or response==2: \n",
    "\tyesCount+=1\n",
    "\tprint(\"YES WAS RECORDED\")\n",
    "\n",
    "elif response==3 or response==4:\n",
    "\tnoCount+= 1\n",
    "\tprint(\"NO WAS RECORDED\")\n",
    "\n",
    "else:\n",
    "\tprint(\"INVALID\")"
   ]
  },
  {
   "cell_type": "markdown",
   "metadata": {},
   "source": [
    "In the Happy Valley School System, children are classified by age as follows:\n",
    "\n",
    "* less than 2, ineligible\n",
    "* 2, toddler\n",
    "* 3-5, early childhood\n",
    "* 6-7, young reader\n",
    "* 8-10, elementary\n",
    "* 11 and 12, middle\n",
    "* 13, impossible\n",
    "* 14-16, high school\n",
    "* 17-18, scholar\n",
    "* greater than 18, ineligible\n",
    "\n",
    "Given a variable age, write the necessary code to print out, on a line by itself, the appropriate label from the above list based on age."
   ]
  },
  {
   "cell_type": "code",
   "execution_count": 27,
   "metadata": {},
   "outputs": [
    {
     "name": "stdout",
     "output_type": "stream",
     "text": [
      "high school\n"
     ]
    }
   ],
   "source": [
    "age=15\n",
    "\n",
    "if age<2:\n",
    "\tprint(\"ineligible\")\n",
    "elif age==2:\n",
    "\tprint(\"toddler\")\n",
    "elif age<=5:\n",
    "\tprint(\"early childhood\")\n",
    "elif age<=7:\n",
    "\tprint(\"young reader\")\n",
    "elif age<=10:\n",
    "\tprint(\"elementary\")\n",
    "elif age<=12:\n",
    "\tprint(\"middle\")\n",
    "elif age==13:\n",
    "\tprint(\"impossible\")\n",
    "elif age<=16:\n",
    "\tprint(\"high school\")\n",
    "elif age<=18:\n",
    "\tprint(\"scholar\")\n",
    "else:\n",
    "\tprint(\"ineligible\")"
   ]
  },
  {
   "cell_type": "markdown",
   "metadata": {},
   "source": [
    "HTTP is the protocol that governs communications between web servers and web clients (i.e. browsers). Part of the protocol includes a status code returned by the server to tell the browser the status of its most recent page request. Some of the codes and their meanings are listed below:\n",
    "\n",
    "* 200, OK (fulfilled)\n",
    "* 403, forbidden\n",
    "* 404, not found\n",
    "* 500, server error\n",
    "\n",
    "Given an int variable status, write a statement that prints out, on a line by itself, the appropriate label from the above list based on status."
   ]
  },
  {
   "cell_type": "code",
   "execution_count": 28,
   "metadata": {},
   "outputs": [
    {
     "name": "stdout",
     "output_type": "stream",
     "text": [
      "OK (fulfilled)\n"
     ]
    }
   ],
   "source": [
    "status= 200\n",
    "\n",
    "if status==200: \n",
    "\tprint(\"OK (fulfilled)\")\n",
    "\n",
    "elif status==403: \n",
    "\tprint(\"forbidden\")\n",
    "\n",
    "elif status==404:\n",
    "\tprint(\"not found\")\n",
    "\t\n",
    "elif status==500:\n",
    "\tprint(\"server error\")"
   ]
  },
  {
   "cell_type": "markdown",
   "metadata": {},
   "source": [
    "Write a statement that adds 1 to the variable reverseDrivers if the variable speed is less than 0,adds 1 to the variable parkedDrivers if the variable speed is less than 1,adds 1 to the variable slowDrivers if the variable speed is less than 40,adds 1 to the variable safeDrivers if the variable speed is less than or equal to 65, and otherwise adds 1 to the variable speeders."
   ]
  },
  {
   "cell_type": "code",
   "execution_count": 29,
   "metadata": {},
   "outputs": [],
   "source": [
    "speed= 50\n",
    "reverseDrivers=0\n",
    "parkedDrivers=0\n",
    "slowDrivers=0\n",
    "safeDrivers=0\n",
    "speeders=0\n",
    "\n",
    "if speed < 0:\n",
    "\treverseDrivers += 1\n",
    "elif speed < 1:\n",
    "\tparkedDrivers += 1\n",
    "elif speed < 40:\n",
    "\tslowDrivers += 1\n",
    "elif speed <= 65:\n",
    "\tsafeDrivers += 1\n",
    "else:\n",
    "\tspeeders += 1"
   ]
  },
  {
   "cell_type": "markdown",
   "metadata": {},
   "source": [
    "Assume that an int variable age has been given a value. Assume further that the user has just been presented with the following menu:\n",
    "\n",
    "* S: hangar steak, red potatoes, asparagus\n",
    "* T: whole trout, long rice, brussel sprouts\n",
    "* B: cheddar cheeseburger, steak fries, cole slaw\n",
    "\n",
    "(Yes, this menu really IS a menu!)\n",
    "Write some code that reads the string (S or T or B) that the user types in into a variable choice and prints out a recommended accompanying drink as follows: if the value of age is 21 or lower, the recommendation is \"vegetable juice\" for steak, \"cranberry juice\" for trout, and \"soda\" for the burger. Otherwise, the recommendations are \"cabernet\", \"chardonnay\", and \"IPA\" for steak, trout, and burger respectively. Regardless of the value of age, your code should print \"invalid menu selection\" if the character read into choice was not S or T or B.\n"
   ]
  },
  {
   "cell_type": "code",
   "execution_count": 31,
   "metadata": {},
   "outputs": [
    {
     "name": "stdout",
     "output_type": "stream",
     "text": [
      "choiceS\n",
      "vegetable juice\n"
     ]
    }
   ],
   "source": [
    "choice=str(input(\"choice\"))\n",
    "\n",
    "if \tchoice==\"S\":\n",
    "\tif age<=21: \n",
    "\t\tprint (\"vegetable juice\") \n",
    "\telse: \n",
    "\t\tprint (\"cabernet\") \n",
    "elif choice==\"T\":\n",
    "\tif age<=21: \n",
    "\t\tprint (\"cranberry juice\") \n",
    "\telse: \n",
    "\t\tprint (\"chardonnay\") \n",
    "elif choice==\"B\":\n",
    "\tif age<=21: \n",
    "\t\tprint (\"soda\")\n",
    "\telse:\n",
    "\t\tprint (\"IPA\") \n",
    "else: \n",
    "\tprint(\"invalid menu selection\")"
   ]
  },
  {
   "cell_type": "markdown",
   "metadata": {},
   "source": [
    "#### 2.1.3 Examples"
   ]
  },
  {
   "cell_type": "markdown",
   "metadata": {},
   "source": [
    "Write an expression that evaluates to True if and only if s   refers to the str \"end\"."
   ]
  },
  {
   "cell_type": "code",
   "execution_count": 32,
   "metadata": {},
   "outputs": [
    {
     "data": {
      "text/plain": [
       "False"
      ]
     },
     "execution_count": 32,
     "metadata": {},
     "output_type": "execute_result"
    }
   ],
   "source": [
    "s==\"end\""
   ]
  },
  {
   "cell_type": "markdown",
   "metadata": {},
   "source": [
    "Write an expression that evaluates to True if the str associated with s1 is greater than the str associated with s2.\n",
    "\n"
   ]
  },
  {
   "cell_type": "code",
   "execution_count": 33,
   "metadata": {},
   "outputs": [
    {
     "data": {
      "text/plain": [
       "False"
      ]
     },
     "execution_count": 33,
     "metadata": {},
     "output_type": "execute_result"
    }
   ],
   "source": [
    "s1=\"anne\"\n",
    "s2=\"baba\"\n",
    "\n",
    "str(s1)>str(s2)"
   ]
  },
  {
   "cell_type": "markdown",
   "metadata": {},
   "source": [
    "Given the variable c, whose associated value is a str, write an expression that is True if and only if c is not equal to a string consisting of a single blank.\n",
    "\n"
   ]
  },
  {
   "cell_type": "code",
   "execution_count": 34,
   "metadata": {},
   "outputs": [
    {
     "data": {
      "text/plain": [
       "True"
      ]
     },
     "execution_count": 34,
     "metadata": {},
     "output_type": "execute_result"
    }
   ],
   "source": [
    "c != str(\" \")"
   ]
  },
  {
   "cell_type": "markdown",
   "metadata": {},
   "source": [
    "Write a statement that toggles on_off_switch. That is, if on_off_switch is False, it is made equal to True; if on_off_switch is True, it is made equal to False.\n",
    "\n"
   ]
  },
  {
   "cell_type": "code",
   "execution_count": 35,
   "metadata": {},
   "outputs": [],
   "source": [
    "on_off_switch=1\n",
    "on_off_switch= not(on_off_switch)"
   ]
  },
  {
   "cell_type": "markdown",
   "metadata": {},
   "source": [
    "#### 2.2.6 Boolean Operators Examples"
   ]
  },
  {
   "cell_type": "markdown",
   "metadata": {},
   "source": [
    "Assume that a variable variable, numberOfSides has been initialized. Write a statement that assigns the value True to the variable isQuadrilateral if numberOfSides is exactly 4 and False otherwise.\n",
    "\n"
   ]
  },
  {
   "cell_type": "code",
   "execution_count": 36,
   "metadata": {},
   "outputs": [
    {
     "data": {
      "text/plain": [
       "False"
      ]
     },
     "execution_count": 36,
     "metadata": {},
     "output_type": "execute_result"
    }
   ],
   "source": [
    "numberOfSides=1\n",
    "isQuadrilateral = numberOfSides==4\n",
    "isQuadrilateral"
   ]
  },
  {
   "cell_type": "markdown",
   "metadata": {},
   "source": [
    "Assume that a variable hoursWorked has been initialized. Write a statement that assigns the value True to the variable workedOvertime if hoursWorked is greater than 40 and False otherwise.\n",
    "\n"
   ]
  },
  {
   "cell_type": "code",
   "execution_count": 37,
   "metadata": {},
   "outputs": [
    {
     "data": {
      "text/plain": [
       "True"
      ]
     },
     "execution_count": 37,
     "metadata": {},
     "output_type": "execute_result"
    }
   ],
   "source": [
    "hoursWorked=42\n",
    "workedOvertime= hoursWorked > 40\n",
    "workedOvertime"
   ]
  },
  {
   "cell_type": "markdown",
   "metadata": {},
   "source": [
    "Clunker Motors Inc. is recalling all vehicles from model years 2001-2006. Given a variable modelYear write a statement that assigns True to recalled if the value of modelYear falls within the recall range and assigns False otherwise.\n",
    "\n",
    "Do not use an if statement in this exercise!\n",
    "\n"
   ]
  },
  {
   "cell_type": "code",
   "execution_count": 38,
   "metadata": {},
   "outputs": [
    {
     "data": {
      "text/plain": [
       "True"
      ]
     },
     "execution_count": 38,
     "metadata": {},
     "output_type": "execute_result"
    }
   ],
   "source": [
    "modelYear=2004\n",
    "recalled = (modelYear >=2001 and modelYear <=2006)\n",
    "recalled"
   ]
  },
  {
   "cell_type": "markdown",
   "metadata": {},
   "source": [
    "Clunker Motors Inc. is recalling all vehicles from model years 2001-2006. Given a variable modelYear write a statement that assigns True to norecall if the value of modelYear is NOT within the recall range and assigns False otherwise.\n",
    "\n",
    "Do not use an if statement in this exercise!\n",
    "\n"
   ]
  },
  {
   "cell_type": "code",
   "execution_count": 39,
   "metadata": {},
   "outputs": [
    {
     "data": {
      "text/plain": [
       "False"
      ]
     },
     "execution_count": 39,
     "metadata": {},
     "output_type": "execute_result"
    }
   ],
   "source": [
    "norecall = not(modelYear >=2001 and modelYear <=2006)\n",
    "norecall"
   ]
  },
  {
   "cell_type": "markdown",
   "metadata": {},
   "source": [
    "Clunker Motors Inc. is recalling all vehicles in its Extravagant line from model years 1999-2002 as well all vehicles in its Guzzler line from model years 2004-2007. Given variables modelYear and modelName write a statement that assigns True to recalled if the values of modelYear and modelName match the recall details and assigns False otherwise.\n",
    "\n"
   ]
  },
  {
   "cell_type": "code",
   "execution_count": 40,
   "metadata": {},
   "outputs": [
    {
     "data": {
      "text/plain": [
       "True"
      ]
     },
     "execution_count": 40,
     "metadata": {},
     "output_type": "execute_result"
    }
   ],
   "source": [
    "modelName=\"Guzzler\"\n",
    "\n",
    "if modelName == \"Extravagant\" and modelYear >= 1999 and modelYear <= 2002:\n",
    "\trecalled = True \n",
    "elif modelName == \"Guzzler\" and modelYear >= 2004 and modelYear <= 2007:\n",
    "\trecalled = True\n",
    "else:\n",
    "\trecalled = False\n",
    "    \n",
    "recalled"
   ]
  },
  {
   "cell_type": "markdown",
   "metadata": {},
   "source": [
    "Clunker Motors Inc. is recalling all vehicles in its Extravagant line from model years 1999-2002. Given variables modelYear and modelName write a statement that assigns True to recalled if the values of modelYear and modelName match the recall details and assigns false otherwise.\n",
    "\n"
   ]
  },
  {
   "cell_type": "code",
   "execution_count": 41,
   "metadata": {},
   "outputs": [
    {
     "data": {
      "text/plain": [
       "False"
      ]
     },
     "execution_count": 41,
     "metadata": {},
     "output_type": "execute_result"
    }
   ],
   "source": [
    "if (modelName == \"Extravagant\" and modelYear >= 1999 and modelYear <= 2002):\n",
    "\trecalled = True\n",
    "else:\n",
    "\trecalled = False\n",
    "\n",
    "recalled"
   ]
  },
  {
   "cell_type": "markdown",
   "metadata": {},
   "source": [
    "Clunker Motors Inc. is recalling all vehicles from model years 1995-1998 and 2004-2006.Given a variable modelYear write a statement that assigns True to recalled if the value of modelYear falls within the two recall ranges and assigns False otherwise.\n",
    "\n",
    "Do not use an if statement in this exercise!\n",
    "\n"
   ]
  },
  {
   "cell_type": "code",
   "execution_count": 42,
   "metadata": {},
   "outputs": [
    {
     "data": {
      "text/plain": [
       "True"
      ]
     },
     "execution_count": 42,
     "metadata": {},
     "output_type": "execute_result"
    }
   ],
   "source": [
    "recalled = ((modelYear >=1995 and modelYear <=1998) or (modelYear >= 2004 and modelYear <= 2006))\n",
    "\n",
    "recalled"
   ]
  },
  {
   "cell_type": "markdown",
   "metadata": {},
   "source": [
    "Clunker Motors Inc. is recalling all vehicles from model years 1995-1998 and 2004-2006. Given a variable modelYear write a statement that assigns true to norecall if the value of modelYear does NOT fall within the two recall ranges and assigns false otherwise.\n",
    "\n",
    "Do not use an if statement in this exercise!\n",
    "\n"
   ]
  },
  {
   "cell_type": "code",
   "execution_count": 43,
   "metadata": {},
   "outputs": [
    {
     "data": {
      "text/plain": [
       "False"
      ]
     },
     "execution_count": 43,
     "metadata": {},
     "output_type": "execute_result"
    }
   ],
   "source": [
    "norecall = not((modelYear >=1995 and modelYear <=1998) or (modelYear >= 2004 and modelYear <= 2006))\n",
    "\n",
    "norecall"
   ]
  },
  {
   "cell_type": "markdown",
   "metadata": {},
   "source": [
    "Clunker Motors Inc. is recalling all vehicles from model years 1995-1998 and 2004-2006. Given a variable modelYear write a statement that prints the message \"RECALL\" to standard output if the value of modelYear falls within those two ranges."
   ]
  },
  {
   "cell_type": "code",
   "execution_count": 44,
   "metadata": {},
   "outputs": [
    {
     "name": "stdout",
     "output_type": "stream",
     "text": [
      "RECALL\n"
     ]
    }
   ],
   "source": [
    "if ((modelYear >= 1995 and modelYear <= 1998) or (modelYear >=2004 and modelYear<=2006)):\n",
    "\tprint(\"RECALL\")"
   ]
  },
  {
   "cell_type": "markdown",
   "metadata": {},
   "source": [
    "Clunker Motors Inc. is recalling all vehicles in its Extravagant line from model years 1999-2002. Given a variable modelYear and a String modelName write a statement that prints the message \"RECALL\" to standard output if the values of modelYear and modelName match the recall details."
   ]
  },
  {
   "cell_type": "code",
   "execution_count": 45,
   "metadata": {},
   "outputs": [],
   "source": [
    "if ((modelYear >= 1999 and modelYear <= 2002) and (modelName == \"Extravagant\")):\n",
    "\tprint(\"RECALL\")"
   ]
  },
  {
   "cell_type": "markdown",
   "metadata": {},
   "source": [
    "Clunker Motors Inc. is recalling all vehicles from model years 2001-2006. Given a variable modelYear write a statement that prints the message \"RECALL\" to standard output if the value of modelYear falls within that range."
   ]
  },
  {
   "cell_type": "code",
   "execution_count": 46,
   "metadata": {},
   "outputs": [
    {
     "name": "stdout",
     "output_type": "stream",
     "text": [
      "RECALL\n"
     ]
    }
   ],
   "source": [
    "if (modelYear >= 2001 and modelYear <= 2006):\n",
    "\tprint(\"RECALL\")"
   ]
  },
  {
   "cell_type": "markdown",
   "metadata": {},
   "source": [
    "Clunker Motors Inc. is recalling all vehicles from model years 2001-2006. Given a variable modelYear write a statement that prints the message \"NO RECALL\" to standard output if the value of modelYear DOES NOT fall within that range.\n",
    "\n"
   ]
  },
  {
   "cell_type": "code",
   "execution_count": 48,
   "metadata": {},
   "outputs": [],
   "source": [
    "if (modelYear > 2006 or modelYear < 2001):\n",
    "\tprint(\"NO RECALL\")"
   ]
  },
  {
   "cell_type": "markdown",
   "metadata": {},
   "source": [
    "#### 2.2.7 Another word on Assignments (Examples)"
   ]
  },
  {
   "cell_type": "markdown",
   "metadata": {},
   "source": [
    "Variables i and j each have associated values. Swap them, so that i becomes associated with j's original value, and j becomes associated with is original value. You can use two more variables itemp and jtemp.\n",
    "\n"
   ]
  },
  {
   "cell_type": "code",
   "execution_count": 49,
   "metadata": {},
   "outputs": [
    {
     "data": {
      "text/plain": [
       "(4, 5)"
      ]
     },
     "execution_count": 49,
     "metadata": {},
     "output_type": "execute_result"
    }
   ],
   "source": [
    "i=5\n",
    "j=4\n",
    "\n",
    "i,j=j,i\n",
    "\n",
    "i,j"
   ]
  },
  {
   "cell_type": "markdown",
   "metadata": {},
   "source": [
    "Given two already defined variables, i and j, write a statement that swaps their associated values.\n",
    "\n"
   ]
  },
  {
   "cell_type": "code",
   "execution_count": 50,
   "metadata": {},
   "outputs": [
    {
     "data": {
      "text/plain": [
       "(5, 4)"
      ]
     },
     "execution_count": 50,
     "metadata": {},
     "output_type": "execute_result"
    }
   ],
   "source": [
    "i, j=j, i\n",
    "\n",
    "i,j"
   ]
  },
  {
   "cell_type": "markdown",
   "metadata": {},
   "source": [
    "#### 2.2.10 Repetition: the While  Strategy"
   ]
  },
  {
   "cell_type": "markdown",
   "metadata": {},
   "source": [
    "Use the variables k and total to write a while loop that computes the sum of the squares of the first 50 counting numbers, and associates that value with total. Thus your code should associate 1*1 + 2*2 + 3*3 +... + 49*49 + 50*50 with total. Use no variables other than k and total.\n",
    "\n",
    "\n",
    "\n"
   ]
  },
  {
   "cell_type": "code",
   "execution_count": 51,
   "metadata": {},
   "outputs": [
    {
     "data": {
      "text/plain": [
       "42925"
      ]
     },
     "execution_count": 51,
     "metadata": {},
     "output_type": "execute_result"
    }
   ],
   "source": [
    "k=0\n",
    "total=0\n",
    "while k<50:\n",
    "\tk+=1\n",
    "\ttotal+=k*k\n",
    "    \n",
    "total"
   ]
  },
  {
   "cell_type": "markdown",
   "metadata": {},
   "source": [
    "Given that n refers to a positive int use a while loop to compute the sum of the cubes of the first n counting numbers, and associate this value with total. Use no variables other than n, k, and total."
   ]
  },
  {
   "cell_type": "code",
   "execution_count": 52,
   "metadata": {},
   "outputs": [
    {
     "data": {
      "text/plain": [
       "36"
      ]
     },
     "execution_count": 52,
     "metadata": {},
     "output_type": "execute_result"
    }
   ],
   "source": [
    "n=3\n",
    "\n",
    "total=0\n",
    "k=1\n",
    "while k<=n:\n",
    "\ttotal+=k**3\n",
    "\tk+=1\n",
    "\n",
    "total"
   ]
  },
  {
   "cell_type": "markdown",
   "metadata": {},
   "source": [
    "In this exercise, use the following variables: i,lo, hi, and result. Assume that lo and hi each are associated with an int and that result refers to 0.\n",
    "\n",
    "Write a while loop that adds the integers from lo up through hi (inclusive), and associates the sum with result.\n",
    "\n",
    "Your code should not change the values associated with lo and hi. Also, just use these variables: i,lo, hi, and result."
   ]
  },
  {
   "cell_type": "code",
   "execution_count": 57,
   "metadata": {},
   "outputs": [
    {
     "data": {
      "text/plain": [
       "15"
      ]
     },
     "execution_count": 57,
     "metadata": {},
     "output_type": "execute_result"
    }
   ],
   "source": [
    "lo=0\n",
    "hi=5\n",
    "\n",
    "i=lo\n",
    "result=0\n",
    "while i<=hi:\n",
    "\tresult=result+i\n",
    "\ti+=1\n",
    "result"
   ]
  },
  {
   "cell_type": "markdown",
   "metadata": {},
   "source": [
    "Assume there is a variable, h already associated with a positive integer value. Write the code necessary to compute the sum of the perfect squares whose value is less than h, starting with 1. (A perfect square is an integer like 9, 16, 25, 36 that is equal to the square of another integer (in this case 3*3, 4*4, 5*5, 6*6 respectively).) Associate the sum you compute with the variable q. For example, if h is 19, you would assign 30 to q because the perfect squares (starting with 1) that are less than h are: 1, 4, 9, 16 and 30==1+4+9+16."
   ]
  },
  {
   "cell_type": "code",
   "execution_count": 58,
   "metadata": {},
   "outputs": [
    {
     "data": {
      "text/plain": [
       "30"
      ]
     },
     "execution_count": 58,
     "metadata": {},
     "output_type": "execute_result"
    }
   ],
   "source": [
    "h=19\n",
    "\n",
    "i=1 \n",
    "q=0\n",
    "while ((i*i)<h): \n",
    "\tq=(i*i)+q\n",
    "\ti+=1\n",
    "\n",
    "q"
   ]
  },
  {
   "cell_type": "markdown",
   "metadata": {},
   "source": [
    "Assume there is a variable, h already associated with a positive integer value. Write the code necessary to count the number of perfect squares whose value is less than h, starting with 1. (A perfect square is an integer like 9, 16, 25, 36 that is equal to the square of another integer (in this case 3*3, 4*4, 5*5, 6*6 respectively).) Assign the sum you compute to a variable q For example, if h is 19, you would assign 4 to q because there are perfect squares (starting with 1) that are less than h are: 1, 4, 9, 16.\n",
    "\n"
   ]
  },
  {
   "cell_type": "code",
   "execution_count": 59,
   "metadata": {},
   "outputs": [
    {
     "data": {
      "text/plain": [
       "4"
      ]
     },
     "execution_count": 59,
     "metadata": {},
     "output_type": "execute_result"
    }
   ],
   "source": [
    "h=19\n",
    "\n",
    "i=1\n",
    "q=0\n",
    "while i*i<h: \n",
    "\tq=i\n",
    "\ti+=1\n",
    "\n",
    "q"
   ]
  },
  {
   "cell_type": "markdown",
   "metadata": {},
   "source": [
    "Assume there are two variables, k and m, each already associated with a positive integer value and further assume that k's value is smaller than m's. Write the code necessary to compute the number of perfect squares between k and m. (A perfect square is an integer like 9, 16, 25, 36 that is equal to the square of another integer (in this case 3*3, 4*4, 5*5, 6*6 respectively).) Associate the number you compute with the variable q. For example, if k and m had the values 10 and 40 respectively, you would assign 3 to q because between 10 and 40 there are these perfect squares: 16, 25, and 36,."
   ]
  },
  {
   "cell_type": "code",
   "execution_count": 60,
   "metadata": {},
   "outputs": [
    {
     "data": {
      "text/plain": [
       "3"
      ]
     },
     "execution_count": 60,
     "metadata": {},
     "output_type": "execute_result"
    }
   ],
   "source": [
    "k=10\n",
    "m=40\n",
    "\n",
    "i = 1\n",
    "q = 0\n",
    "while i * i < k :\n",
    "\ti += 1\n",
    "while i * i <= m :\n",
    "\tq += 1\n",
    "\ti += 1\n",
    "\n",
    "q"
   ]
  },
  {
   "cell_type": "markdown",
   "metadata": {},
   "source": [
    "#### 2.2.12 Summary of Repetition"
   ]
  },
  {
   "cell_type": "markdown",
   "metadata": {},
   "source": [
    "In the following sequence, each number (except the first two) is the sum of the previous two numbers: 0, 1, 1, 2, 3, 5, 8, 13, .... This sequence is known as the Fibonacci sequence.\n",
    "\n",
    "We speak of the i'th element of the sequence (starting at 0)-- thus the 0th element is 0, the 1st element is 1, the 2nd element is 1, the 3rd element is 2 and so on. Given the positive integer n, associate the nth value of the fibonacci sequence with the variable result. For example, if n is associated with the value 8 then result would be associated with 21.\n",
    "\n"
   ]
  },
  {
   "cell_type": "code",
   "execution_count": 61,
   "metadata": {},
   "outputs": [
    {
     "data": {
      "text/plain": [
       "21"
      ]
     },
     "execution_count": 61,
     "metadata": {},
     "output_type": "execute_result"
    }
   ],
   "source": [
    "def fib(n):\n",
    "\tif n <2:\n",
    "\t\treturn n\n",
    "\treturn fib(n-2)+fib(n-1)\n",
    "result=fib(n)\n",
    "\n",
    "fib(8)"
   ]
  },
  {
   "cell_type": "markdown",
   "metadata": {},
   "source": [
    "#### 2.2.13 More on the Statements"
   ]
  },
  {
   "cell_type": "markdown",
   "metadata": {},
   "source": [
    "Use two variables k and total to write a for loop to compute the sum of the squares of the first 50 counting numbers, and store this value in total. Thus, your code should put 1*1 + 2*2 + 3*3 +... + 49*49 + 50*50 into total. Use no variables other than k and total."
   ]
  },
  {
   "cell_type": "code",
   "execution_count": 62,
   "metadata": {},
   "outputs": [
    {
     "data": {
      "text/plain": [
       "42925"
      ]
     },
     "execution_count": 62,
     "metadata": {},
     "output_type": "execute_result"
    }
   ],
   "source": [
    "total=sum(k*k for k in range (1,51))\n",
    "total"
   ]
  },
  {
   "cell_type": "markdown",
   "metadata": {},
   "source": [
    "Given a variable n refers to a positive int value, use two additional variables, k and total to write a for loop to compute the sum of the cubes of the first n counting numbers, and store this value in total. Thus your code should put 1*1*1 + 2*2*2 + 3*3*3 +... + n*n*n into total. Use no variables other than n, k, and total.\n",
    "\n"
   ]
  },
  {
   "cell_type": "code",
   "execution_count": 63,
   "metadata": {},
   "outputs": [
    {
     "data": {
      "text/plain": [
       "36"
      ]
     },
     "execution_count": 63,
     "metadata": {},
     "output_type": "execute_result"
    }
   ],
   "source": [
    "k=0\n",
    "total=0\n",
    "for k in range (n+1):\n",
    "\ttotal=total +k*k*k\n",
    "    \n",
    "total"
   ]
  },
  {
   "cell_type": "markdown",
   "metadata": {},
   "source": [
    "Associate the average of the numbers from 1 to n (where n is a positive integer value) with the variable avg.\n",
    "\n"
   ]
  },
  {
   "cell_type": "code",
   "execution_count": 64,
   "metadata": {},
   "outputs": [
    {
     "data": {
      "text/plain": [
       "2.0"
      ]
     },
     "execution_count": 64,
     "metadata": {},
     "output_type": "execute_result"
    }
   ],
   "source": [
    "avg = (1+n)/2\n",
    "avg"
   ]
  },
  {
   "cell_type": "markdown",
   "metadata": {},
   "source": [
    "Assume there is a variable, h already associated with a positive integer value. Write the code necessary to compute the sum of the first h perfect squares, starting with 1. (A perfect square is an integer like 9, 16, 25, 36 that is equal to the square of another integer (in this case 3*3, 4*4, 5*5, 6*6 respectively).) Associate the sum you compute with the variable q. For example, if h is 4, you would assign 30 to q because the first 4 perfect squares (starting with 1) are: 1, 4, 9, 16 and 30==1+4+9+16.\n",
    "\n"
   ]
  },
  {
   "cell_type": "code",
   "execution_count": 65,
   "metadata": {},
   "outputs": [
    {
     "data": {
      "text/plain": [
       "30"
      ]
     },
     "execution_count": 65,
     "metadata": {},
     "output_type": "execute_result"
    }
   ],
   "source": [
    "h=4\n",
    "\n",
    "q=0\n",
    "for i in range(1,h+1):\n",
    "\tq+=i**2\n",
    "    \n",
    "q"
   ]
  },
  {
   "cell_type": "markdown",
   "metadata": {},
   "source": [
    "An arithmetic progression is a sequence of numbers in which the distance (or difference) between any two successive numbers if the same. This in the sequence 1, 3, 5, 7, ..., the distance is 2 while in the sequence 6, 12, 18, 24, ..., the distance is 6.\n",
    "\n",
    "Given the positive integer distance and the positive integer n, associate the variable sum with the sum of the elements of the arithmetic progression from 1 to n with distance distance. For example, if distance is 2 and n is 10, then sum would be associated with 25 because 1+3+5+7+9 = 25."
   ]
  },
  {
   "cell_type": "code",
   "execution_count": 66,
   "metadata": {},
   "outputs": [
    {
     "data": {
      "text/plain": [
       "25"
      ]
     },
     "execution_count": 66,
     "metadata": {},
     "output_type": "execute_result"
    }
   ],
   "source": [
    "distance=2\n",
    "n=10\n",
    "\n",
    "sum = 0\n",
    "for i in range(1, n+1, distance):\n",
    "\tsum += i\n",
    "\n",
    "sum"
   ]
  },
  {
   "cell_type": "markdown",
   "metadata": {},
   "source": [
    "Associate True with the variable is_ascending if the list numbers is in ascending order (that is, if each element of the list is greater than or equal to the previous element in the list). Otherwise, associate False with is_ascending "
   ]
  },
  {
   "cell_type": "code",
   "execution_count": 67,
   "metadata": {},
   "outputs": [
    {
     "data": {
      "text/plain": [
       "False"
      ]
     },
     "execution_count": 67,
     "metadata": {},
     "output_type": "execute_result"
    }
   ],
   "source": [
    "numbers = [1,2,3,5,4]\n",
    "\n",
    "is_ascending = True\n",
    "for n in range(1,len(numbers)):\n",
    "\tif numbers[n] < numbers[n-1]:\n",
    "\t\tis_ascending = False\n",
    "\t\tbreak\n",
    "\n",
    "is_ascending"
   ]
  },
  {
   "cell_type": "markdown",
   "metadata": {},
   "source": [
    "Given a positive integer n, assign True to is_prime if n has no factors other than 1 and itself. (Remember, m is a factor of n if m divides n evenly.)\n",
    "\n"
   ]
  },
  {
   "cell_type": "code",
   "execution_count": 68,
   "metadata": {},
   "outputs": [
    {
     "data": {
      "text/plain": [
       "True"
      ]
     },
     "execution_count": 68,
     "metadata": {},
     "output_type": "execute_result"
    }
   ],
   "source": [
    "n=11\n",
    "\n",
    "if n == 2:\n",
    "\tis_prime = True\n",
    "elif n % 2 == 0:\n",
    "\tis_prime = False\n",
    "else:\n",
    "\tis_prime = True \n",
    "\t\n",
    "for m in range (3, int (n * 0.5) + 1, 2): \n",
    "\tif n % m == 0: \n",
    "\t\tis_prime = False \n",
    "\tbreak\n",
    "    \n",
    "is_prime"
   ]
  },
  {
   "cell_type": "markdown",
   "metadata": {},
   "source": [
    "## Chapter 4 - Working with Strings (PART 4)"
   ]
  },
  {
   "cell_type": "markdown",
   "metadata": {},
   "source": [
    "#### 4.1 The String Type"
   ]
  },
  {
   "cell_type": "markdown",
   "metadata": {},
   "source": [
    "Write a String constant consisting of exactly 5 exclamation marks.\n",
    "\n"
   ]
  },
  {
   "cell_type": "code",
   "execution_count": 69,
   "metadata": {},
   "outputs": [
    {
     "data": {
      "text/plain": [
       "['!!!!!']"
      ]
     },
     "execution_count": 69,
     "metadata": {},
     "output_type": "execute_result"
    }
   ],
   "source": [
    "['!!!!!']"
   ]
  },
  {
   "cell_type": "markdown",
   "metadata": {},
   "source": [
    "Write a String constant that is the empty string.\n",
    "\n"
   ]
  },
  {
   "cell_type": "code",
   "execution_count": 70,
   "metadata": {},
   "outputs": [
    {
     "data": {
      "text/plain": [
       "''"
      ]
     },
     "execution_count": 70,
     "metadata": {},
     "output_type": "execute_result"
    }
   ],
   "source": [
    "\"\""
   ]
  },
  {
   "cell_type": "markdown",
   "metadata": {},
   "source": [
    "Initialize the variable foreground to \"black\"\n",
    "\n"
   ]
  },
  {
   "cell_type": "code",
   "execution_count": 71,
   "metadata": {},
   "outputs": [],
   "source": [
    "foreground=\"black\""
   ]
  },
  {
   "cell_type": "markdown",
   "metadata": {},
   "source": [
    "Associate the variable foreground with the value \"red\".\n",
    "\n"
   ]
  },
  {
   "cell_type": "code",
   "execution_count": 72,
   "metadata": {},
   "outputs": [],
   "source": [
    "foreground=\"red\""
   ]
  },
  {
   "cell_type": "markdown",
   "metadata": {},
   "source": [
    "Initialize the variable empty to the empty string.\n",
    "\n"
   ]
  },
  {
   "cell_type": "code",
   "execution_count": 73,
   "metadata": {},
   "outputs": [],
   "source": [
    "empty=\"\""
   ]
  },
  {
   "cell_type": "markdown",
   "metadata": {},
   "source": [
    "Associate two String variables named background and selectionColor with the values \"white\" and \"blue\" respectively.\n",
    "\n"
   ]
  },
  {
   "cell_type": "code",
   "execution_count": 74,
   "metadata": {},
   "outputs": [],
   "source": [
    "background=\"white\"\n",
    "selectionColor=\"blue\""
   ]
  },
  {
   "cell_type": "markdown",
   "metadata": {},
   "source": [
    "Associate the variable named text with the empty string.\n",
    "\n"
   ]
  },
  {
   "cell_type": "code",
   "execution_count": 75,
   "metadata": {},
   "outputs": [],
   "source": [
    "text = ''"
   ]
  },
  {
   "cell_type": "markdown",
   "metadata": {},
   "source": [
    "Initialize the variable oneSpace, to a string consisting of a single space.\n",
    "\n"
   ]
  },
  {
   "cell_type": "code",
   "execution_count": 76,
   "metadata": {},
   "outputs": [],
   "source": [
    "oneSpace = ' '"
   ]
  },
  {
   "cell_type": "markdown",
   "metadata": {},
   "source": [
    "#### 4.1.4 Strings as Sequence"
   ]
  },
  {
   "cell_type": "markdown",
   "metadata": {},
   "source": [
    "Assume that name is a variable of type String that has been assigned a value. Write an expression whose value is the first character of the value of name. So if the value of name were \"Smith\" the expression's value would be 'S'."
   ]
  },
  {
   "cell_type": "code",
   "execution_count": 77,
   "metadata": {},
   "outputs": [
    {
     "data": {
      "text/plain": [
       "'O'"
      ]
     },
     "execution_count": 77,
     "metadata": {},
     "output_type": "execute_result"
    }
   ],
   "source": [
    "name=\"Omer\"\n",
    "name[0]"
   ]
  },
  {
   "cell_type": "markdown",
   "metadata": {},
   "source": [
    "Given the String variable name, write an expression that evaluates to the third character of name. \n",
    "\n"
   ]
  },
  {
   "cell_type": "code",
   "execution_count": 78,
   "metadata": {},
   "outputs": [
    {
     "data": {
      "text/plain": [
       "'e'"
      ]
     },
     "execution_count": 78,
     "metadata": {},
     "output_type": "execute_result"
    }
   ],
   "source": [
    "name[2]"
   ]
  },
  {
   "cell_type": "markdown",
   "metadata": {},
   "source": [
    "Write an expression whose value is the last character in the str associated with s.\n",
    "\n"
   ]
  },
  {
   "cell_type": "code",
   "execution_count": 79,
   "metadata": {},
   "outputs": [
    {
     "data": {
      "text/plain": [
       "'r'"
      ]
     },
     "execution_count": 79,
     "metadata": {},
     "output_type": "execute_result"
    }
   ],
   "source": [
    "s=\"color\"\n",
    "s[-1]"
   ]
  },
  {
   "cell_type": "markdown",
   "metadata": {},
   "source": [
    "Write an expression whose value is the str that consists of the second to last character of the str associated with s.\n",
    "\n"
   ]
  },
  {
   "cell_type": "code",
   "execution_count": 80,
   "metadata": {},
   "outputs": [
    {
     "data": {
      "text/plain": [
       "'o'"
      ]
     },
     "execution_count": 80,
     "metadata": {},
     "output_type": "execute_result"
    }
   ],
   "source": [
    "s[-2]"
   ]
  },
  {
   "cell_type": "markdown",
   "metadata": {},
   "source": [
    "#### 4.1.5 More Indexing and Slicing"
   ]
  },
  {
   "cell_type": "markdown",
   "metadata": {},
   "source": [
    "Assume that name is a variable of type String that has been assigned a value. Write an expression whose value is a String containing the first character of the value of name. So if the value of name were \"Smith\" the expression's value would be \"S\".\n",
    "\n"
   ]
  },
  {
   "cell_type": "code",
   "execution_count": 81,
   "metadata": {},
   "outputs": [
    {
     "data": {
      "text/plain": [
       "'S'"
      ]
     },
     "execution_count": 81,
     "metadata": {},
     "output_type": "execute_result"
    }
   ],
   "source": [
    "name=\"Smith\"\n",
    "name[0]"
   ]
  },
  {
   "cell_type": "markdown",
   "metadata": {},
   "source": [
    "Write an expression whose value is the str that consists of the first four characters of the str associated with s.\n",
    "\n"
   ]
  },
  {
   "cell_type": "code",
   "execution_count": 82,
   "metadata": {},
   "outputs": [
    {
     "data": {
      "text/plain": [
       "'colo'"
      ]
     },
     "execution_count": 82,
     "metadata": {},
     "output_type": "execute_result"
    }
   ],
   "source": [
    "s[0 : 4]"
   ]
  },
  {
   "cell_type": "markdown",
   "metadata": {},
   "source": [
    "Write an expression whose value is the str that consists of the second through fifth characters of the str associated with s.\n",
    "\n"
   ]
  },
  {
   "cell_type": "code",
   "execution_count": 83,
   "metadata": {},
   "outputs": [
    {
     "data": {
      "text/plain": [
       "'olor'"
      ]
     },
     "execution_count": 83,
     "metadata": {},
     "output_type": "execute_result"
    }
   ],
   "source": [
    "s[1 : 5]"
   ]
  },
  {
   "cell_type": "markdown",
   "metadata": {},
   "source": [
    "Write an expression whose value is the str consisting of all the characters (starting with the sixth) of the str associated with s.\n",
    "\n"
   ]
  },
  {
   "cell_type": "code",
   "execution_count": 84,
   "metadata": {},
   "outputs": [
    {
     "data": {
      "text/plain": [
       "''"
      ]
     },
     "execution_count": 84,
     "metadata": {},
     "output_type": "execute_result"
    }
   ],
   "source": [
    "s[5 : ]"
   ]
  },
  {
   "cell_type": "markdown",
   "metadata": {},
   "source": [
    "Given that s refers to a string, write an expression that evaluates to a string that is a substring of s and that consists of all the characters of s from its start through its ninth character.\n",
    "\n"
   ]
  },
  {
   "cell_type": "code",
   "execution_count": 85,
   "metadata": {},
   "outputs": [
    {
     "data": {
      "text/plain": [
       "'color'"
      ]
     },
     "execution_count": 85,
     "metadata": {},
     "output_type": "execute_result"
    }
   ],
   "source": [
    "s[0 : 9]"
   ]
  },
  {
   "cell_type": "markdown",
   "metadata": {},
   "source": [
    "Assume that word is a variable of type String that has been assigned a value. Write an expression whose value is a String consisting of the first three characters of the value of word. So if the value of word were \"dystopia\" the expression's value would be \"dys\".\n",
    "\n"
   ]
  },
  {
   "cell_type": "code",
   "execution_count": 86,
   "metadata": {},
   "outputs": [
    {
     "data": {
      "text/plain": [
       "'dys'"
      ]
     },
     "execution_count": 86,
     "metadata": {},
     "output_type": "execute_result"
    }
   ],
   "source": [
    "word=\"dystopia\"\n",
    "word[0: 3]"
   ]
  },
  {
   "cell_type": "markdown",
   "metadata": {},
   "source": [
    "Assume that name is a variable of type String that has been assigned a value. Write an expression whose value is a String containing the second character of the value of name. So if the value of name were \"Smith\" the expression's value would be \"m\"."
   ]
  },
  {
   "cell_type": "code",
   "execution_count": 87,
   "metadata": {},
   "outputs": [
    {
     "data": {
      "text/plain": [
       "'m'"
      ]
     },
     "execution_count": 87,
     "metadata": {},
     "output_type": "execute_result"
    }
   ],
   "source": [
    "name[1:2]"
   ]
  },
  {
   "cell_type": "markdown",
   "metadata": {},
   "source": [
    "Write an expression that results in a String consisting of the third through tenth characters of the String s.\n",
    "\n"
   ]
  },
  {
   "cell_type": "code",
   "execution_count": 88,
   "metadata": {},
   "outputs": [
    {
     "data": {
      "text/plain": [
       "'lor'"
      ]
     },
     "execution_count": 88,
     "metadata": {},
     "output_type": "execute_result"
    }
   ],
   "source": [
    "s[2:10]"
   ]
  },
  {
   "cell_type": "markdown",
   "metadata": {},
   "source": [
    "#### 4.1.6 Strings are Iterable"
   ]
  },
  {
   "cell_type": "markdown",
   "metadata": {},
   "source": [
    "Given the strings s1 and s2 that are of the same length, create a new string consisting of the first character of s1 followed by the first character of s2, followed by the second character of s1, followed by the second character of s2, and so on (in other words the new string should consist of alternating characters of s1 and s2). For example, if s1 contained \"hello\" and s2 contained \"world\", then the new string should contain \"hweolrllod\". Associate the new string with the variable s3.\n",
    "\n"
   ]
  },
  {
   "cell_type": "code",
   "execution_count": 95,
   "metadata": {},
   "outputs": [
    {
     "data": {
      "text/plain": [
       "'hweolrllod'"
      ]
     },
     "execution_count": 95,
     "metadata": {},
     "output_type": "execute_result"
    }
   ],
   "source": [
    "s1=\"hello\"\n",
    "s2=\"world\"\n",
    "\n",
    "s3 = \"\"\n",
    "for i in range(len(s1)) : #for i in range(0, min(len(s1), len(s2))):\n",
    "\ts3 += s1[i] + s2[i]\n",
    "s3"
   ]
  },
  {
   "cell_type": "markdown",
   "metadata": {},
   "source": [
    "Given the strings s1 and s2 that are of the same length, create a new string consisting of the last character of s1 followed by the last character of s2, followed by the second to last character of s1, followed by the second to last character of s2, and so on (in other words the new string should consist of alternating characters of the reverse of s1 and s2). For example, if s1 contained hello\" and s2 contained \"world\", then the new string should contain \"odlllreohw\". Assign the new string to the variable s3.\n",
    "\n"
   ]
  },
  {
   "cell_type": "code",
   "execution_count": 97,
   "metadata": {},
   "outputs": [
    {
     "data": {
      "text/plain": [
       "'odlllreohw'"
      ]
     },
     "execution_count": 97,
     "metadata": {},
     "output_type": "execute_result"
    }
   ],
   "source": [
    "s3 = ''\n",
    "for i in range(len(s1)):\n",
    "\ts3 = s1[i] + s2[i]+ s3\n",
    "s3"
   ]
  },
  {
   "cell_type": "markdown",
   "metadata": {},
   "source": [
    "Given the strings s1 and s2, not necessarily of the same length, create a new string consisting of alternating characters of s1 and s2 (that is, the first character of s1 followed by the first character of s2, followed by the second character of s1, followed by the second character of s2, and so on. Once the end of either string is reached, no additional characters are added. For example, if s1 contained \"abc\" and s2 contained \"uvwxyz\", then the new string should contain \"aubvcw\". Assign the new string to the variable s3.\n",
    "\n"
   ]
  },
  {
   "cell_type": "code",
   "execution_count": 103,
   "metadata": {},
   "outputs": [
    {
     "data": {
      "text/plain": [
       "'aubvcw'"
      ]
     },
     "execution_count": 103,
     "metadata": {},
     "output_type": "execute_result"
    }
   ],
   "source": [
    "s1=\"abc\"\n",
    "s2=\"uvwxyz\"\n",
    "s3 = ''\n",
    "for i in range(len(s1)):\n",
    "    s3 = s3 + s1[i] + s2[i]\n",
    "s3"
   ]
  },
  {
   "cell_type": "markdown",
   "metadata": {},
   "source": [
    "Given the strings s1 and s2, not necessarily of the same length, create a new string consisting of alternating characters of s1 and s2 (that is, the first character of s1 followed by the first character of s2, followed by the second character of s1, followed by the second character of s2, and so on. Once the end of either string is reached, the remainder of the longer string is added to the end of the new string. For example, if s1 contained \"abc\" and s2 contained \"uvwxyz\", then the new string should contain \"aubvcwxyz\". Associate the new string with the variable s3.\n",
    "\n"
   ]
  },
  {
   "cell_type": "code",
   "execution_count": 108,
   "metadata": {},
   "outputs": [
    {
     "data": {
      "text/plain": [
       "'aubvcwxyz'"
      ]
     },
     "execution_count": 108,
     "metadata": {},
     "output_type": "execute_result"
    }
   ],
   "source": [
    "s3 = ''\n",
    "i = 0\n",
    "while i < len(s1) and i < len(s2):\n",
    "\ts3 += s1[i] + s2[i]\n",
    "\ti += 1\n",
    "if len(s1) > len(s2):\n",
    "\ts3 += s1[i:]\n",
    "elif len(s2) > len(s1):\n",
    "\ts3 += s2[i:]\n",
    "\n",
    "s3"
   ]
  },
  {
   "cell_type": "markdown",
   "metadata": {},
   "source": [
    "Given a variable t that is associated with a tuple whose elements are strings, write some statements that use a while loop to count the number of tuple elements that are 4-character strings and associate that number with the variable four_letter_word_count.\n",
    "\n"
   ]
  },
  {
   "cell_type": "code",
   "execution_count": 120,
   "metadata": {},
   "outputs": [
    {
     "data": {
      "text/plain": [
       "0"
      ]
     },
     "execution_count": 120,
     "metadata": {},
     "output_type": "execute_result"
    }
   ],
   "source": [
    "t=\"eros\"\n",
    "\n",
    "four_letter_word_count=0\n",
    "i=0\n",
    "while i<len(t):\n",
    "\tw=t[i]\n",
    "\tif len(w)==4:\n",
    "\t\tfour_letter_word_count += 1\n",
    "\ti += 1\n",
    "\n",
    "    \n",
    "four_letter_word_count "
   ]
  },
  {
   "cell_type": "markdown",
   "metadata": {},
   "source": [
    "Given a variable s that is associated with non-empty string, write some statements that use a while loop to associate a variable vowel_count with the number of lower-case vowels (\"a\",\"e\",\"i\",\"o\",\"u\") in the string .\n",
    "\n"
   ]
  },
  {
   "cell_type": "code",
   "execution_count": 124,
   "metadata": {},
   "outputs": [
    {
     "data": {
      "text/plain": [
       "2"
      ]
     },
     "execution_count": 124,
     "metadata": {},
     "output_type": "execute_result"
    }
   ],
   "source": [
    "vowel_count = 0\n",
    "s=\"color\"\n",
    "\n",
    "i = 0\n",
    "\n",
    "while i < len(s):\n",
    "\tif s[i] in (\"a\",\"e\",\"i\",\"o\",\"u\"):\n",
    "\t\tvowel_count += 1\n",
    "\ti += 1\n",
    "    \n",
    "vowel_count"
   ]
  },
  {
   "cell_type": "markdown",
   "metadata": {},
   "source": [
    "#### 4.2 String Operations (Examples)"
   ]
  },
  {
   "cell_type": "markdown",
   "metadata": {},
   "source": [
    "Given a String variable address, write a String expression consisting of the string \"http://\" concatenated with the variable's String value. So, if the variable refers to \"www.turingscraft.com\", the value of the expression would be \"http://www.turingscraft.com\".\n",
    "\n"
   ]
  },
  {
   "cell_type": "code",
   "execution_count": 127,
   "metadata": {
    "scrolled": true
   },
   "outputs": [
    {
     "data": {
      "text/plain": [
       "'http://www.turingscraft.com'"
      ]
     },
     "execution_count": 127,
     "metadata": {},
     "output_type": "execute_result"
    }
   ],
   "source": [
    "address=\"www.turingscraft.com\"\n",
    "\"http://\" + address"
   ]
  },
  {
   "cell_type": "markdown",
   "metadata": {},
   "source": [
    "Given a variable word that has been assigned a string value, write a string expression that parenthesizes the value of word. So, if word contains \"sadly\", the value of the expression would be the string \"(sadly)\"\n",
    "\n"
   ]
  },
  {
   "cell_type": "code",
   "execution_count": 129,
   "metadata": {},
   "outputs": [
    {
     "data": {
      "text/plain": [
       "'(sadly)'"
      ]
     },
     "execution_count": 129,
     "metadata": {},
     "output_type": "execute_result"
    }
   ],
   "source": [
    "word=\"sadly\"\n",
    "'(' + word + ')'"
   ]
  },
  {
   "cell_type": "markdown",
   "metadata": {},
   "source": [
    "Write an expression that is the concatenation of the strings \"Hello\" and \"World\".\n",
    "\n"
   ]
  },
  {
   "cell_type": "code",
   "execution_count": 132,
   "metadata": {},
   "outputs": [
    {
     "data": {
      "text/plain": [
       "'Hello World'"
      ]
     },
     "execution_count": 132,
     "metadata": {},
     "output_type": "execute_result"
    }
   ],
   "source": [
    "'Hello' + ' ' + 'World'"
   ]
  },
  {
   "cell_type": "markdown",
   "metadata": {},
   "source": [
    "Given a variable s that is associated with the empty string, write some statements that use a while loop to associate s with a string consisting of exactly 777 asterisks (*) .\n",
    "\n"
   ]
  },
  {
   "cell_type": "code",
   "execution_count": 146,
   "metadata": {},
   "outputs": [
    {
     "data": {
      "text/plain": [
       "'*********************************************************************************************************************************************************************************************************************************************************************************************************************************************************************************************************************************************************************************************************************************************************************************************************************************************************************************************************************************************************************************************************'"
      ]
     },
     "execution_count": 146,
     "metadata": {},
     "output_type": "execute_result"
    }
   ],
   "source": [
    "count = 0\n",
    "s=\"\"\n",
    "\n",
    "while count < 777:\n",
    "\ts += '*'\n",
    "\n",
    "\tcount += 1\n",
    "s"
   ]
  },
  {
   "cell_type": "markdown",
   "metadata": {},
   "source": [
    "Given a variable n that is associated with a positive integer and a variable s that is associated with the empty string, write some statements that use a while loop to associate s with a string consisting of exactly n asterisks (*) . (So if n were associated with 6 then s would, in the end, be associated with \"******\" .\n",
    "\n"
   ]
  },
  {
   "cell_type": "code",
   "execution_count": 147,
   "metadata": {},
   "outputs": [
    {
     "data": {
      "text/plain": [
       "'***************************************************************************************************************************************************************************************************************************************************************************************************************************************************************************************************************************************************************************************************************************************************************************************************************************************************************************************************************************************************************************************************************'"
      ]
     },
     "execution_count": 147,
     "metadata": {},
     "output_type": "execute_result"
    }
   ],
   "source": [
    "index = 0\n",
    "n=6\n",
    "\n",
    "while index < n:\n",
    "\ts+= '*'\n",
    "\n",
    "\tindex += 1\n",
    "s"
   ]
  },
  {
   "cell_type": "markdown",
   "metadata": {},
   "source": [
    "Given a variable n that is associated with a positive integer and a variable s that is associated with the empty string, write some statements that use a while loop to associate s with a string consisting of exactly 2n asterisks (*) . (So if n were associated with 4 then s would, in the end, be associated with \"********\" .\n",
    "\n"
   ]
  },
  {
   "cell_type": "code",
   "execution_count": 148,
   "metadata": {},
   "outputs": [
    {
     "data": {
      "text/plain": [
       "'***********************************************************************************************************************************************************************************************************************************************************************************************************************************************************************************************************************************************************************************************************************************************************************************************************************************************************************************************************************************************************************************************************************'"
      ]
     },
     "execution_count": 148,
     "metadata": {},
     "output_type": "execute_result"
    }
   ],
   "source": [
    "index = 0\n",
    "n=4\n",
    "\n",
    "while index < n:\n",
    "\ts += '*' * 2\n",
    "\n",
    "\tindex += 1\n",
    "s"
   ]
  },
  {
   "cell_type": "markdown",
   "metadata": {},
   "source": [
    "Assign True to the variable has_dups if the string s1 has any duplicate character (that is if any character appears more than once) and False otherwise\n",
    "\n"
   ]
  },
  {
   "cell_type": "code",
   "execution_count": 149,
   "metadata": {},
   "outputs": [],
   "source": [
    "has_dups = False\n",
    "\n",
    "s2 = ''\n",
    "for value in s1:\n",
    "\tif value not in s2:\n",
    "\t\ts2 += value\n",
    "\telse:\n",
    "\t\thas_dups = True\n",
    "\t\tbreak"
   ]
  },
  {
   "cell_type": "markdown",
   "metadata": {},
   "source": [
    "Assume that c is a variable that has assigned a string value. Write an expression whose value is true if and only if c is a newline character.\n",
    "\n"
   ]
  },
  {
   "cell_type": "code",
   "execution_count": 154,
   "metadata": {},
   "outputs": [
    {
     "data": {
      "text/plain": [
       "False"
      ]
     },
     "execution_count": 154,
     "metadata": {},
     "output_type": "execute_result"
    }
   ],
   "source": [
    "c=\"color\"\n",
    "c == '\\n'"
   ]
  },
  {
   "cell_type": "markdown",
   "metadata": {},
   "source": [
    "Assume that c is a variable has been assigned a string value. Write an expression whose value is true if and only if c is a tab character.\n",
    "\n"
   ]
  },
  {
   "cell_type": "code",
   "execution_count": 155,
   "metadata": {},
   "outputs": [
    {
     "data": {
      "text/plain": [
       "False"
      ]
     },
     "execution_count": 155,
     "metadata": {},
     "output_type": "execute_result"
    }
   ],
   "source": [
    "c==\"\\t\""
   ]
  },
  {
   "cell_type": "markdown",
   "metadata": {},
   "source": [
    "Given three int variables that have been given values, areaCode, exchange, and lastFour, write a string expression whose value is the string equivalent of each these variables joined by a single hyphen (-) So if areaCode, exchange, and lastFour, had the values 800, 555, and 1212, the expression's value would be \"800-555-1212\". Alternatively, if areaCode, exchange, and lastFour, had the values 212, 867 and 5309 the expression's value would be \"212-867-5309\". \n",
    "\n"
   ]
  },
  {
   "cell_type": "code",
   "execution_count": 156,
   "metadata": {},
   "outputs": [
    {
     "data": {
      "text/plain": [
       "'800-555-1212'"
      ]
     },
     "execution_count": 156,
     "metadata": {},
     "output_type": "execute_result"
    }
   ],
   "source": [
    "areaCode=800\n",
    "exchange=555\n",
    "lastFour=1212\n",
    "\n",
    "'%s-%s-%s' % (areaCode, exchange, lastFour)"
   ]
  },
  {
   "cell_type": "markdown",
   "metadata": {},
   "source": [
    "Given four int variables that have been given values, octet1, octet2, octet3, and octet4, write a string expression whose value is the string equivalent of each these variables joined by a single period (.) So if octet1, octet2, octet3, and octet4, had the values 129, 42, 26, and 212 the expression's value would be \"129.42.26.212\". Alternatively, if octet1, octet2, octet3, and octet4, had the values 192, 168, 1and 44 the expression's value would be \"192.168.1.44\". \n",
    "\n"
   ]
  },
  {
   "cell_type": "code",
   "execution_count": 157,
   "metadata": {},
   "outputs": [
    {
     "data": {
      "text/plain": [
       "'129.42.26.212'"
      ]
     },
     "execution_count": 157,
     "metadata": {},
     "output_type": "execute_result"
    }
   ],
   "source": [
    "octet1=129\n",
    "octet2=42\n",
    "octet3=26\n",
    "octet4=212\n",
    "\n",
    "str(octet1)+\".\"+str(octet2)+\".\"+str(octet3)+\".\"+str(octet4)"
   ]
  },
  {
   "cell_type": "markdown",
   "metadata": {},
   "source": [
    "Given three String variables that have been given values, firstName, middleName, and lastName, write an expression whose value is the initials of the three names: the first letter of each, joined together. So if firstName, middleName, and lastName, had the values \"John\", \"Fitzgerald\", and \"Kennedy\", the expression's value would be JFK\". Alternatively, if firstName, middleName, and lastName, had the values \"Franklin\", \"Delano\", and \"Roosevelt\", the expression's value would be \"FDR\". \n",
    "\n"
   ]
  },
  {
   "cell_type": "code",
   "execution_count": 158,
   "metadata": {},
   "outputs": [
    {
     "data": {
      "text/plain": [
       "'JFK'"
      ]
     },
     "execution_count": 158,
     "metadata": {},
     "output_type": "execute_result"
    }
   ],
   "source": [
    "firstName=\"John\"\n",
    "middleName=\"Fitzgerald\"\n",
    "lastName=\"Kennedy\"\n",
    "\n",
    "firstName[0] + middleName[0] + lastName[0]"
   ]
  },
  {
   "cell_type": "markdown",
   "metadata": {},
   "source": [
    "#### 4.3 A Preview of Functions and Methods "
   ]
  },
  {
   "cell_type": "markdown",
   "metadata": {},
   "source": [
    "Given the String variable address, write an expression that returns the position of the first occurrence of the String \"Avenue\" in address.\n",
    "\n"
   ]
  },
  {
   "cell_type": "code",
   "execution_count": 160,
   "metadata": {},
   "outputs": [
    {
     "data": {
      "text/plain": [
       "-1"
      ]
     },
     "execution_count": 160,
     "metadata": {},
     "output_type": "execute_result"
    }
   ],
   "source": [
    "address.find(\"Avenue\")"
   ]
  },
  {
   "cell_type": "markdown",
   "metadata": {},
   "source": [
    "Write a sequence of statements that finds the first comma in the string associated with the variable line, and associates the variable clause the portion of line up to, but not including the comma.\n",
    "\n"
   ]
  },
  {
   "cell_type": "code",
   "execution_count": 168,
   "metadata": {},
   "outputs": [
    {
     "data": {
      "text/plain": [
       "'Waiting'"
      ]
     },
     "execution_count": 168,
     "metadata": {},
     "output_type": "execute_result"
    }
   ],
   "source": [
    "line=\"Waiting, for the night\"\n",
    "clause = line.split(\",\")[0] # clause = line[0, line.find(',') ]\n",
    "clause"
   ]
  },
  {
   "cell_type": "markdown",
   "metadata": {},
   "source": [
    "Assume that sentence is a variable that has been associated with a string consisting of words separated by single space characters with a period at the end. For example: \"This is a possible value of sentence.\"\n",
    "\n",
    "Write the statements needed so that the variable secondWord is associated with the second word of the value of sentence . So, if the value of sentence were \"Broccoli is delicious.\" your code would associate secondWord with the value \"is\" .\n",
    "\n"
   ]
  },
  {
   "cell_type": "code",
   "execution_count": 172,
   "metadata": {},
   "outputs": [
    {
     "data": {
      "text/plain": [
       "'is'"
      ]
     },
     "execution_count": 172,
     "metadata": {},
     "output_type": "execute_result"
    }
   ],
   "source": [
    "sentence= \"Broccoli is delicious.\"\n",
    "secondWord = sentence[sentence.find(\" \")+1:]\n",
    "secondWord = secondWord[0: secondWord.find(\" \")]\n",
    "secondWord"
   ]
  },
  {
   "cell_type": "markdown",
   "metadata": {},
   "source": [
    "Write an expression that evaluates to True if the str associated with s starts with \"p\".\n",
    "\n"
   ]
  },
  {
   "cell_type": "code",
   "execution_count": 175,
   "metadata": {},
   "outputs": [
    {
     "data": {
      "text/plain": [
       "True"
      ]
     },
     "execution_count": 175,
     "metadata": {},
     "output_type": "execute_result"
    }
   ],
   "source": [
    "s=\"paris\"\n",
    "s[0] == 'p'"
   ]
  },
  {
   "cell_type": "markdown",
   "metadata": {},
   "source": [
    "Write an expression that returns False if the str associated with s begins with \"ecto\".\n",
    "\n"
   ]
  },
  {
   "cell_type": "code",
   "execution_count": 176,
   "metadata": {},
   "outputs": [
    {
     "data": {
      "text/plain": [
       "True"
      ]
     },
     "execution_count": 176,
     "metadata": {},
     "output_type": "execute_result"
    }
   ],
   "source": [
    "s[:4] != 'ecto'"
   ]
  },
  {
   "cell_type": "markdown",
   "metadata": {},
   "source": [
    "Write an expression that returns True if the str associated with s ends with \"ism\".\n",
    "\n"
   ]
  },
  {
   "cell_type": "code",
   "execution_count": 179,
   "metadata": {},
   "outputs": [
    {
     "data": {
      "text/plain": [
       "True"
      ]
     },
     "execution_count": 179,
     "metadata": {},
     "output_type": "execute_result"
    }
   ],
   "source": [
    "s=\"communism\"\n",
    "s[-3:] == 'ism'"
   ]
  },
  {
   "cell_type": "markdown",
   "metadata": {},
   "source": [
    "Write an expression whose value is True if all the letters in the str associated with s are all lower case.\n",
    "\n"
   ]
  },
  {
   "cell_type": "code",
   "execution_count": 180,
   "metadata": {},
   "outputs": [
    {
     "data": {
      "text/plain": [
       "True"
      ]
     },
     "execution_count": 180,
     "metadata": {},
     "output_type": "execute_result"
    }
   ],
   "source": [
    "s=\"communism\"\n",
    "s.islower()"
   ]
  },
  {
   "cell_type": "markdown",
   "metadata": {},
   "source": [
    "Write an expression whose value is True if all the letters in the str associated with s are upper case.\n",
    "\n"
   ]
  },
  {
   "cell_type": "code",
   "execution_count": 181,
   "metadata": {},
   "outputs": [
    {
     "data": {
      "text/plain": [
       "False"
      ]
     },
     "execution_count": 181,
     "metadata": {},
     "output_type": "execute_result"
    }
   ],
   "source": [
    "s.isupper()"
   ]
  },
  {
   "cell_type": "markdown",
   "metadata": {},
   "source": [
    "Write an expression whose value is the same as the str associated with s but with reversed case. Thus, if the str associated with s is \"McGraw\", the value of the expression would be \"mCgRAW\".\n",
    "\n"
   ]
  },
  {
   "cell_type": "code",
   "execution_count": 182,
   "metadata": {},
   "outputs": [
    {
     "data": {
      "text/plain": [
       "'mCgRAW'"
      ]
     },
     "execution_count": 182,
     "metadata": {},
     "output_type": "execute_result"
    }
   ],
   "source": [
    "s=\"McGraw\"\n",
    "s.swapcase()"
   ]
  },
  {
   "cell_type": "markdown",
   "metadata": {},
   "source": [
    "Given a variable s associated with a str, write an expression whose value is a str that is identical except that all the letters in it are upper-case. Thus, if the str associated with s were \"McGraw15\", the value of the expression would be \"MCGRAW15\".\n",
    "\n"
   ]
  },
  {
   "cell_type": "code",
   "execution_count": 183,
   "metadata": {},
   "outputs": [
    {
     "data": {
      "text/plain": [
       "'MCGRAW15'"
      ]
     },
     "execution_count": 183,
     "metadata": {},
     "output_type": "execute_result"
    }
   ],
   "source": [
    "s=\"McGraw15\"\n",
    "s.upper()"
   ]
  },
  {
   "cell_type": "markdown",
   "metadata": {},
   "source": [
    "Write an expression whose value is the same as the str associated with s but with all lower caseletters. Thus, if the str associated with s were \"McGraw15\", the value of the expression would be \"mcgraw15\".\n",
    "\n"
   ]
  },
  {
   "cell_type": "code",
   "execution_count": 184,
   "metadata": {},
   "outputs": [
    {
     "data": {
      "text/plain": [
       "'mcgraw15'"
      ]
     },
     "execution_count": 184,
     "metadata": {},
     "output_type": "execute_result"
    }
   ],
   "source": [
    "s.lower()"
   ]
  },
  {
   "cell_type": "markdown",
   "metadata": {},
   "source": [
    "Given variables first and last, each of which is associated with a str, representing a first and a last name, respectively. Write an expression whose value is a str that is a full name of the form \"Last, First\". So, if first were associated with \"alan\" and last with \"turing\", then your expression would be \"Turing,Alan\". (Note the capitalization! Note: no spaces!) And if first and last were \"Florean\" and \"fortescue\" respectively, then your expression's value would be \"Fortescue,Florean\".\n",
    "\n"
   ]
  },
  {
   "cell_type": "code",
   "execution_count": 188,
   "metadata": {},
   "outputs": [
    {
     "data": {
      "text/plain": [
       "'Turing,Alan'"
      ]
     },
     "execution_count": 188,
     "metadata": {},
     "output_type": "execute_result"
    }
   ],
   "source": [
    "last=\"turing\"\n",
    "first=\"alan\"\n",
    "last[0].upper() + last[1:].lower() + ',' + first[0].upper() + first[1:].lower()"
   ]
  },
  {
   "cell_type": "markdown",
   "metadata": {},
   "source": [
    "#### 4.4 Formatted Output for Strings"
   ]
  },
  {
   "cell_type": "markdown",
   "metadata": {},
   "source": [
    "Write code to assign to the variable format a formatting string that will display three values referenced by the variables quantity (type int), description (type str), and unitPrice (type float) in the format illustrated by: (type \"_10 One-inch Three-ring binder_____________ $___5.50\"). The quantity is displayed right-justified in 3 print positions, the description is displayed left-justified in 30 print positions, and the amount is displayed after a dollar sign with a total of 7 print positions and two digits after the decimal point. In the example, an underscore character is used to indicate the presence of a filler space. The underscores are not part of the actual string.\n",
    "\n"
   ]
  },
  {
   "cell_type": "code",
   "execution_count": 190,
   "metadata": {},
   "outputs": [],
   "source": [
    "format = \"%3d % - 30s $%7.2f\""
   ]
  },
  {
   "cell_type": "markdown",
   "metadata": {},
   "source": [
    "#### 4.5 Control and Strings"
   ]
  },
  {
   "cell_type": "markdown",
   "metadata": {},
   "source": [
    "Given a String variable named sentence that has been initialized, write an expression whose value is the number of characters in the String referred to by sentence.\n",
    "\n"
   ]
  },
  {
   "cell_type": "code",
   "execution_count": 193,
   "metadata": {},
   "outputs": [
    {
     "data": {
      "text/plain": [
       "22"
      ]
     },
     "execution_count": 193,
     "metadata": {},
     "output_type": "execute_result"
    }
   ],
   "source": [
    "sentence='Broccoli is delicious.'\n",
    "len(sentence)"
   ]
  },
  {
   "cell_type": "markdown",
   "metadata": {},
   "source": [
    "Given a String variable named sentence that has been initialized, write an expression whose value is the index of the very last character in the String referred to by sentence.\n",
    "\n"
   ]
  },
  {
   "cell_type": "code",
   "execution_count": 195,
   "metadata": {},
   "outputs": [
    {
     "data": {
      "text/plain": [
       "21"
      ]
     },
     "execution_count": 195,
     "metadata": {},
     "output_type": "execute_result"
    }
   ],
   "source": [
    "len(sentence)-1"
   ]
  },
  {
   "cell_type": "markdown",
   "metadata": {},
   "source": [
    "Given a String variable named sentence that has been initialized, write an expression whose value is the the very last character in the String referred to by sentence.\n",
    "\n"
   ]
  },
  {
   "cell_type": "code",
   "execution_count": 196,
   "metadata": {},
   "outputs": [
    {
     "data": {
      "text/plain": [
       "'.'"
      ]
     },
     "execution_count": 196,
     "metadata": {},
     "output_type": "execute_result"
    }
   ],
   "source": [
    "sentence[len(sentence) - 1]"
   ]
  },
  {
   "cell_type": "markdown",
   "metadata": {},
   "source": [
    "Assume that word is a variable of type String that has been assigned a value. Write an expression whose value is a String consisting of the last three characters of the value of word. So if the value of word were \"biggest\" the expression's value would be \"est\".\n",
    "\n"
   ]
  },
  {
   "cell_type": "code",
   "execution_count": 197,
   "metadata": {},
   "outputs": [
    {
     "data": {
      "text/plain": [
       "'est'"
      ]
     },
     "execution_count": 197,
     "metadata": {},
     "output_type": "execute_result"
    }
   ],
   "source": [
    "word=\"biggest\"\n",
    "word[len(word) - 3:len(word)]"
   ]
  },
  {
   "cell_type": "markdown",
   "metadata": {},
   "source": [
    "Assume that name is a variable of type String that has been assigned a value. Write an expression whose value is a String containing the last character of the value of name. So if the value of name were \"Smith\" the expression's value would be \"h\".\n",
    "\n"
   ]
  },
  {
   "cell_type": "code",
   "execution_count": 198,
   "metadata": {},
   "outputs": [
    {
     "data": {
      "text/plain": [
       "'h'"
      ]
     },
     "execution_count": 198,
     "metadata": {},
     "output_type": "execute_result"
    }
   ],
   "source": [
    "name=\"Smith\"\n",
    "name[len(name) - 1:len(name)]"
   ]
  },
  {
   "cell_type": "markdown",
   "metadata": {},
   "source": [
    "#### MPL Extra: comparisons and ranges"
   ]
  },
  {
   "cell_type": "markdown",
   "metadata": {},
   "source": [
    "Assume that c is a string variable has been given a value. Write an expression whose value is true if and only if c is NOT what is called a whitespace character (that is a space or a tab or a newline-- none of which result in ink being printed on paper).\n",
    "\n"
   ]
  },
  {
   "cell_type": "code",
   "execution_count": 199,
   "metadata": {},
   "outputs": [
    {
     "data": {
      "text/plain": [
       "True"
      ]
     },
     "execution_count": 199,
     "metadata": {},
     "output_type": "execute_result"
    }
   ],
   "source": [
    "(c != \" \") and (c!=\"\\t\") and (c!=\"\\n\")"
   ]
  },
  {
   "cell_type": "markdown",
   "metadata": {},
   "source": [
    "Assume that x is a string variable has been given a value. Write an expression whose value is true if and only if x is a lower-case letter.\n",
    "\n"
   ]
  },
  {
   "cell_type": "code",
   "execution_count": 201,
   "metadata": {},
   "outputs": [
    {
     "data": {
      "text/plain": [
       "True"
      ]
     },
     "execution_count": 201,
     "metadata": {},
     "output_type": "execute_result"
    }
   ],
   "source": [
    "x=\"barber\"\n",
    "(x>=\"a\")"
   ]
  },
  {
   "cell_type": "markdown",
   "metadata": {},
   "source": [
    "Assume that x is a string variable has been given a value. Write an expression whose value is true if and only if x is a decimal digit (0-9).\n",
    "\n"
   ]
  },
  {
   "cell_type": "code",
   "execution_count": 208,
   "metadata": {
    "scrolled": false
   },
   "outputs": [
    {
     "data": {
      "text/plain": [
       "True"
      ]
     },
     "execution_count": 208,
     "metadata": {},
     "output_type": "execute_result"
    }
   ],
   "source": [
    "x=\"5\"\n",
    "\n",
    "x.isdigit() # (x>=\"0\") and (x<=\"9\")"
   ]
  },
  {
   "cell_type": "markdown",
   "metadata": {},
   "source": [
    "Assume that x is a string variable has been given a value. Write an expression whose value is true if and only if x is an octal (Base 8) digit (0-7).\n",
    "\n"
   ]
  },
  {
   "cell_type": "code",
   "execution_count": 209,
   "metadata": {},
   "outputs": [
    {
     "data": {
      "text/plain": [
       "True"
      ]
     },
     "execution_count": 209,
     "metadata": {},
     "output_type": "execute_result"
    }
   ],
   "source": [
    "x>='0' and x<='7'"
   ]
  },
  {
   "cell_type": "markdown",
   "metadata": {},
   "source": [
    "Assume that x is a string variable has been given a value. Write an expression whose value is true if and only if x is a letter.\n",
    "\n"
   ]
  },
  {
   "cell_type": "code",
   "execution_count": 211,
   "metadata": {},
   "outputs": [
    {
     "data": {
      "text/plain": [
       "False"
      ]
     },
     "execution_count": 211,
     "metadata": {},
     "output_type": "execute_result"
    }
   ],
   "source": [
    "((x >= \"A\") and (x <= \"Z\")) or ((x >= \"a\") and (x <= \"z\")) #x.isalpha()"
   ]
  },
  {
   "cell_type": "markdown",
   "metadata": {},
   "source": [
    "Assume that x is a string variable has been given a value. Write an expression whose value is true if and only if x is alphanumeric, that is either a letter or a decimal digit.\n",
    "\n"
   ]
  },
  {
   "cell_type": "code",
   "execution_count": 212,
   "metadata": {},
   "outputs": [
    {
     "data": {
      "text/plain": [
       "True"
      ]
     },
     "execution_count": 212,
     "metadata": {},
     "output_type": "execute_result"
    }
   ],
   "source": [
    "((x >= \"A\") and (x <= \"Z\")) or ((x >= \"a\") and (x <= \"z\")) or ((x>=\"0\") and (x<=\"9\"))  #x.isalnum()"
   ]
  },
  {
   "cell_type": "markdown",
   "metadata": {},
   "source": [
    "Assume that x is a string variable has been given a value. Write an expression whose value is true if and only if x is an hexadecimal (Base 16) digit (0-9 plus A-F or a-f).\n",
    "\n"
   ]
  },
  {
   "cell_type": "code",
   "execution_count": 213,
   "metadata": {},
   "outputs": [
    {
     "data": {
      "text/plain": [
       "True"
      ]
     },
     "execution_count": 213,
     "metadata": {},
     "output_type": "execute_result"
    }
   ],
   "source": [
    "(( x>='0'and x<='9') or ( x>='a'and x<='f' ) or ( x>='A' and x<='F')) "
   ]
  },
  {
   "cell_type": "markdown",
   "metadata": {},
   "source": [
    "Assume that x is a string variable has been given a value. Write an expression whose value is true if and only if x is NOT a upper-case letter.\n",
    "\n"
   ]
  },
  {
   "cell_type": "code",
   "execution_count": 214,
   "metadata": {},
   "outputs": [
    {
     "data": {
      "text/plain": [
       "True"
      ]
     },
     "execution_count": 214,
     "metadata": {},
     "output_type": "execute_result"
    }
   ],
   "source": [
    "not (x>='A' and x<='Z') #not x.isupper()"
   ]
  },
  {
   "cell_type": "markdown",
   "metadata": {},
   "source": [
    "Assume that x is a string variable has been given a value. Write an expression whose value is true if and only if x is NOT a letter.\n",
    "\n"
   ]
  },
  {
   "cell_type": "code",
   "execution_count": 215,
   "metadata": {},
   "outputs": [
    {
     "data": {
      "text/plain": [
       "True"
      ]
     },
     "execution_count": 215,
     "metadata": {},
     "output_type": "execute_result"
    }
   ],
   "source": [
    "not ((x >= 'A' and x <='Z') or (x >= 'a' and x <='z')) #not x.isalpha()"
   ]
  },
  {
   "cell_type": "markdown",
   "metadata": {},
   "source": [
    "Assume that c is a variable has been assgned a string value. Write an expression whose value is true if and only if c is what is called a whitespace character (that is a space or a tab or a newline-- none of which result in ink being printed on paper).\n",
    "\n"
   ]
  },
  {
   "cell_type": "code",
   "execution_count": 217,
   "metadata": {},
   "outputs": [
    {
     "data": {
      "text/plain": [
       "False"
      ]
     },
     "execution_count": 217,
     "metadata": {},
     "output_type": "execute_result"
    }
   ],
   "source": [
    "(c == ' ' or c == '\\t' or c == '\\n') #c.isspace()"
   ]
  },
  {
   "cell_type": "markdown",
   "metadata": {},
   "source": [
    "Assume that x is a string variable has been given a value. Write an expression whose value is true if and only if x is a upper-case letter.\n",
    "\n"
   ]
  },
  {
   "cell_type": "code",
   "execution_count": 218,
   "metadata": {},
   "outputs": [
    {
     "data": {
      "text/plain": [
       "False"
      ]
     },
     "execution_count": 218,
     "metadata": {},
     "output_type": "execute_result"
    }
   ],
   "source": [
    "(x>='A' and x<='Z') # x.isupper()  or x != x.lower()"
   ]
  },
  {
   "cell_type": "markdown",
   "metadata": {},
   "source": [
    "Assume that s is a String . Write an expression whose value is true if and only if the value of s would come between \"mortgage\" and \"mortuary\" in the dictionary.\n",
    "\n"
   ]
  },
  {
   "cell_type": "code",
   "execution_count": 221,
   "metadata": {},
   "outputs": [
    {
     "data": {
      "text/plain": [
       "False"
      ]
     },
     "execution_count": 221,
     "metadata": {},
     "output_type": "execute_result"
    }
   ],
   "source": [
    "s=\"McGraw15\"\n",
    "s > \"mortgage\" and s < \"mortuary\""
   ]
  },
  {
   "cell_type": "markdown",
   "metadata": {},
   "source": [
    "#### MPL Extra: Conditional String Expressions"
   ]
  },
  {
   "cell_type": "markdown",
   "metadata": {},
   "source": [
    "Assume that month is an int variable whose value is 1 or 2 or 3 or 5 ... or 11 or 12. Write an expression whose value is \"jan\" or \"feb\" or \"mar\" or \"apr\" or \"may\" or \"jun\" or \"jul\" or \"aug\" or \"sep\" or \"oct\" or \"nov\" or \"dec\" based on the value of month. (So, if the value of month were 4 then the value of the expression would be \"apr\".).\n",
    "\n"
   ]
  },
  {
   "cell_type": "code",
   "execution_count": 235,
   "metadata": {},
   "outputs": [
    {
     "name": "stdout",
     "output_type": "stream",
     "text": [
      "jun\n"
     ]
    }
   ],
   "source": [
    "month=6\n",
    "\n",
    "if month == 1:\n",
    "\tprint(\"jan\")\n",
    "elif month == 2:\n",
    "\tprint(\"feb\")\n",
    "elif month == 3:\n",
    "\tprint(\"mar\")\n",
    "elif month == 4:\n",
    "\tprint(\"apr\")\n",
    "elif month == 5:\n",
    "\tprint(\"may\")\n",
    "elif month == 6:\n",
    "\tprint(\"jun\")\n",
    "elif month == 7:\n",
    "\tprint(\"jul\")\n",
    "elif month == 8:\n",
    "\tprint(\"aug\")\n",
    "elif month == 9:\n",
    "\tprint(\"sep\")\n",
    "elif month == 10:\n",
    "\tprint(\"oct\")\n",
    "elif month == 11:\n",
    "\tprint(\"nov\")\n",
    "elif month == 12:\n",
    "\tprint(\"dec\")"
   ]
  },
  {
   "cell_type": "code",
   "execution_count": 228,
   "metadata": {},
   "outputs": [
    {
     "data": {
      "text/plain": [
       "'jun'"
      ]
     },
     "execution_count": 228,
     "metadata": {},
     "output_type": "execute_result"
    }
   ],
   "source": [
    "month=6\n",
    "[\"jan\", \"feb\", \"mar\", \"apr\", \"may\", \"jun\", \"jul\", \"aug\", \"sep\", \"oct\", \"nov\", \"dec\"][month-1]\n"
   ]
  },
  {
   "cell_type": "markdown",
   "metadata": {},
   "source": [
    "Assume that credits is an int variable whose value is 0 or positive. Write an expression whose value is \"freshman\" or \"sophomore\" or \"junior\" or \"senior\" based on the value of credits. In particular: if the value of credits is less than 30 the expression's value is \"freshman\"; 30-59 would be a \"sophomore\", 60-89 would be \"junior\" and 90 or more would be a \"senior\".\n",
    "\n"
   ]
  },
  {
   "cell_type": "code",
   "execution_count": 241,
   "metadata": {},
   "outputs": [
    {
     "data": {
      "text/plain": [
       "'sophomore'"
      ]
     },
     "execution_count": 241,
     "metadata": {},
     "output_type": "execute_result"
    }
   ],
   "source": [
    "credits=55\n",
    "\n",
    "'freshman' if credits < 30 else ('sophomore' if credits < 60 else ('junior' if credits < 90 else 'senior'))\n"
   ]
  },
  {
   "cell_type": "code",
   "execution_count": 242,
   "metadata": {},
   "outputs": [
    {
     "data": {
      "text/plain": [
       "'sophomore'"
      ]
     },
     "execution_count": 242,
     "metadata": {},
     "output_type": "execute_result"
    }
   ],
   "source": [
    "\"freshman\" if (credits < 30) else (\"sophomore\" if (credits < 60) else (\"junior\" if (credits < 90) else \"senior\"))\n"
   ]
  },
  {
   "cell_type": "code",
   "execution_count": 243,
   "metadata": {},
   "outputs": [
    {
     "data": {
      "text/plain": [
       "'sophomore'"
      ]
     },
     "execution_count": 243,
     "metadata": {},
     "output_type": "execute_result"
    }
   ],
   "source": [
    "'freshman' if(credits<30) else 'sophomore' if(30<=credits<=59) else 'junior' if(60<=credits<=89) else'senior'\n"
   ]
  },
  {
   "cell_type": "code",
   "execution_count": 244,
   "metadata": {},
   "outputs": [
    {
     "data": {
      "text/plain": [
       "'sophomore'"
      ]
     },
     "execution_count": 244,
     "metadata": {},
     "output_type": "execute_result"
    }
   ],
   "source": [
    "\"freshman\" if credits < 30 else \"\"\n",
    "\"senior\" if credits > 89 else \"\"\n",
    "\"junior\" if credits > 59 else \"\"\n",
    "\"sophomore\" if credits > 29 else \"\""
   ]
  },
  {
   "cell_type": "markdown",
   "metadata": {},
   "source": [
    "#### Programming Projects"
   ]
  },
  {
   "cell_type": "markdown",
   "metadata": {},
   "source": [
    "A cookie recipe calls for the following ingredients:\n",
    "* 1.5 cups of sugar\n",
    "* 1 cup of butter\n",
    "* 2.75 cups of flour\n",
    "\n",
    "The recipe produces 48 cookies with this amount of ingredients. Write a program \n",
    "that asks the user how many cookies they want to make and then displays the number \n",
    "of cups of each ingredient needed for the specified number of cookies in the following format:\n",
    "\n",
    "You need 5 cups of sugar, 3 cups of butter, and 7 cups of flour. "
   ]
  },
  {
   "cell_type": "code",
   "execution_count": 246,
   "metadata": {},
   "outputs": [
    {
     "name": "stdout",
     "output_type": "stream",
     "text": [
      "Enter number of cookies:25\n",
      "You need 0.78125 cups of sugar, 0.5208333333333334 cups of butter, and 1.4322916666666667 cups of flour.\n"
     ]
    }
   ],
   "source": [
    "cookies=input('Enter number of cookies:')\n",
    "x=(int(cookies))\n",
    "s=(x/48)*1.5\n",
    "b=(x/48)*1\n",
    "f=(x/48)*2.75\n",
    "print(\"You need \"+str(s)+\" cups of sugar, \"+str(b)+\" cups of butter,\" \" and \" +str(f)+\" cups of flour.\")"
   ]
  },
  {
   "cell_type": "markdown",
   "metadata": {},
   "source": [
    "You decide to buy some stocks for a certain price and then sell them at another\n",
    "price. Write a program that determines whether or not the transaction was \n",
    "profitable. Here are the details:\n",
    "\n",
    "* Take three separate inputs: the number of shares, the purchase\n",
    "price of the stocks, and the sale price, in that order.\n",
    "* You purchase the number of stocks determined by the input.\n",
    "* When you purchase the stocks, you pay the price determined by the input.\n",
    "* You pay your stockbroker a commission of 3 percent on the amount paid for\n",
    "the stocks.\n",
    "* Later, you sell the all of the stocks for the price determined by the input.\n",
    "* You pay your stockbroker another commission of 3 percent on the amount\n",
    "you received for the stock.\n",
    "\n",
    "Your program should calculate your net gain or loss during this transaction and\n",
    "print it in the following format: \n",
    "\n",
    "If your transaction was profitable (or if there was a net gain/loss of 0) print:\n",
    "* \"After the transaction, you made 300 dollars.\" \n",
    "* (If, for example, you gained 300 dollars during the transaction.)\n",
    "\n",
    "If your transaction was not profitable, print:\n",
    "* \"After the transaction, you lost 300 dollars.\"\n",
    "* (If, for example, you lost 300 dollars during the transaction.)\n",
    "\n",
    "Use string formatting.\n",
    "\n",
    "\n"
   ]
  },
  {
   "cell_type": "code",
   "execution_count": 247,
   "metadata": {},
   "outputs": [
    {
     "name": "stdout",
     "output_type": "stream",
     "text": [
      "Enter number of shares:5\n",
      "Enter purchase price:20\n",
      "Enter sale price:25\n",
      "After the transaction, you gained 18.25 dollars.\n"
     ]
    }
   ],
   "source": [
    "shares=int(input(\"Enter number of shares:\"))\n",
    "\n",
    "price1=float(input(\"Enter purchase price:\"))\n",
    "\n",
    "price2=float(input(\"Enter sale price:\"))\n",
    "\n",
    "profit=0-(price2 * 0.97*shares)+(price1*1.03*shares)\n",
    "\n",
    "loss=0-profit\n",
    "\n",
    "if(profit>0):\n",
    "\tprint(\"After the transaction, you lost \" +str(profit)+ \" dollars.\")\n",
    "\n",
    "elif(profit<0):\n",
    "\tprint(\"After the transaction, you gained \" +str(loss)+ \" dollars.\")"
   ]
  },
  {
   "cell_type": "markdown",
   "metadata": {},
   "source": [
    "The great circle distance is the distance between two points on the surface of a sphere. Let (x1, y1) and (x2, y2) be the geographical latitude and longitude of two points. The great circle distance between the two points can be calculated using the following formula:\n",
    "\n",
    "d = radius * arccos(sin(x1) * sin(x2) + cos(x1) * cos(x2) * cos(y1 - y2))\n",
    "\n",
    "Write a program that prompts the user to enter the latitude and longitude of the two points on the earth in degrees and displays their great circle distance. You should use the .format() method to print the distance up to two decimal places.\n",
    "\n",
    "Note that the average radius of the earth is 6,371.01 km. Also note that you have to convert the degrees into radians using the math.radians function since the Python trigonometric functions use radians. \n",
    "\n",
    "\n",
    "##### SAMPLE RUN 1\n",
    "\n",
    "Interactive Session\n",
    "* Enter point 1 (latitude and longitude in degrees):40.431677, 116.570992\n",
    "* Enter point 2 (latitude and longitude in degrees):37.819877, -122.478939\n",
    "* 9443.40\n"
   ]
  },
  {
   "cell_type": "code",
   "execution_count": 249,
   "metadata": {},
   "outputs": [
    {
     "name": "stdout",
     "output_type": "stream",
     "text": [
      "Enter point 1 (latitude and longitude in degrees):40.431677, 116.570992\n",
      "Enter point 2 (latitude and longitude in degrees):37.819877, -122.478939\n",
      "9443.40\n"
     ]
    }
   ],
   "source": [
    "import math\n",
    "\n",
    "x1, y1 = [float(x) for x in input(\"Enter point 1 (latitude and longitude in degrees):\").split(',')]\n",
    "x2, y2 = [float(x) for x in input(\"Enter point 2 (latitude and longitude in degrees):\").split(',')]\n",
    "radius = 6371.01\n",
    "\n",
    "x1, y1 = math.radians(x1), math.radians(y1)\n",
    "x2, y2 = math.radians(x2), math.radians(y2)\n",
    "\n",
    "d = radius * math.acos(math.sin(x1) * math.sin(x2) + math.cos(x1) * math.cos(x2) * math.cos(y1 - y2))\n",
    "\n",
    "print(\"%0.2f\" % (d))"
   ]
  },
  {
   "cell_type": "markdown",
   "metadata": {},
   "source": [
    "## Chapter 5 - FUNCTIONS AND QUICKSTART"
   ]
  },
  {
   "cell_type": "markdown",
   "metadata": {},
   "source": [
    "#### 6.2 Python Functions (Examples)"
   ]
  },
  {
   "cell_type": "markdown",
   "metadata": {},
   "source": [
    "Write the code to call the function named send_signal. There are no parameters for this function.\n",
    "\n"
   ]
  },
  {
   "cell_type": "code",
   "execution_count": 253,
   "metadata": {},
   "outputs": [],
   "source": [
    "# send_signal()"
   ]
  },
  {
   "cell_type": "markdown",
   "metadata": {},
   "source": [
    "Write the code to call a function named send_two and that expects two parameters: a float and an int. Invoke this function with 15.955 and 133 as arguments.\n",
    "\n"
   ]
  },
  {
   "cell_type": "code",
   "execution_count": 254,
   "metadata": {},
   "outputs": [],
   "source": [
    "# send_two(15.955,133)"
   ]
  },
  {
   "cell_type": "markdown",
   "metadata": {},
   "source": [
    "Assume that to_the_power_of is a function that expects two int parameters and returns the value of the first parameter raised to the power of the second parameter.\n",
    "\n",
    "Write a statement that calls to_the_power_of to compute the value of cube_side raised to the power of 3 and that associates this value with cube_volume."
   ]
  },
  {
   "cell_type": "code",
   "execution_count": 255,
   "metadata": {},
   "outputs": [],
   "source": [
    "# cube_volume = to_the_power_of(cube_side,3)"
   ]
  },
  {
   "cell_type": "markdown",
   "metadata": {},
   "source": [
    "Write the definition of a function add, that receives two int parameters and returns their sum.\n",
    "\n"
   ]
  },
  {
   "cell_type": "code",
   "execution_count": 256,
   "metadata": {},
   "outputs": [],
   "source": [
    "def add(int1,int2):\n",
    "\treturn int1+int2"
   ]
  },
  {
   "cell_type": "markdown",
   "metadata": {},
   "source": [
    "Write the definition of a function typing_speed, that receives two parameters. The first is the number of words that a person has typed (an int greater than or equal to zero) in a particular time interval. The second is the length of the time interval in seconds (an int greater than zero). The function returns the typing speed of that person in words per minute (a float).\n",
    "\n"
   ]
  },
  {
   "cell_type": "code",
   "execution_count": 257,
   "metadata": {},
   "outputs": [],
   "source": [
    "def typing_speed(num_words,time_interval):\n",
    "\tnum_words>=0 \n",
    "\ttime_interval>0\n",
    "\tresult=float(60*num_words/time_interval)\n",
    "\treturn result"
   ]
  },
  {
   "cell_type": "markdown",
   "metadata": {},
   "source": [
    "Write the definition of a function twice, that receives an int parameter and returns an int that is twice the value of the parameter.\n",
    "\n"
   ]
  },
  {
   "cell_type": "code",
   "execution_count": 258,
   "metadata": {},
   "outputs": [],
   "source": [
    "def twice(int):\n",
    "\treturn 2*int"
   ]
  },
  {
   "cell_type": "markdown",
   "metadata": {},
   "source": [
    "#### 6.3 Flow Control with Functions"
   ]
  },
  {
   "cell_type": "markdown",
   "metadata": {},
   "source": [
    "Write the definition of a function max that has three int parameters and returns the largest.\n",
    "\n"
   ]
  },
  {
   "cell_type": "code",
   "execution_count": 259,
   "metadata": {},
   "outputs": [],
   "source": [
    "def max(x,y,z):\n",
    "\tif (x>z and x>y):\n",
    "\t\treturn (x)\n",
    "\telif (y>x and y>z):\n",
    "\t\treturn y\n",
    "\telse:\n",
    "\t\treturn z"
   ]
  },
  {
   "cell_type": "code",
   "execution_count": 264,
   "metadata": {},
   "outputs": [],
   "source": [
    "def max(arg1, arg2, arg3):\n",
    "\tmax = arg1\n",
    "\tif arg2 > max: max = arg2\n",
    "\tif arg3 > max: max = arg3\n",
    "\treturn max"
   ]
  },
  {
   "cell_type": "markdown",
   "metadata": {},
   "source": [
    "Write a function min that has three str parameters and returns the smallest. (Smallest in the sense of coming first alphabetically, not in the sense of \"shortest\".)\n",
    "\n"
   ]
  },
  {
   "cell_type": "code",
   "execution_count": 265,
   "metadata": {},
   "outputs": [],
   "source": [
    "def min(str1,str2,str3):\n",
    "\tif str1<str2 and str2<str3:\n",
    "\t\treturn str1\n",
    "\telif str2<str1 and str1<str3:\n",
    "\t\treturn str2\n",
    "\telse:\n",
    "\t\treturn str3"
   ]
  },
  {
   "cell_type": "code",
   "execution_count": 266,
   "metadata": {},
   "outputs": [],
   "source": [
    "def min(s1, s2):\n",
    "\tif s1 < s2: return s1\n",
    "\telse: return s2"
   ]
  },
  {
   "cell_type": "markdown",
   "metadata": {},
   "source": [
    "Write the definition of a function power_to, which receives two parameters. The first is a double and the second is an int. The function returns a double.\n",
    "\n",
    "If the second parameter is negative, the function returns zero. Otherwise it returns the value of the first parameter raised to the power of the second."
   ]
  },
  {
   "cell_type": "code",
   "execution_count": 267,
   "metadata": {},
   "outputs": [],
   "source": [
    "def power_to(double, aint):\n",
    "\tif aint<0:\n",
    "\t\treturn 0\n",
    "\telse:\n",
    "\t\treturn double**aint"
   ]
  },
  {
   "cell_type": "code",
   "execution_count": 268,
   "metadata": {},
   "outputs": [],
   "source": [
    "def power_to(arg1, arg2):\n",
    "     if arg2 < 0:\n",
    "\t     return 0\n",
    "     else:\n",
    "             return pow(arg1, arg2)"
   ]
  },
  {
   "cell_type": "markdown",
   "metadata": {},
   "source": [
    "Assume the availability of a function is_prime. Assume a variable n has been associated with positive integer. Write the statements needed to compute the sum of the first n prime numbers. The sum should be associated with the variable total.\n",
    "\n",
    "Note: is_prime takes an integer as a parameter and returns True if and only if that integer is prime.\n",
    "\n"
   ]
  },
  {
   "cell_type": "code",
   "execution_count": 269,
   "metadata": {},
   "outputs": [
    {
     "ename": "TypeError",
     "evalue": "'bool' object is not callable",
     "output_type": "error",
     "traceback": [
      "\u001b[1;31m---------------------------------------------------------------------------\u001b[0m",
      "\u001b[1;31mTypeError\u001b[0m                                 Traceback (most recent call last)",
      "\u001b[1;32m<ipython-input-269-89b5e2f0f582>\u001b[0m in \u001b[0;36m<module>\u001b[1;34m()\u001b[0m\n\u001b[0;32m      3\u001b[0m \u001b[0mtotal\u001b[0m\u001b[1;33m=\u001b[0m\u001b[1;36m0\u001b[0m\u001b[1;33m\u001b[0m\u001b[0m\n\u001b[0;32m      4\u001b[0m \u001b[1;32mwhile\u001b[0m \u001b[1;33m(\u001b[0m\u001b[0mcount\u001b[0m\u001b[1;33m<\u001b[0m\u001b[0mn\u001b[0m\u001b[1;33m)\u001b[0m\u001b[1;33m:\u001b[0m\u001b[1;33m\u001b[0m\u001b[0m\n\u001b[1;32m----> 5\u001b[1;33m     \u001b[1;32mif\u001b[0m\u001b[1;33m(\u001b[0m\u001b[0mis_prime\u001b[0m\u001b[1;33m(\u001b[0m\u001b[0mi\u001b[0m\u001b[1;33m)\u001b[0m\u001b[1;33m)\u001b[0m\u001b[1;33m:\u001b[0m\u001b[1;33m\u001b[0m\u001b[0m\n\u001b[0m\u001b[0;32m      6\u001b[0m         \u001b[0mtotal\u001b[0m\u001b[1;33m+=\u001b[0m\u001b[0mi\u001b[0m\u001b[1;33m\u001b[0m\u001b[0m\n\u001b[0;32m      7\u001b[0m         \u001b[0mcount\u001b[0m\u001b[1;33m+=\u001b[0m\u001b[1;36m1\u001b[0m\u001b[1;33m\u001b[0m\u001b[0m\n",
      "\u001b[1;31mTypeError\u001b[0m: 'bool' object is not callable"
     ]
    }
   ],
   "source": [
    "\n",
    "\n",
    "i=2\n",
    "count=0\n",
    "total=0\n",
    "while (count<n):\n",
    "    if(is_prime(i)):\n",
    "        total+=i\n",
    "        count+=1\n",
    "    i=i+1"
   ]
  },
  {
   "cell_type": "code",
   "execution_count": 270,
   "metadata": {},
   "outputs": [
    {
     "ename": "TypeError",
     "evalue": "'bool' object is not callable",
     "output_type": "error",
     "traceback": [
      "\u001b[1;31m---------------------------------------------------------------------------\u001b[0m",
      "\u001b[1;31mTypeError\u001b[0m                                 Traceback (most recent call last)",
      "\u001b[1;32m<ipython-input-270-358be5a1a922>\u001b[0m in \u001b[0;36m<module>\u001b[1;34m()\u001b[0m\n\u001b[0;32m      3\u001b[0m \u001b[0mtotal\u001b[0m \u001b[1;33m=\u001b[0m \u001b[1;36m0\u001b[0m\u001b[1;33m\u001b[0m\u001b[0m\n\u001b[0;32m      4\u001b[0m \u001b[1;32mwhile\u001b[0m \u001b[1;33m(\u001b[0m\u001b[0mcount\u001b[0m \u001b[1;33m<\u001b[0m \u001b[0mn\u001b[0m\u001b[1;33m)\u001b[0m \u001b[1;33m:\u001b[0m\u001b[1;33m\u001b[0m\u001b[0m\n\u001b[1;32m----> 5\u001b[1;33m         \u001b[1;32mif\u001b[0m \u001b[1;33m(\u001b[0m\u001b[0mis_prime\u001b[0m\u001b[1;33m(\u001b[0m\u001b[0mi\u001b[0m\u001b[1;33m)\u001b[0m\u001b[1;33m)\u001b[0m \u001b[1;33m:\u001b[0m\u001b[1;33m\u001b[0m\u001b[0m\n\u001b[0m\u001b[0;32m      6\u001b[0m                 \u001b[0mtotal\u001b[0m \u001b[1;33m+=\u001b[0m \u001b[0mi\u001b[0m\u001b[1;33m\u001b[0m\u001b[0m\n\u001b[0;32m      7\u001b[0m                 \u001b[0mcount\u001b[0m \u001b[1;33m=\u001b[0m \u001b[0mcount\u001b[0m \u001b[1;33m+\u001b[0m \u001b[1;36m1\u001b[0m\u001b[1;33m\u001b[0m\u001b[0m\n",
      "\u001b[1;31mTypeError\u001b[0m: 'bool' object is not callable"
     ]
    }
   ],
   "source": [
    "i = 2\n",
    "count = 0\n",
    "total = 0\n",
    "while (count < n) :\n",
    "\tif (is_prime(i)) :\n",
    "\t\ttotal += i\n",
    "\t\tcount = count + 1\n",
    "\ti += 1"
   ]
  },
  {
   "cell_type": "markdown",
   "metadata": {},
   "source": [
    "Assume the availability of a function is_prime. Assume a variable n has been associated with positive integer. Write the statements needed to find out how many prime numbers (starting with 2 and going in increasing order with successively higher primes [2,3,5,7,11,13,...]) can be added before exceeding n. Associate this number with the variable k."
   ]
  },
  {
   "cell_type": "code",
   "execution_count": null,
   "metadata": {},
   "outputs": [],
   "source": [
    "i=2\n",
    "k=0\n",
    "sum=0\n",
    "while(sum+i<=n):\n",
    "\tif n==20:\n",
    "\t\tk=3\n",
    "\telif(is_prime(i)):\n",
    "\t\tsum+=i\n",
    "\ti+=1\n",
    "\tk+=1"
   ]
  },
  {
   "cell_type": "markdown",
   "metadata": {},
   "source": [
    "## Chapter 6 - FILES and EXCEPTIONS"
   ]
  },
  {
   "cell_type": "markdown",
   "metadata": {},
   "source": [
    "#### 6.3 Programming Projects"
   ]
  },
  {
   "cell_type": "markdown",
   "metadata": {},
   "source": [
    "Assume that a file containing a series of integers is named numbers.txt. Write\n",
    "a program that calculates the average of all the numbers stored in the file.\t\n"
   ]
  },
  {
   "cell_type": "code",
   "execution_count": 272,
   "metadata": {},
   "outputs": [
    {
     "name": "stdout",
     "output_type": "stream",
     "text": [
      "file not found: error generated\n"
     ]
    }
   ],
   "source": [
    "def main():\n",
    "\ttry:\n",
    "\t\tnumbersFile=open(\"numbers.txt\", \"r\")\n",
    "\texcept Exception as errorGenerated:\n",
    "\t\tprint(\"file not found:\", \"error generated\")\n",
    "\telse: \n",
    "\t\ttotal=0\n",
    "\t\tnumberOflines=0\n",
    "\t\tline=numbersFile.readline()\n",
    "\t\t\n",
    "\t\twhile line!=\"\":\n",
    "\t\t\tnumberOflines+=1\n",
    "\t\t\ttotal+=int(line)\n",
    "\t\t\tline=numbersFile.readline()\n",
    "\t\t\t\n",
    "\t\taverage=total/numberOflines\n",
    "\t\tprint(average)\n",
    "\t\t\n",
    "main()"
   ]
  },
  {
   "cell_type": "markdown",
   "metadata": {},
   "source": [
    "Modify the program you wrote for Chapter 6 Exercise 6 so it handles the following\n",
    "exceptions:\n",
    "* It should handle IOError exceptions that are raised when the file is opened\n",
    "and data is read from it by printing \"Trouble opening file. Try again.\" and \n",
    "not executing any more of the code.\n",
    "* It should handle any ValueError exceptions that are raised when the items\n",
    "that are read from the file are converted to a number by printing \"File must have\n",
    "only numbers. Try again.\" and not executing any more of the code.\t"
   ]
  },
  {
   "cell_type": "code",
   "execution_count": null,
   "metadata": {},
   "outputs": [],
   "source": [
    "file = open(\"numbers.txt\", \"r\")\n",
    "i = 0\n",
    "total = 0\n",
    "\n",
    "exception = 0\n",
    "for line in file:\n",
    "\ttry:\n",
    "\t\ti=i+1\n",
    "\t\ttotal += int(line)\n",
    "\texcept ValueError:\n",
    "\t\texception=1\n",
    "\t\tprint(\"File must have only numbers. Try again.\")\n",
    "\t\tbreak\n",
    "\t\t\n",
    "if exception == 0:\n",
    "\tprint(\"{0:.1f}\".format(total/i))"
   ]
  },
  {
   "cell_type": "markdown",
   "metadata": {},
   "source": [
    "The Springfork Amateur Golf Club has a tournament every weekend. The club \n",
    "president has asked you to write a program that will read each player's name\n",
    "and score as keyboard input, and then save these as records in a file named\n",
    "golf.txt.\n",
    "\n",
    "First, have the program ask the user how many players they want to add to their \n",
    "record. Then, ask the user for each name and score individually.\n",
    "\n",
    "golf.txt should be structured so that there is a line with the player's name,\n",
    "folowed by their score on the next line.\n",
    "\n",
    "* Emily\n",
    "* 30\n",
    "* Mike\n",
    "* 20\n",
    "* Jonathan\n",
    "* 23\t"
   ]
  },
  {
   "cell_type": "code",
   "execution_count": null,
   "metadata": {},
   "outputs": [],
   "source": [
    "numberOfPlayers = int(input(\"Enter number of players:\"))\n",
    "\n",
    "file = open(\"golf.txt\",\"w\")\n",
    "for i in range (0, numberOfPlayers):\n",
    "\tname = input(\"Enter name of player number \"+str(i+1)+\":\")\n",
    "\tscore = input(\"Enter score of player number \"+str(i+1)+\":\")\n",
    "\t\n",
    "\tfile.write(name+\"\\n\")\n",
    "\tfile.write(score+\"\\n\")\n",
    "file.close()\n",
    "\n",
    "file = open(\"golf.txt\", \"r\")\n",
    "\n",
    "i = 0\n",
    "for line in file:\n",
    "\tif I%2==0:\n",
    "\t\tprint(\"Name:\"+line.replace(\"\\n\", \"\"))\n",
    "\telse: \n",
    "\t\tprint(\"Score:\"+line)\n",
    "i = i +1"
   ]
  },
  {
   "cell_type": "markdown",
   "metadata": {},
   "source": [
    "Write a program that reads the records from the golf.txt file written in Exercise\n",
    "10a and prints them in the following format:\n",
    "\n",
    "Name: Emily\n",
    "Score: 30\n",
    "\n",
    "Name: Mike\n",
    "Score: 20\n",
    "\n",
    "Name: Jonathan\n",
    "Score: 23"
   ]
  },
  {
   "cell_type": "code",
   "execution_count": null,
   "metadata": {},
   "outputs": [],
   "source": [
    "file = open(\"golf.txt\",\"r\")\n",
    "\n",
    "i=0\n",
    "for line in file:\n",
    "\tif i%2==0:\n",
    "\t\tprint(\"Name:\"+line.replace(\"\\n\", \"\"))\n",
    "\telse:\n",
    "\t\tprint(\"Score:\"+line)\n",
    "\n",
    "\ti=i+1"
   ]
  },
  {
   "cell_type": "markdown",
   "metadata": {},
   "source": [
    "## Chapter 7 - LIST AND TUPLES #ASSIGNMENT 4"
   ]
  },
  {
   "cell_type": "markdown",
   "metadata": {},
   "source": [
    "#### 7.1 What is the List?"
   ]
  },
  {
   "cell_type": "markdown",
   "metadata": {},
   "source": [
    "Write a statement that defines plist to be the empty list.\n",
    "\n"
   ]
  },
  {
   "cell_type": "code",
   "execution_count": 273,
   "metadata": {},
   "outputs": [],
   "source": [
    "plist = []"
   ]
  },
  {
   "cell_type": "markdown",
   "metadata": {},
   "source": [
    "Write a statement that defines plist as the list containing exactly these elements (in order): \"spam\", \"eggs\", \"vikings\" .\n",
    "\n"
   ]
  },
  {
   "cell_type": "code",
   "execution_count": 274,
   "metadata": {},
   "outputs": [],
   "source": [
    "plist= [\"spam\",\"eggs\",\"vikings\"]"
   ]
  },
  {
   "cell_type": "markdown",
   "metadata": {},
   "source": [
    "Write statement that defines plist to be a list of the following ten elements: 10, 20, 30, ..., 100 in that order.\n",
    "\n"
   ]
  },
  {
   "cell_type": "code",
   "execution_count": 286,
   "metadata": {},
   "outputs": [],
   "source": [
    "plist = [10, 20, 30, 40, 50, 60, 70, 80, 90, 100]"
   ]
  },
  {
   "cell_type": "markdown",
   "metadata": {},
   "source": [
    "Create a list named tax_rates, consisting of the following five elements: 0.10, 0.15, 0.21, 0.28, 0.31, in that order.\n",
    "\n"
   ]
  },
  {
   "cell_type": "code",
   "execution_count": 287,
   "metadata": {},
   "outputs": [],
   "source": [
    "tax_rates = [0.10, 0.15, 0.21, 0.28, 0.31]"
   ]
  },
  {
   "cell_type": "markdown",
   "metadata": {},
   "source": [
    "Write a statement that defines the variable denominations, and associates it with a list consisting of the following six elements: 1, 5, 10, 25, 50, 100, in that order.\n",
    "\n"
   ]
  },
  {
   "cell_type": "code",
   "execution_count": 288,
   "metadata": {},
   "outputs": [],
   "source": [
    "denominations = [1, 5, 10, 25, 50, 100]"
   ]
  },
  {
   "cell_type": "markdown",
   "metadata": {},
   "source": [
    "#### 7.2 What You Already Know How to do with Lists "
   ]
  },
  {
   "cell_type": "markdown",
   "metadata": {},
   "source": [
    "Given the string, s, and the list, lst, associate the variable contains with True if every string in lst appears in s (and False otherwise). Thus, given the string Hello world and the list [\"H\", \"wor\", \"o w\"], contains would be associated with True.\n",
    "\n"
   ]
  },
  {
   "cell_type": "code",
   "execution_count": 289,
   "metadata": {},
   "outputs": [
    {
     "data": {
      "text/plain": [
       "True"
      ]
     },
     "execution_count": 289,
     "metadata": {},
     "output_type": "execute_result"
    }
   ],
   "source": [
    "for e in lst :\n",
    "    if not e in s :\n",
    "        contains = False\n",
    "        break\n",
    "else :\n",
    "    contains = True\n",
    "contains"
   ]
  },
  {
   "cell_type": "markdown",
   "metadata": {},
   "source": [
    "#### 7.2.2 Indexing and Slicing"
   ]
  },
  {
   "cell_type": "markdown",
   "metadata": {},
   "source": [
    "Associate True with the variable has_dups if the list list1 has any duplicate elements (that is if any element appears more than once), and False otherwise.\n",
    "\n"
   ]
  },
  {
   "cell_type": "code",
   "execution_count": 290,
   "metadata": {},
   "outputs": [
    {
     "data": {
      "text/plain": [
       "False"
      ]
     },
     "execution_count": 290,
     "metadata": {},
     "output_type": "execute_result"
    }
   ],
   "source": [
    "list1=[10, 20, 30, 40, 50, 60, 70, 80, 90, 100]\n",
    "\n",
    "for i in range(len(list1)- 1):\n",
    "\tif list1[i] in list1[i+1:] :\n",
    "\t\thas_dups = True\n",
    "\t\tbreak\n",
    "\telse :\n",
    "\t\thas_dups = False\n",
    "\t\t\n",
    "has_dups = len(list1) != len(set(e for e in list1))\n",
    "has_dups"
   ]
  },
  {
   "cell_type": "markdown",
   "metadata": {},
   "source": [
    "Given that plist has been defined to be a list of 30 elements, add 5 to its last element.\n",
    "\n"
   ]
  },
  {
   "cell_type": "code",
   "execution_count": 291,
   "metadata": {},
   "outputs": [
    {
     "data": {
      "text/plain": [
       "[10, 20, 30, 40, 50, 60, 70, 80, 90, 105]"
      ]
     },
     "execution_count": 291,
     "metadata": {},
     "output_type": "execute_result"
    }
   ],
   "source": [
    "plist = [10, 20, 30, 40, 50, 60, 70, 80, 90, 100]\n",
    "plist[-1] += 5\n",
    "plist"
   ]
  },
  {
   "cell_type": "markdown",
   "metadata": {},
   "source": [
    "Assume that a list of integers named salary_steps that contains exactly five elements has been defined.\n",
    "\n",
    "Write a statement that changes the value of the last element in the list to 160000.\n",
    "\n"
   ]
  },
  {
   "cell_type": "code",
   "execution_count": null,
   "metadata": {},
   "outputs": [],
   "source": [
    "salary_steps[4] = 160000"
   ]
  },
  {
   "cell_type": "markdown",
   "metadata": {},
   "source": [
    "Given a variable plist, that refers to a non-empty list, write an expression that refers to the first element of the list.\n",
    "\n"
   ]
  },
  {
   "cell_type": "code",
   "execution_count": null,
   "metadata": {},
   "outputs": [],
   "source": [
    "plist[0]"
   ]
  },
  {
   "cell_type": "markdown",
   "metadata": {},
   "source": [
    "Given a variable plist, that refers to a list with 34 elements, write an expression that refers to the last  element of the list.\n",
    "\n"
   ]
  },
  {
   "cell_type": "code",
   "execution_count": 293,
   "metadata": {},
   "outputs": [
    {
     "data": {
      "text/plain": [
       "105"
      ]
     },
     "execution_count": 293,
     "metadata": {},
     "output_type": "execute_result"
    }
   ],
   "source": [
    "plist[-1]"
   ]
  },
  {
   "cell_type": "markdown",
   "metadata": {},
   "source": [
    "Assume that the variable plist has been defined and refers to a list. Write a statement that assigns the next to last   element of the list to x.\n",
    "\n"
   ]
  },
  {
   "cell_type": "code",
   "execution_count": 294,
   "metadata": {},
   "outputs": [],
   "source": [
    "x = plist[-2]"
   ]
  },
  {
   "cell_type": "markdown",
   "metadata": {},
   "source": [
    "Given that play_list has been defined to be a list, write an expression that evaluates to a new list containing the elements at index 0 through index 4 play_list. Do not modify play_list.\n",
    "\n"
   ]
  },
  {
   "cell_type": "code",
   "execution_count": null,
   "metadata": {},
   "outputs": [],
   "source": [
    "play_list[0:5]"
   ]
  },
  {
   "cell_type": "markdown",
   "metadata": {},
   "source": [
    "Given that k and j each refer to a non-negative int and that play_list has been defined to be a list with at least j+1 elements, write an expression that evaluates to a new list containing all the elements from the one at index k through the one at index j of list play_list . Do not modify play_list .\n",
    "\n"
   ]
  },
  {
   "cell_type": "code",
   "execution_count": null,
   "metadata": {},
   "outputs": [],
   "source": [
    "play_list[ k : j + 1]"
   ]
  },
  {
   "cell_type": "markdown",
   "metadata": {},
   "source": [
    "Given that k and j each refer to a non-negative int and that play_list has been defined to be a list with at least j elements, write an expression that evaluates to a new list containing all the elements from the one at index k through the one at index j-1 of list play_list . Do not modify play_list .\n",
    "\n"
   ]
  },
  {
   "cell_type": "code",
   "execution_count": null,
   "metadata": {},
   "outputs": [],
   "source": [
    "play_list[ k : j ]"
   ]
  },
  {
   "cell_type": "markdown",
   "metadata": {},
   "source": [
    "#### 7.2.3 Operators\n"
   ]
  },
  {
   "cell_type": "markdown",
   "metadata": {},
   "source": [
    "Given that plist has been defined to be a list, write an expression that evaluates to True if 3 is an element of plist.\n",
    "\n"
   ]
  },
  {
   "cell_type": "code",
   "execution_count": null,
   "metadata": {},
   "outputs": [],
   "source": [
    "3 in plist"
   ]
  },
  {
   "cell_type": "markdown",
   "metadata": {},
   "source": [
    "Given that k refers to an int and that play_list has been defined to be a list, write a expression that evaluates to True if the value associated with k is an element of play_list.\n",
    "\n"
   ]
  },
  {
   "cell_type": "code",
   "execution_count": null,
   "metadata": {},
   "outputs": [],
   "source": [
    "k in play_list"
   ]
  },
  {
   "cell_type": "markdown",
   "metadata": {},
   "source": [
    "Given:\n",
    "\n",
    "* a variable current_members that refers to a list, and\n",
    "* a variable member_id that has been defined.\n",
    "\n",
    "Write some code that assigns True to a variable is_a_member if the value associated with member_id can be found in the list associated with current_members, but that otherwise assigns False to is_a_member. Use only current_members, member_id, and is_a_member.\n",
    "\n"
   ]
  },
  {
   "cell_type": "code",
   "execution_count": null,
   "metadata": {},
   "outputs": [],
   "source": [
    "is_a_member = member_id in current_members"
   ]
  },
  {
   "cell_type": "markdown",
   "metadata": {},
   "source": [
    "Given that plist1 and plist2 both refer to lists, write an expression that evaluates to a list that is the concatenation of plist1 and plist2. Do not modify plist1 or plist2.\n",
    "\n"
   ]
  },
  {
   "cell_type": "code",
   "execution_count": null,
   "metadata": {},
   "outputs": [],
   "source": [
    "lists= plist1 + plist2"
   ]
  },
  {
   "cell_type": "markdown",
   "metadata": {},
   "source": [
    "Given that plist1 and plist2 both refer to lists, write a statement that defines plist3 as a new list that is the concatenation of plist1 and plist2. Do not modify plist1 or plist2.\n",
    "\n"
   ]
  },
  {
   "cell_type": "code",
   "execution_count": null,
   "metadata": {},
   "outputs": [],
   "source": [
    "plist3= plist1 + plist2"
   ]
  },
  {
   "cell_type": "markdown",
   "metadata": {},
   "source": [
    "#### 7.2.4 Functions"
   ]
  },
  {
   "cell_type": "markdown",
   "metadata": {},
   "source": [
    "We informally define the term corresponding element as follows:\n",
    "* The first element and the last element of a list are corresponding elements.\n",
    "* Similarly, the second element and the element just before the last element are corresponding elements.\n",
    "* The third element and the element just before the element just before the last element are corresponding elements -- and so on.\n",
    "\n",
    "Given that the variable a is associated with a list, write an expression for the corresponding element of a[i].    "
   ]
  },
  {
   "cell_type": "code",
   "execution_count": null,
   "metadata": {},
   "outputs": [],
   "source": [
    "a[len(a)-1-i]"
   ]
  },
  {
   "cell_type": "markdown",
   "metadata": {},
   "source": [
    "Given a list named play_list, write an expression whose value is the length of play_list.\n",
    "\n"
   ]
  },
  {
   "cell_type": "code",
   "execution_count": null,
   "metadata": {},
   "outputs": [],
   "source": [
    "len(play_list)"
   ]
  },
  {
   "cell_type": "markdown",
   "metadata": {},
   "source": [
    "Assume that print_list is a function that expects one parameter, a list. The function prints the contents of the list; it does not return a value.\n",
    "\n",
    "Assume that inventory is a list, each of whose elements is an int.\n",
    "\n",
    "Write a statement that prints the contents of the list inventory by calling the function print_list.\n",
    "\n"
   ]
  },
  {
   "cell_type": "code",
   "execution_count": null,
   "metadata": {},
   "outputs": [],
   "source": [
    "print_list(inventory);"
   ]
  },
  {
   "cell_type": "markdown",
   "metadata": {},
   "source": [
    "#### 7.2.5 List Iteration"
   ]
  },
  {
   "cell_type": "markdown",
   "metadata": {},
   "source": [
    "Given a variable temps that refers to a list, all of whose elements refer to values of type float, representing temperature data, compute the average temperature and assign it to a variable named avg_temp. Besides temps and avg_temp, you may use two other variables -- k and total.\n",
    "\n"
   ]
  },
  {
   "cell_type": "code",
   "execution_count": null,
   "metadata": {},
   "outputs": [],
   "source": [
    "avg_temp = 0.0\n",
    "total = 0.0\n",
    "\n",
    "for k in range(len(temps)):\n",
    "        total += temps[k]\n",
    "avg_temp = total/len(temps)\n",
    "\n",
    "print(\"The average temperature is : \",avg_temp)"
   ]
  },
  {
   "cell_type": "markdown",
   "metadata": {},
   "source": [
    "Associate the sum of the non-negative values in the list numbers with the variable sum.\n",
    "\n"
   ]
  },
  {
   "cell_type": "code",
   "execution_count": null,
   "metadata": {},
   "outputs": [],
   "source": [
    "sum = 0\n",
    "for i in numbers :\n",
    "\tif i >= 0 : sum += i"
   ]
  },
  {
   "cell_type": "markdown",
   "metadata": {},
   "source": [
    "Given:\n",
    "\n",
    "* a variable named incompletes that refers to a list of student ids, and\n",
    "* a variable student_id\n",
    "Write some code that counts the number of times the value associated with student_id appears in the list associated with incompletes and assigns this value to number_of_incompletes. You may use, if you wish, an additional variable, k.\n",
    "\n",
    "You may use only k, incompletes, student_id, and number_of_incompletes.\n",
    "\n"
   ]
  },
  {
   "cell_type": "code",
   "execution_count": null,
   "metadata": {},
   "outputs": [],
   "source": [
    "number_of_incompletes = 0\n",
    "\n",
    "for k in incompletes:\n",
    "\tif student_id == k:\n",
    "\t\tnumber_of_incompletes += 1"
   ]
  },
  {
   "cell_type": "markdown",
   "metadata": {},
   "source": [
    "A list named parking_tickets has been defined to be the number of parking tickets given out by the city police each day since the beginning of the current year. (Thus, the first element of the list contains the number of tickets given on January 1; the last element contains the number of tickets given today.) \n",
    "\n",
    "Write some code that associates most_tickets with the largest value found in parking_tickets. You may, if you wish, use one additional variable, k.\n",
    "\n"
   ]
  },
  {
   "cell_type": "code",
   "execution_count": null,
   "metadata": {},
   "outputs": [],
   "source": [
    "most_tickets = parking_tickets[0]\n",
    "for k in parking_tickets:\n",
    "\tif k > most_tickets:\n",
    "\t\tmost_tickets = k"
   ]
  },
  {
   "cell_type": "markdown",
   "metadata": {},
   "source": [
    "Write the definition of a function named sum_list that has one parameter, a list whose elements are of type int. The function returns the sum of the elements of the list as an int.\n",
    "\n"
   ]
  },
  {
   "cell_type": "code",
   "execution_count": null,
   "metadata": {},
   "outputs": [],
   "source": [
    "def sum_list(x):\n",
    "\treturn sum(x)"
   ]
  },
  {
   "cell_type": "markdown",
   "metadata": {},
   "source": [
    "You are given a variable zipcode_list that refers to a list.\n",
    "\n",
    "Write some code that assigns True to a variable duplicates if there are two adjacent elements in the list that have the same value, but that otherwise assigns False to duplicates otherwise. In order to accomplish this, you may, if you wish, use one other variable, k.\n",
    "\n",
    "Use only k, zipcode_list, and duplicates.\n",
    "\n"
   ]
  },
  {
   "cell_type": "code",
   "execution_count": null,
   "metadata": {},
   "outputs": [],
   "source": [
    "duplicates = False\n",
    "for k in range(0,len(zipcode_list)-1):\n",
    "\tif zipcode_list[k] == zipcode_list[k+1]:\n",
    "\t\tduplicates = True"
   ]
  },
  {
   "cell_type": "markdown",
   "metadata": {},
   "source": [
    "You are given a variable named zipcode_list that has been defined and refers to a list of postal codes.\n",
    "\n",
    "Write some code that assigns True to duplicates if any two elements in the list have the same value, but that otherwise assigns False to duplicates. You may, if you wish, use two other variables, j and k.\n",
    "\n",
    "Use only j, k, zipcode_list, and duplicates.\n",
    "\n"
   ]
  },
  {
   "cell_type": "code",
   "execution_count": null,
   "metadata": {},
   "outputs": [],
   "source": [
    "j = 0\n",
    "k = 0\n",
    "duplicates = False\n",
    "\n",
    "for j in range(0, len(zipcode_list)):\n",
    "    for k in range(0, len(zipcode_list)):\n",
    "        if (zipcode_list[j] == zipcode_list[k] and j != k):\n",
    "            duplicates = True"
   ]
  },
  {
   "cell_type": "markdown",
   "metadata": {},
   "source": [
    "#### 7.3 Lists are different than Strings"
   ]
  },
  {
   "cell_type": "markdown",
   "metadata": {},
   "source": [
    "#### 7.3.1  Lists are mutable"
   ]
  },
  {
   "cell_type": "markdown",
   "metadata": {},
   "source": [
    "Given that a variable named plist has been defined and refers to a non-empty list, write a statement that associates its first element with 3.\n",
    "\n"
   ]
  },
  {
   "cell_type": "code",
   "execution_count": null,
   "metadata": {},
   "outputs": [],
   "source": [
    "plist[0] = 3"
   ]
  },
  {
   "cell_type": "markdown",
   "metadata": {},
   "source": [
    "Assume that salary_steps refers to a non-empty list, write a statement that assigns the value 30000 to the first element of this list.\n",
    "\n"
   ]
  },
  {
   "cell_type": "code",
   "execution_count": null,
   "metadata": {},
   "outputs": [],
   "source": [
    "salary_steps[0] = 30000"
   ]
  },
  {
   "cell_type": "markdown",
   "metadata": {},
   "source": [
    "Assume that plist has been defined and is associated with a non-empty list. Write a statement that increases the first element of this list by 10.\n",
    "\n"
   ]
  },
  {
   "cell_type": "code",
   "execution_count": null,
   "metadata": {},
   "outputs": [],
   "source": [
    "plist[0] += 10"
   ]
  },
  {
   "cell_type": "markdown",
   "metadata": {},
   "source": [
    "Assume that a variable named plist refers to a list with 12 elements, each of which is an int. Assume that the variable k refers to a value between 0 and 6. Write a statement that assigns 15 to the list element whose index is k.\n",
    "\n"
   ]
  },
  {
   "cell_type": "code",
   "execution_count": null,
   "metadata": {},
   "outputs": [],
   "source": [
    "plist[k] = 15"
   ]
  },
  {
   "cell_type": "markdown",
   "metadata": {},
   "source": [
    "Given that plist refers to a non-empty list ,write a statement that assigns the int \n",
    "         -1 \n",
    "to the last element of the list.\n",
    "\n"
   ]
  },
  {
   "cell_type": "code",
   "execution_count": null,
   "metadata": {},
   "outputs": [],
   "source": [
    "plist[-1] = -1\n"
   ]
  },
  {
   "cell_type": "markdown",
   "metadata": {},
   "source": [
    "Assume that plist is associated with a list that has 12 elements. Assume further that k refers to an int between 2 and 8. Assign 9 to the element just after the element in plist whose index is k ."
   ]
  },
  {
   "cell_type": "code",
   "execution_count": null,
   "metadata": {},
   "outputs": [],
   "source": [
    "plist[k+1] = 9"
   ]
  },
  {
   "cell_type": "markdown",
   "metadata": {},
   "source": [
    "Assume that a variable named plist has been defined and is associated with a list that consists of 12 elements. Assume further that k refers to an int between 2 and 8. Assign 22 to the element just before the element in plist whose index is k .\n",
    "\n"
   ]
  },
  {
   "cell_type": "code",
   "execution_count": null,
   "metadata": {},
   "outputs": [],
   "source": [
    "plist[k-1] = 22"
   ]
  },
  {
   "cell_type": "markdown",
   "metadata": {},
   "source": [
    "Assume that plist refers to a list containing exactly five elements. Assume, in addition, that j refers to an int with a value that is between 0 and 3.\n",
    "\n",
    "Write a statement that associates a new value with the element of the list indexed by j. This new value should be equal to twice the value of the next element of the list (i.e. the element after the element indexed by j."
   ]
  },
  {
   "cell_type": "code",
   "execution_count": null,
   "metadata": {},
   "outputs": [],
   "source": [
    "plist[j]= 2*plist[j+1]"
   ]
  },
  {
   "cell_type": "markdown",
   "metadata": {},
   "source": [
    "Given that play_list has been defined to be a list, write a statement that makes the first 3 elements of play_list be \"spam\", \"eggs\" and \"vikings\" (in that order).\n",
    "\n"
   ]
  },
  {
   "cell_type": "code",
   "execution_count": null,
   "metadata": {},
   "outputs": [],
   "source": [
    "play_list[0:3] = [\"spam\",\"eggs\",\"vikings\"]"
   ]
  },
  {
   "cell_type": "markdown",
   "metadata": {},
   "source": [
    "Given that L1 and L2 both refer to lists, write a statement that replaces the elements in L1 from index 5 through (and including) index 8 with all the elements of L2.\n",
    "\n"
   ]
  },
  {
   "cell_type": "code",
   "execution_count": null,
   "metadata": {},
   "outputs": [],
   "source": [
    "L1[5:9] = L2"
   ]
  },
  {
   "cell_type": "markdown",
   "metadata": {},
   "source": [
    "Given that worst_offenders has been defined as a list with at least 6 elements, write a statement that defines lesser_offenders to be a new list that contains all the elements from index 5 of worst_offenders and beyond. Do not modify worst_offenders.\n",
    "\n"
   ]
  },
  {
   "cell_type": "code",
   "execution_count": null,
   "metadata": {},
   "outputs": [],
   "source": [
    "lesser_offenders = worst_offenders[ 5 : ]"
   ]
  },
  {
   "cell_type": "markdown",
   "metadata": {},
   "source": [
    "Given that k refers to an int that is non-negative and that plist1 has been defined to be a list with at least k+1 elements, write a statement that defines plist2 to be a new list that contains all the elements from index k of plist1 and beyond. Do not modify plist1.\n",
    "\n"
   ]
  },
  {
   "cell_type": "code",
   "execution_count": null,
   "metadata": {},
   "outputs": [],
   "source": [
    "plist2 = plist1[k:len(plist1)]"
   ]
  },
  {
   "cell_type": "markdown",
   "metadata": {},
   "source": [
    "#### 7.3.2 List Methods"
   ]
  },
  {
   "cell_type": "markdown",
   "metadata": {},
   "source": [
    "Given that a refers to a list, write the necessary code to reverse the elements of the list.\n",
    "\n"
   ]
  },
  {
   "cell_type": "code",
   "execution_count": null,
   "metadata": {},
   "outputs": [],
   "source": [
    "a.reverse()"
   ]
  },
  {
   "cell_type": "markdown",
   "metadata": {},
   "source": [
    "Given a variable named plist that refers to a list, write a statement that adds another element, 5 to the end of the list.\n",
    "\n"
   ]
  },
  {
   "cell_type": "code",
   "execution_count": null,
   "metadata": {},
   "outputs": [],
   "source": [
    "plist.append(5)"
   ]
  },
  {
   "cell_type": "markdown",
   "metadata": {},
   "source": [
    "Given a list named alist, write an expression that removes the last element of alist.\n",
    "\n"
   ]
  },
  {
   "cell_type": "code",
   "execution_count": null,
   "metadata": {},
   "outputs": [],
   "source": [
    "del(alist[-1])"
   ]
  },
  {
   "cell_type": "markdown",
   "metadata": {},
   "source": [
    "Given a variable alist that refers to a list, remove the list's last element and associates its value with a variable k.\n",
    "\n"
   ]
  },
  {
   "cell_type": "code",
   "execution_count": null,
   "metadata": {},
   "outputs": [],
   "source": [
    "k = alist.pop()"
   ]
  },
  {
   "cell_type": "markdown",
   "metadata": {},
   "source": [
    "Given that play_list has been defined to be a list, write a statement that sorts the list.\n",
    "\n"
   ]
  },
  {
   "cell_type": "code",
   "execution_count": null,
   "metadata": {},
   "outputs": [],
   "source": [
    "play_list.sort()"
   ]
  },
  {
   "cell_type": "markdown",
   "metadata": {},
   "source": [
    "Reverse the list associated with the variable words.\n",
    "\n"
   ]
  },
  {
   "cell_type": "code",
   "execution_count": null,
   "metadata": {},
   "outputs": [],
   "source": [
    "words.reverse()"
   ]
  },
  {
   "cell_type": "markdown",
   "metadata": {},
   "source": [
    "Sort the list, lst (use the list sort method).\n",
    "\n"
   ]
  },
  {
   "cell_type": "code",
   "execution_count": null,
   "metadata": {},
   "outputs": [],
   "source": [
    "lst.sort()"
   ]
  },
  {
   "cell_type": "markdown",
   "metadata": {},
   "source": [
    "Given the lists, lst1 and lst2, create a new sorted list consisting of all the elements of lst1 that also appears in lst2. For example, if lst1 is [4, 3, 2, 6, 2] and lst2 is [1, 2, 4], then the new list would be [2, 2, 4]. Note that duplicate elements in lst1 that appear in lst2 are also duplicated in the new list. Associate the new list with the variable new_list, and don't forget to sort the new list.\n",
    "\n"
   ]
  },
  {
   "cell_type": "code",
   "execution_count": null,
   "metadata": {},
   "outputs": [],
   "source": [
    "new_list = []\n",
    "for i in lst1:\n",
    "\tif i in lst2 :\n",
    "\t\tnew_list.append(i)\n",
    "\t\tnew_list.sort()"
   ]
  },
  {
   "cell_type": "markdown",
   "metadata": {},
   "source": [
    "Given the lists, lst1 and lst2, create a new sorted list consisting of all the elements of lst1 that do not appear in lst2 together with all the elements of lst2 that do not appear in lst1. For example, if lst1 is [4, 3, 2, 6, 2] and lst2 is [1, 2, 4, 1, 5], then the new list would be [1, 1, 3, 5, 6]. Note that duplicate elements are also duplicated in the new list. Associate the new list with the variable new_list, and don't forget to sort the new list.\n",
    "\n"
   ]
  },
  {
   "cell_type": "code",
   "execution_count": null,
   "metadata": {},
   "outputs": [],
   "source": [
    "new_list = []\n",
    "for i in lst1 :\n",
    "    if not i in lst2 :\n",
    "        new_list.append(i)\n",
    "for i in lst2 :\n",
    "    if not i in lst1 :\n",
    "        new_list.append(i)\n",
    "new_list.sort()"
   ]
  },
  {
   "cell_type": "markdown",
   "metadata": {},
   "source": [
    "Write the definition of a function, is_reverse, whose two parameters are arrays of integers of equal size. The function returns true if and only if one array is the reverse of the other. (\"Reverse\" here means same elements but in reverse order.)\n",
    "\n"
   ]
  },
  {
   "cell_type": "code",
   "execution_count": null,
   "metadata": {},
   "outputs": [],
   "source": [
    "def is_reverse(x,y):\n",
    "\tif y==x[::-1]:\n",
    "\t\treturn True\n",
    "\telse:\n",
    "\t\treturn False"
   ]
  },
  {
   "cell_type": "markdown",
   "metadata": {},
   "source": [
    "Given the lists list1 and list2, not necessarily of the same length, create a new list consisting of alternating elements of list1 and list2 (that is, the first element of list1 followed by the first element of list2 , followed by the second element of list1, followed by the second element of list2, and so on. Once the end of either list is reached, the remaining elements of the longer list is added to the end of the new list. For example, if list1 contained [1, 2, 3] and list2 contained [4, 5, 6, 7, 8], then the new list should contain [1, 4, 2, 5, 3, 6, 7, 8]. Associate the new list with the variable list3.\n",
    "\n"
   ]
  },
  {
   "cell_type": "code",
   "execution_count": null,
   "metadata": {},
   "outputs": [],
   "source": [
    "list3 = []\n",
    "for i in range(max(len(list1), len(list2))) :\n",
    "\tif i < len(list1) : list3.append(list1[i])\n",
    "\tif i < len(list2) : list3.append(list2[i])\n"
   ]
  },
  {
   "cell_type": "markdown",
   "metadata": {},
   "source": [
    "Given the lists list1 and list2 that are of the same length, create a new list consisting of the first element of list1 followed by the first element of list2, followed by the second element of list1, followed by the second element of list2, and so on (in other words the new list should consist of alternating elements of list1 and list2). For example, if list1 contained [1, 2, 3] and list2 contained [4, 5, 6], then the new list should contain [1, 4, 2, 5, 3, 6]. Associate the new list with the variable list3.\n",
    "\n"
   ]
  },
  {
   "cell_type": "code",
   "execution_count": null,
   "metadata": {},
   "outputs": [],
   "source": [
    "list3 = []\n",
    "for i in range(len(list1)) :\n",
    "\tlist3.append(list1[i])\n",
    "\tlist3.append(list2[i])\n"
   ]
  },
  {
   "cell_type": "markdown",
   "metadata": {},
   "source": [
    "Given the lists list1 and list2 that are of the same length, create a new list consisting of the last element of list1 followed by the last element of list2, followed by the second to last element of list1, followed by the second to last element of list2, and so on (in other words the new list should consist of alternating elements of the reverse of list1 and list2). For example, if list1 contained [1, 2, 3] and list2 contained [4, 5, 6], then the new list should contain [3, 6, 2, 5, 1, 4]. Associate the new list with the variable list3.\n",
    "\n"
   ]
  },
  {
   "cell_type": "code",
   "execution_count": null,
   "metadata": {},
   "outputs": [],
   "source": [
    "list3 = []\n",
    "for i in range(len(list1)-1, -1, -1) :\n",
    "\tlist3.append(list1[i])\n",
    "\tlist3.append(list2[i])"
   ]
  },
  {
   "cell_type": "markdown",
   "metadata": {},
   "source": [
    "Given the lists list1 and list2, not necessarily of the same length, create a new list consisting of alternating elements of list1 and list2 (that is, the first element of list1 followed by the first element of list2, followed by the second element of list1, followed by the second element of list2, and so on. Once the end of either list is reached, no additional elements are added. For example, if list1 contained [1, 2, 3] and list2 contained [4, 5, 6, 7, 8], then the new list should contain [1, 4, 2, 5, 3, 6]. Associate the new list with the variable list3.\n",
    "\n"
   ]
  },
  {
   "cell_type": "code",
   "execution_count": null,
   "metadata": {},
   "outputs": [],
   "source": [
    "list3 = []\n",
    "for i in range(min(len(list1), len(list2))) :\n",
    "\tlist3.append(list1[i])\n",
    "\tlist3.append(list2[i])\n"
   ]
  },
  {
   "cell_type": "markdown",
   "metadata": {},
   "source": [
    "An arithmetic progression is a sequence of numbers in which the distance (or difference) between any two successive numbers is the same. This in the sequence 1, 3, 5, 7, ..., the distance is 2 while in the sequence 6, 12, 18, 24, ..., the distance is 6.\n",
    "\n",
    "Given the positive integer distance and the non-negative integer n, create a list consisting of the arithmetic progression between (and including) 1 and n with a distance of distance. For example, if distance is 2 and n is 8, the list would be [1, 3, 5, 7].\n",
    "\n",
    "Associate the list with the variable arith_prog.\n",
    "\n"
   ]
  },
  {
   "cell_type": "code",
   "execution_count": null,
   "metadata": {},
   "outputs": [],
   "source": [
    "arith_prog = []\n",
    "for i in range(1, n+1, distance) :\n",
    "    arith_prog.append(i)\n",
    "\n",
    "arith_prog = [i for i in range(1, n+1, distance)]\n"
   ]
  },
  {
   "cell_type": "markdown",
   "metadata": {},
   "source": [
    "An arithmetic progression is a sequence of numbers in which the distance (or difference) between any two successive numbers if the same. This in the sequence 1, 3, 5, 7, ..., the distance is 2 while in the sequence 6, 12, 18, 24, ..., the distance is 6.\n",
    "\n",
    "Given the positive integer distance and the integers m and n, create a list consisting of the arithmetic progression between (and including) m and n with a distance of distance (if m > n, the list should be empty.) For example, if distance is 2, m is 5, and n is 12, the list would be [5, 7, 9, 11].\n",
    "\n",
    "Associate the list with the variable arith_prog.\n",
    "\n"
   ]
  },
  {
   "cell_type": "code",
   "execution_count": null,
   "metadata": {},
   "outputs": [],
   "source": [
    "arith_prog = list(range(m,n+1,distance))"
   ]
  },
  {
   "cell_type": "markdown",
   "metadata": {},
   "source": [
    "A geometric progression is a sequence of numbers in which each value (after the first) is obtained by multiplying the previous value in the sequence by a fixed value called the common ratio. For example the sequence 3, 12, 48, 192, ... is a geometric progression in which the common ratio is 4.\n",
    "\n",
    "Given the positive integer ratio greater than 1, and the non-negative integer n, create a list consisting of the geometric progression of numbers between (and including) 1 and n with a common ratio of ratio. For example, if ratio is 2 and n is 8, the list would be [1, 2, 4, 8].\n",
    "\n",
    "Associate the list with the variable geom_prog."
   ]
  },
  {
   "cell_type": "code",
   "execution_count": null,
   "metadata": {},
   "outputs": [],
   "source": [
    "geom_prog = []\n",
    "i = 1\n",
    "while i <= n :\n",
    "    geom_prog.append(i)\n",
    "    i *= ratio"
   ]
  },
  {
   "cell_type": "markdown",
   "metadata": {},
   "source": [
    "In the following sequence, each number (except the first two) is the sum of the previous two number: 0, 1, 1, 2, 3, 5, 8, 13, .... This sequence is known as the Fibonacci sequence.\n",
    "\n",
    "Given the positive integer n create a list consisting of the portion of the Fibonacci sequence less than or equal to n. For example, if n is 6, then the list would be [0, 1, 1, 2, 3, 5] and if n is 1, then the list would be [0, 1, 1].\n",
    "\n",
    "Associate the list with the variable fib.\n",
    "\n"
   ]
  },
  {
   "cell_type": "code",
   "execution_count": null,
   "metadata": {},
   "outputs": [],
   "source": [
    "fib = [0, 1]\n",
    "i = 1\n",
    "lastI = 0\n",
    "while i+lastI <= n :\n",
    "    lastI, i = i, lastI + i\n",
    "    fib.append(i)"
   ]
  },
  {
   "cell_type": "markdown",
   "metadata": {},
   "source": [
    "In the following sequence, each number (except the first two) is the sum of the previous two number: 0, 1, 1, 2, 3, 5, 8, 13, .... This sequence is known as the Fibonacci sequence.\n",
    "\n",
    "Given the positive integers m and n (with m < n) create a list consisting of the portion of the Fibonacci sequence greater than or equal to m and less than or equal to n. For example, if m is 3 and n is 6, then the list would be [3, 5] and if m is 2 and n is 20, then the list would be [2, 3, 5, 8, 13].\n",
    "\n",
    "Associate the list with the variable fib.\n",
    "\n"
   ]
  },
  {
   "cell_type": "code",
   "execution_count": null,
   "metadata": {},
   "outputs": [],
   "source": [
    "fib = []\n",
    "if m <= 0 and n >= 0 : fib.append(0)\n",
    "if m <= 1 and n >= 1 : fib.append(1)\n",
    "i = 1\n",
    "lastI = 0\n",
    "while i+lastI <= n :\n",
    "    lastI, i = i, lastI + i\n",
    "    if i >= m :\n",
    "        fib.append(i)"
   ]
  },
  {
   "cell_type": "markdown",
   "metadata": {},
   "source": [
    "A triangular number is a number that is the sum of the integers from 1 to some integer n. Thus 1 is a triangular number because it's the sum of the integers from 1 to 1; 6 is a triangular number because it's 1+2+3=6.\n",
    "\n",
    "Given the non-negative integer n, create a list of the first n triangular numbers. Thus is n was 5, the list would be: [1, 3, 6, 10, 15]. Associate the list with the variable triangulars.\n",
    "\n"
   ]
  },
  {
   "cell_type": "code",
   "execution_count": null,
   "metadata": {},
   "outputs": [],
   "source": [
    "Sum = 0 \n",
    "triangulars = [] \n",
    "\n",
    "for x in range(1,1+n): \n",
    "\tSum += x\n",
    "\ttriangulars.append(Sum)"
   ]
  },
  {
   "cell_type": "markdown",
   "metadata": {},
   "source": [
    "A triangular number is a number that is the sum of the integers from 1 to some integer n. Thus 1 is a triangular number because it's the sum of the integers from 1 to 1; 6 is a triangular number because it's 1+2+3=6.\n",
    "\n",
    "Given the non-negative integers m and n (with m < n), create a list of the triangular numbers between (and including) m and n. Thus if m is 3 and n is 20, the list would be: [3, 6, 10, 15]. Associate the list with the variable triangulars.\n",
    "\n"
   ]
  },
  {
   "cell_type": "code",
   "execution_count": null,
   "metadata": {},
   "outputs": [],
   "source": [
    "triangulars = []\n",
    "t = 0\n",
    "i = 1\n",
    "while t+i <= n :\n",
    "    t += i\n",
    "    if t >= m : triangulars.append(t)\n",
    "    i += 1"
   ]
  },
  {
   "cell_type": "markdown",
   "metadata": {},
   "source": [
    "Given that alist has been defined to be a list with at least 4 elements, write a statement that removes its 4th element.\n",
    "\n"
   ]
  },
  {
   "cell_type": "code",
   "execution_count": null,
   "metadata": {},
   "outputs": [],
   "source": [
    "del alist[3]"
   ]
  },
  {
   "cell_type": "markdown",
   "metadata": {},
   "source": [
    "Given that k refers to a non-negative int and that alist has been defined to be a list with at least k+1 elements, write a statement that removes the element at index k.\n",
    "\n"
   ]
  },
  {
   "cell_type": "code",
   "execution_count": null,
   "metadata": {},
   "outputs": [],
   "source": [
    "del alist[k]"
   ]
  },
  {
   "cell_type": "markdown",
   "metadata": {},
   "source": [
    "Given that alist has been defined to be a non-empty list (that is with at least one element), write a statement that removes its first element.\n",
    "\n"
   ]
  },
  {
   "cell_type": "code",
   "execution_count": null,
   "metadata": {},
   "outputs": [],
   "source": [
    "del alist[0]"
   ]
  },
  {
   "cell_type": "markdown",
   "metadata": {},
   "source": [
    "#### MPL Extra: List Challenges"
   ]
  },
  {
   "cell_type": "markdown",
   "metadata": {},
   "source": [
    "Given the list names, find the largest element in the list and swap it with the last element. For example, the list [\"Carlton\", \"Quincy\" \"Adam\", \"Bernard\"] would become [\"Carlton\", \"Bernard\", \"Adam\", \"Quincy\"]. Assume names is not empty.\n",
    "\n"
   ]
  },
  {
   "cell_type": "code",
   "execution_count": null,
   "metadata": {},
   "outputs": [],
   "source": [
    "index = names.index(max(names))\n",
    "names[index], names[-1] = names[-1], names[index]"
   ]
  },
  {
   "cell_type": "markdown",
   "metadata": {},
   "source": [
    "Create a list of the odd numbers between 1 and n (include 1 as well as n -- if it's odd-- in the list). Associate the list with the variable odds.\n",
    "\n"
   ]
  },
  {
   "cell_type": "code",
   "execution_count": null,
   "metadata": {},
   "outputs": [],
   "source": [
    "odds= list(range(1,n+1,2))"
   ]
  },
  {
   "cell_type": "markdown",
   "metadata": {},
   "source": [
    "Create a list of the odd numbers between m and n (assume m is odd; also, include n-- if its odd-- in the list), and associate it with the variable odds.\n",
    "\n"
   ]
  },
  {
   "cell_type": "code",
   "execution_count": null,
   "metadata": {},
   "outputs": [],
   "source": [
    "odds= list(range(m,n+1,2))"
   ]
  },
  {
   "cell_type": "markdown",
   "metadata": {},
   "source": [
    "Given the list my_list containing integers, create a list consisting of all the even elements of my_list. Associate the new list with the variable new_list.\n",
    "\n"
   ]
  },
  {
   "cell_type": "code",
   "execution_count": null,
   "metadata": {},
   "outputs": [],
   "source": [
    "new_list = [i for i in my_list if i % 2 == 0]"
   ]
  },
  {
   "cell_type": "code",
   "execution_count": null,
   "metadata": {},
   "outputs": [],
   "source": [
    "new_list = []\n",
    "for i in my_list :\n",
    "    if i % 2 == 0 : new_list.append(i)"
   ]
  },
  {
   "cell_type": "markdown",
   "metadata": {},
   "source": [
    "Create a list consisting of the negative values in the list numbers. Associate the new list with the variable negatives.\n",
    "\n"
   ]
  },
  {
   "cell_type": "code",
   "execution_count": null,
   "metadata": {},
   "outputs": [],
   "source": [
    "negatives = [i for i in numbers if i < 0]\n"
   ]
  },
  {
   "cell_type": "code",
   "execution_count": null,
   "metadata": {},
   "outputs": [],
   "source": [
    "negatives = []\n",
    "for i in numbers :\n",
    "    if i < 0 : negatives.append(i)\n"
   ]
  },
  {
   "cell_type": "markdown",
   "metadata": {},
   "source": [
    "The factors of an integer are those numbers that evenly divide into the integer. Given the integer n, create a list of all the factors of n, excluding 1 and n itself. The list should be ordered from smallest to largest. Associate the new list with the variable factors.\n",
    "\n"
   ]
  },
  {
   "cell_type": "code",
   "execution_count": null,
   "metadata": {},
   "outputs": [],
   "source": [
    "factors= [i for i in range(2, n) if n % i == 0]"
   ]
  },
  {
   "cell_type": "code",
   "execution_count": null,
   "metadata": {},
   "outputs": [],
   "source": [
    "factors = []\n",
    "for i in range(2, n) :\n",
    "    if n % i == 0 :\n",
    "        factors.append(i)"
   ]
  },
  {
   "cell_type": "markdown",
   "metadata": {},
   "source": [
    "The factors of an integer are those numbers that evenly divide into the integer. Given the integer n, create a list of all the factors of n, excluding 1 and n itself. Associate the new list with the variable factors. The list should be ordered from largest to smallest.\n",
    "\n"
   ]
  },
  {
   "cell_type": "code",
   "execution_count": null,
   "metadata": {},
   "outputs": [],
   "source": [
    "factors= [i for i in range(n-1, 1, -1) if n % i == 0]"
   ]
  },
  {
   "cell_type": "code",
   "execution_count": null,
   "metadata": {},
   "outputs": [],
   "source": [
    "factors = []\n",
    "for i in range(n-1, 1, -1) :\n",
    "    if n % i == 0 :\n",
    "        factors.append(i)"
   ]
  },
  {
   "cell_type": "markdown",
   "metadata": {},
   "source": [
    "Given the list lst of positive integers, associate the largest duplicated element with the variable max_dup. If the list contains no duplicates, associate -1 with max_dup\n",
    "\n"
   ]
  },
  {
   "cell_type": "code",
   "execution_count": null,
   "metadata": {},
   "outputs": [],
   "source": [
    "max_dup = -1\n",
    "for i in range(len(lst)) :\n",
    "    if lst[i] in lst[i+1:] and max_dup < lst[i] :\n",
    "        max_dup = lst[i]\n"
   ]
  },
  {
   "cell_type": "markdown",
   "metadata": {},
   "source": [
    "#### 7.7 Tubles"
   ]
  },
  {
   "cell_type": "markdown",
   "metadata": {},
   "source": [
    "Write a statement that associates t with the empty tuple.\n",
    "\n"
   ]
  },
  {
   "cell_type": "code",
   "execution_count": null,
   "metadata": {},
   "outputs": [],
   "source": [
    "t=()"
   ]
  },
  {
   "cell_type": "markdown",
   "metadata": {},
   "source": [
    "Write a statement that associates t with a tuple that contains the following elements: 42, 56, 7 .\n",
    "\n"
   ]
  },
  {
   "cell_type": "code",
   "execution_count": null,
   "metadata": {},
   "outputs": [],
   "source": [
    "t=(42,56,7)"
   ]
  },
  {
   "cell_type": "markdown",
   "metadata": {},
   "source": [
    "Given that t has already been defined and refers to a tuple, write an expression whose value is the tuple's length.\n",
    "\n"
   ]
  },
  {
   "cell_type": "code",
   "execution_count": null,
   "metadata": {},
   "outputs": [],
   "source": [
    "len(t)"
   ]
  },
  {
   "cell_type": "markdown",
   "metadata": {},
   "source": [
    "Write an expression that evaluates to the value of the first element of the tuple that t refers to.\n",
    "\n"
   ]
  },
  {
   "cell_type": "code",
   "execution_count": null,
   "metadata": {},
   "outputs": [],
   "source": [
    "t[0]"
   ]
  },
  {
   "cell_type": "markdown",
   "metadata": {},
   "source": [
    "Given that t refers to a tuple, write a statement that assigns the value of its first element to k.\n",
    "\n"
   ]
  },
  {
   "cell_type": "code",
   "execution_count": null,
   "metadata": {},
   "outputs": [],
   "source": [
    "k=t[0]"
   ]
  },
  {
   "cell_type": "markdown",
   "metadata": {},
   "source": [
    "Given that k refers to a non-negative int value and that t has been defined and refers to a tuple with at least k+1 elements, write an expression that evaluates to the kth element of t.\n",
    "\n"
   ]
  },
  {
   "cell_type": "code",
   "execution_count": null,
   "metadata": {},
   "outputs": [],
   "source": [
    "t[k]"
   ]
  },
  {
   "cell_type": "markdown",
   "metadata": {},
   "source": [
    "Given that t has been defined and refers to a tuple write a statement that associates play_list with a list containing the same elements as t.\n",
    "\n"
   ]
  },
  {
   "cell_type": "code",
   "execution_count": null,
   "metadata": {},
   "outputs": [],
   "source": [
    "play_list=list(t)"
   ]
  },
  {
   "cell_type": "markdown",
   "metadata": {},
   "source": [
    "Given that play_list has been defined and refers to a list, write a statement that associates t with a tuple containing the same elements as play_list.\n",
    "\n"
   ]
  },
  {
   "cell_type": "code",
   "execution_count": null,
   "metadata": {},
   "outputs": [],
   "source": [
    "t=tuple(play_list)"
   ]
  },
  {
   "cell_type": "markdown",
   "metadata": {},
   "source": [
    "Given that t has been defined and refers to a tuple write some statements that associate with t a new tuple containing the same elements as the original but in sorted order.\n",
    "\n"
   ]
  },
  {
   "cell_type": "code",
   "execution_count": null,
   "metadata": {},
   "outputs": [],
   "source": [
    "t=list(t)\n",
    "t=sorted(t)\n",
    "t=tuple(t)"
   ]
  },
  {
   "cell_type": "markdown",
   "metadata": {},
   "source": [
    "Given a variable t that is associated with a tuple whose elements are numbers, write some statements that use a while loop to count the number of times the first element of the tuple appears in the rest of the tuple, and associate that number with the variable repeats. Thus if the tuple contains (1,6,5,7,1,3,4,1), then repeats would be assigned the value 2 because after the first \"1\" there are two more \"1\"s.\n",
    "\n"
   ]
  },
  {
   "cell_type": "code",
   "execution_count": null,
   "metadata": {},
   "outputs": [],
   "source": [
    "repeats=0\n",
    "i=1\n",
    "while i<len(t):\n",
    "\tif t[0]==t[i]:\n",
    "\t\trepeats += 1\n",
    "\ti += 1"
   ]
  },
  {
   "cell_type": "markdown",
   "metadata": {},
   "source": [
    "#### Programming Projects"
   ]
  },
  {
   "cell_type": "markdown",
   "metadata": {},
   "source": [
    "Write a program that reads in a line of numbers separated by spaces and then displays each distinct number (i.e., if a numer appears multiple times in the original list, it is printed only once).\t\n",
    "\n",
    "\n",
    "SAMPLE RUN 1\n",
    "\n",
    "\n",
    "\n",
    "Interactive Session\n",
    "Enter ten numbers:1 2 3 5 2 3 9 8 9 4\n",
    "1 2 3 5 9 8 4"
   ]
  },
  {
   "cell_type": "code",
   "execution_count": null,
   "metadata": {},
   "outputs": [],
   "source": [
    "numbers= list(map(int,input(\"Enter ten numbers:\").split()))\n",
    "new = []\n",
    "\n",
    "for i in numbers:\n",
    "\tif i in new:\n",
    "\t\tpass\n",
    "\telse:\n",
    "\t\tnew.append(i)\n",
    "\t\t\n",
    "for i in new:\n",
    "\tprint(i, end=\" \")"
   ]
  },
  {
   "cell_type": "markdown",
   "metadata": {},
   "source": [
    "Write the function isSorted(), which takes a list of numbers and returns whether or not the list is sorted in increasing order. \n",
    "\n",
    "Write a test program that prompts the user to enter a list. If the list is sorted, the program should print \"The list is already sorted.\" Otherwise, it should print \"The list is not sorted.\"\t\n",
    "\n",
    "\n",
    "\n",
    "SAMPLE RUN 1\n",
    "\n",
    "\n",
    "\n",
    "\n",
    "Interactive Session\n",
    "Enter list:5 7 1 2 9 5 8 8 2 7 3 4 5 5 3\n",
    "The list is not sorted."
   ]
  },
  {
   "cell_type": "code",
   "execution_count": null,
   "metadata": {},
   "outputs": [],
   "source": [
    "def isSorted():\n",
    "\tK= list(map(int,input(\"Enter list:\").split()))\n",
    "\tif K==sorted(K):\n",
    "\t\tprint(\"The list is already sorted.\")\n",
    "\telse:\n",
    "\t\tprint(\"The list is not sorted.\")\n",
    "\t\t\n",
    "isSorted()"
   ]
  },
  {
   "cell_type": "markdown",
   "metadata": {},
   "source": [
    "The Magic Square is a grid with 3 rows and 3 columns with the following properties:\n",
    "* The grid contains every number from 1 to 9.\n",
    "* The sum of each row, each column, and each diagonal all add up to the same number.\n",
    "\n",
    "This is an example of a Magic Square:\n",
    "\n",
    "4 9 2\n",
    "\n",
    "3 5 7\n",
    "\n",
    "8 1 6\n",
    "\n",
    "You can simulate a 3x3 grid using a two-dimensional list. For example, the list\n",
    "corresponding to the grid above would be: [[4, 9, 2], [3, 5, 7], [8, 1, 6]]\n",
    "\n",
    "Write a function that accepts a two-dimensional list as an argument and\n",
    "returns whether the list represents a Magic Square (either True or False).\n",
    "\n",
    "Create a program that tests the function on the following two-dimensional lists and prints out the results each on a separate line:\n",
    "\n",
    "[[4, 9, 2], [3, 5, 7], [8, 1, 6]]\n",
    "\n",
    "[[2, 7, 6], [9, 5, 1], [4, 3, 8]]\n",
    "\n",
    "[[1, 2, 3], [4, 5, 6], [7, 8, 9]]\n",
    "\n",
    "[[4, 9, 2], [3, 5, 5], [8, 1, 6]]\t\n"
   ]
  },
  {
   "cell_type": "code",
   "execution_count": null,
   "metadata": {},
   "outputs": [],
   "source": [
    "#------isMagicSquare function------------\n",
    "\n",
    "def isMagicSquare(square):\n",
    "    #[[a, b, c], [d, e, f], [g, h, i]]\n",
    "    \n",
    "    #   a  b  c\n",
    "    #   d  e  f\n",
    "    #   g  h  i\n",
    "\n",
    "    #Test:\n",
    "    # - contains numbers 1 through 9 \n",
    "    # - the sum of every row, column, and diagonal is the same\n",
    "\n",
    "    #test whether numbers 1 through 9 are present\n",
    "    #remove numbers from this list if they are in the square\n",
    "    #if there are no numbers left at the end, the square\n",
    "    #has every number from 1-9\n",
    "    nineList = [1, 2, 3, 4, 5, 6, 7, 8, 9]\n",
    "\n",
    "    #test if the sum of every column is the same\n",
    "\n",
    "    for i in range(0, 3):\n",
    "        for j in range(0, 3):\n",
    "\n",
    "            for k in nineList:\n",
    "                if square[i][j] == k:\n",
    "                    nineList.remove(k)\n",
    "\n",
    "    \n",
    "    if nineList!=[]:\n",
    "        return False\n",
    "\n",
    "    #test if the sum of rows, columns, and diags\n",
    "    a = square[0][0]\n",
    "    b = square[0][1]\n",
    "    c = square[0][2]\n",
    "    d = square[1][0]\n",
    "    e = square[1][1]\n",
    "    f = square[1][2]\n",
    "    g = square[2][0]\n",
    "    h = square[2][1]\n",
    "    i = square[2][2]\n",
    "    \n",
    "    row0 = a + b + c\n",
    "    row1 = d + e + f\n",
    "    row2 = g + h + i\n",
    "\n",
    "    if row0 != row1 or row1 != row2 or row0 != row2:\n",
    "        return False\n",
    "\n",
    "    col0 = a + d + g\n",
    "    col1 = b + e + h\n",
    "    col2 = c + f + i\n",
    "\n",
    "    if col0 != col1 or row1 != col2 or col0 != col2:\n",
    "        return False\n",
    "\n",
    "    diag1 = a + e + i\n",
    "    diag2 = c + e + g\n",
    "\n",
    "    if diag1 != diag2:\n",
    "        return False\n",
    "\n",
    "    if diag1 != row1 != col1:\n",
    "        return False\n",
    "\n",
    "    return True\n",
    "\n",
    "\n",
    "\n",
    "#------program starts here--------\n",
    "\n",
    "square1 = [[4, 9, 2],[3,5,7],[8,1,6]]\n",
    "square2 = [[2, 7, 6], [9, 5, 1], [4, 3, 8]]\n",
    "square3 = [[1, 2, 3], [4, 5, 6], [7, 8, 9]]\n",
    "square4 = [[4, 9, 2], [3, 5, 5], [8, 1, 6]]\n",
    "\n",
    "print(isMagicSquare(square1))\n",
    "print(isMagicSquare(square2))\n",
    "print(isMagicSquare(square3))\n",
    "print(isMagicSquare(square4))"
   ]
  },
  {
   "cell_type": "markdown",
   "metadata": {},
   "source": [
    "## Chapter 8. More on the Functions"
   ]
  },
  {
   "cell_type": "markdown",
   "metadata": {},
   "source": [
    "#### Programming Projects"
   ]
  },
  {
   "cell_type": "markdown",
   "metadata": {},
   "source": [
    "A prime number is a number that is only evenly divisble by itself and 1.\n",
    "For example, the number 5 is prime because it can only be evenlly divided by 1\n",
    "and 5. The number 6, however, is not prime because it can be divided evenly\n",
    "by 2 and 3.\n",
    "\n",
    "Write a Boolean function named is_prime which takes an integer as an argument\n",
    "and returns true if the argument is a prime number, or false otherwise. Use\n",
    "the function in a program that prompts the user to enter a number and then\n",
    "prints whether the number is prime.\t"
   ]
  },
  {
   "cell_type": "code",
   "execution_count": null,
   "metadata": {},
   "outputs": [],
   "source": [
    "n=int(input(\"Enter an integer:\"))\n",
    "def is_prime(n):\n",
    "\tif n<2:\n",
    "\t\treturn False\n",
    "\telif n==2:\n",
    "\t\treturn True\n",
    "\telse:\n",
    "\t\ti=2\n",
    "\twhile i<n:\n",
    "\t\tif((n%i)==0):\n",
    "\t\t\treturn False\n",
    "\t\telif (n==27):\n",
    "\t\t\treturn False\n",
    "\t\telse: \n",
    "\t\t\ti+=1\n",
    "\treturn True\n",
    "print(is_prime(n))"
   ]
  },
  {
   "cell_type": "markdown",
   "metadata": {},
   "source": [
    "Using the is_prime function from exercise 17, write a program that prints\n",
    "the prime numbers from 1 to 100 each on their own line.\t\n",
    "\n",
    "SAMPLE RUN 0: python3 PrimeNumberList.py"
   ]
  },
  {
   "cell_type": "code",
   "execution_count": null,
   "metadata": {},
   "outputs": [],
   "source": [
    "def main():\n",
    "    # Use a for loop to iterate from 0 to 100\n",
    "    for number in range(1,101):\n",
    "        # Call the is_prime() function\n",
    "        prime=is_prime(number)\n",
    "        if prime:\n",
    "            print(number)\n",
    "\n",
    "# implementation of a boolean function is_prime\n",
    "def is_prime(number):\n",
    "    if number ==1:\n",
    "       return False\n",
    "    prime = True\n",
    "    # Use a for loop to check the range\n",
    "    for i in range(2, number):\n",
    "  \n",
    "        # if the number is divisible by i\n",
    "        if number%i == 0:\n",
    "            # Assign false to the variable prime\n",
    "            prime= False\n",
    "            return prime\n",
    "        else:\n",
    "            # Assign false to the variable prime\n",
    "            prime = True        \n",
    "    return prime\n",
    "#Call main function\n",
    "main()"
   ]
  },
  {
   "cell_type": "markdown",
   "metadata": {},
   "source": [
    "## Chapter 11 - INTRODUCTION TO THE CLASSES"
   ]
  },
  {
   "cell_type": "markdown",
   "metadata": {},
   "source": [
    "Suppose there is a class AirConditioner. The class supports the following behaviors: turning the air conditioner on and off. The following methods are provided for these behaviors: turn_on and turn_off. Both methods accept no arguments and return no value.\n",
    "\n",
    "There is a reference variable my_ac to an object of this class, which has already been created. Invoke a method to turn the air conditioner on."
   ]
  },
  {
   "cell_type": "code",
   "execution_count": null,
   "metadata": {},
   "outputs": [],
   "source": [
    "my_ac.turn_on();"
   ]
  },
  {
   "cell_type": "markdown",
   "metadata": {},
   "source": [
    "Suppose there is a class AirConditioner. The class supports the following behaviors: turning the air conditioner on and off. The following methods are provided for these behaviors: turn_on and turn_off. Both methods accept no arguments and return no value.\n",
    "\n",
    "There is a reference variable my_ac to an object of this class, which has already been created. Invoke a method to turn the air conditioner off."
   ]
  },
  {
   "cell_type": "code",
   "execution_count": null,
   "metadata": {},
   "outputs": [],
   "source": [
    "my_ac.turn_off();"
   ]
  },
  {
   "cell_type": "markdown",
   "metadata": {},
   "source": [
    "Suppose there is a class AirConditioner. The class supports the following behaviors: turning the air conditioner on, off, and setting the desired temperature. The following methods are provided for these behaviors: turn_on and turn_off, which accept no arguments and return no value, and set_temp, which accepts an int argument and returns no value.\n",
    "\n",
    "There is a reference variable my_ac to an object of this class, which has already been created. Invoke a method telling the object to set the air conditioner to 72 degrees."
   ]
  },
  {
   "cell_type": "code",
   "execution_count": null,
   "metadata": {},
   "outputs": [],
   "source": [
    "my_ac.set_temp(72);"
   ]
  },
  {
   "cell_type": "markdown",
   "metadata": {},
   "source": [
    "Suppose there is a class AirConditioner. The class supports the following behaviors: turning the air conditioner on, off, setting the desired temperature, and telling the previously set temperature. The following methods are provided for these behaviors: turn_on and turn_off, which accept no arguments and return no value, set_temp, which accepts an int argument and returns no value, and get_temp, which accepts no value and returns an int.\n",
    "\n",
    "There is a reference variable my_ac to an object of this class, which has already been created. There is also a variable called current_temp, which has already been initialized. Invoke a method using the reference variable which returns the previously set temperature of the air conditioner, and store the returned value in current_temp.\n",
    "\n"
   ]
  },
  {
   "cell_type": "code",
   "execution_count": null,
   "metadata": {},
   "outputs": [],
   "source": [
    "current_temp = my_ac.get_temp();"
   ]
  },
  {
   "cell_type": "markdown",
   "metadata": {},
   "source": [
    "Suppose there is a class AirConditioner. The class supports the following behaviors: turning the air conditioner on, off, and checking if the air conditioner is on or off. The following methods are provided for these behaviors: turn_on and turn_off, which accept no arguments and return no value, and is_on, which accepts no argument and returns a bool indicating whether the air conditioner is on or off.\n",
    "\n",
    "There is a reference variable my_ac to an object of this class, which has already been created. There is also a variable status, which has already been initialized which refers to a bool. Invoke a method of this object using the reference variable, asking the object to tell whether the air conditioner is on or off, and store the result in status.\n",
    "\n"
   ]
  },
  {
   "cell_type": "code",
   "execution_count": null,
   "metadata": {},
   "outputs": [],
   "source": [
    "status = my_ac.is_on();"
   ]
  },
  {
   "cell_type": "markdown",
   "metadata": {},
   "source": [
    "Suppose there is a class AirConditioner. The class supports the following behaviors: turning the air conditioner on and off. The following methods are provided for these behaviors: turn_on and turn_off. Both methods accept no arguments and return no value.\n",
    "\n",
    "There is a reference variable office_a_c of type AirConditioner. Create a new object of type AirConditioner using the office_a_c reference variable. After that, turn the air conditioner on using the reference to the new object.\n",
    "\n"
   ]
  },
  {
   "cell_type": "code",
   "execution_count": null,
   "metadata": {},
   "outputs": [],
   "source": [
    "office_a_c = AirConditioner();\n",
    "new_object = office_a_c;\n",
    "new_object.turn_on();"
   ]
  },
  {
   "cell_type": "markdown",
   "metadata": {},
   "source": [
    "Suppose there is a class AirConditioner. The class supports the following behaviors: turning the air conditioner on, off, and setting the desired temperature. The following methods are provided for these behaviors: turn_on and turn_off, which accept no arguments and return no value, and set_temp, which accepts an int argument and returns no value.\n",
    "\n",
    "There is a reference variable office_a_c of type AirConditioner. Create a new object of type AirConditioner using the office_a_c reference variable. After that, turn the air conditioner on using the reference to the new object, and set the desired temperature to 69 degrees.\n",
    "\n"
   ]
  },
  {
   "cell_type": "code",
   "execution_count": null,
   "metadata": {},
   "outputs": [],
   "source": [
    "office_a_c = AirConditioner();\n",
    "new_object = office_a_c;\n",
    "new_object.set_temp(69);"
   ]
  },
  {
   "cell_type": "markdown",
   "metadata": {},
   "source": [
    "Write the definition of a class Counter containing:\n",
    "* An instance variable counter of type int, initialized to 0.\n",
    "* A method called increment that adds one to the instance variable counter. It does not accept parameters or return a value.\n",
    "* A method called get_value that doesn't accept any parameters. It returns the value of the instance variable counter.\n"
   ]
  },
  {
   "cell_type": "code",
   "execution_count": null,
   "metadata": {},
   "outputs": [],
   "source": [
    "class Counter:\n",
    "    counter = 0\n",
    "    def increment(self):\n",
    "        self.counter=self.counter+1\n",
    "    def get_value(self):\n",
    "        return self.counter;"
   ]
  },
  {
   "cell_type": "markdown",
   "metadata": {},
   "source": [
    "Write the definition of a class Counter containing:\n",
    "* An instance variable named counter of type int.\n",
    "* A constructor that takes one int argument and assigns its value to counter\n",
    "* A method named increment that adds one to counter. It does not take parameters or return a value.\n",
    "* A method named decrement that subtracts one from counter. It also does not take parameters or return a value.\n",
    "* A method named get_value that returns the value of the instance variable counter.\n"
   ]
  },
  {
   "cell_type": "code",
   "execution_count": null,
   "metadata": {},
   "outputs": [],
   "source": [
    "class Counter:\n",
    "       counter = 0\n",
    "       def increment(self): self.counter += 1\n",
    "       def decrement(self): self.counter -= 1\n",
    "       def get_value(self): return self.counter\n"
   ]
  },
  {
   "cell_type": "code",
   "execution_count": null,
   "metadata": {},
   "outputs": [],
   "source": [
    "class Counter(object):\n",
    "    def __init__(self):\n",
    "        self.counter = 0\n",
    "    def increment(self):\n",
    "        self.counter += 1\n",
    "    def decrement(self):\n",
    "        self.counter -= 1\n",
    "    def get_value(self):\n",
    "        return self.counter"
   ]
  },
  {
   "cell_type": "markdown",
   "metadata": {},
   "source": [
    "Write the definition of a class Counter containing:\n",
    "* An instance variable named counter of type int\n",
    "* An instance variable named limit of type int.\n",
    "* A constructor that takes two int arguments and assigns the first one to counter and the second one to limit\n",
    "* A method named increment. It does not take parameters or return a value; if the instance variable counter is less than limit, increment just adds one to the instance variable counter.\n",
    "* A method named decrement. It also does not take parameters or return a value; if counter is greater than zero, it just subtracts one from the counter.\n",
    "* A method named get_value that returns the value of the instance variable counter."
   ]
  },
  {
   "cell_type": "code",
   "execution_count": null,
   "metadata": {},
   "outputs": [],
   "source": [
    "#class definition of a Counter\n",
    "\n",
    "class Counter:\n",
    "\n",
    "   #constructor with two int arguments\n",
    "\n",
    "   def __init__(self, c, l):\n",
    "\n",
    "      self.counter = c\n",
    "\n",
    "      self.limit = l\n",
    "\n",
    "   #increment method\n",
    "\n",
    "   def increment(self):\n",
    "\n",
    "      #if counter is less than limit, then\n",
    "\n",
    "      if(self.counter<self.limit):\n",
    "\n",
    "        #increment the counter\n",
    "\n",
    "        self.counter=self.counter+1\n",
    "\n",
    "   #decrement method\n",
    "\n",
    "   def decrement(self):\n",
    "\n",
    "      #if counter greater greater than zero, then\n",
    "\n",
    "      if(self.counter>0):\n",
    "\n",
    "        #decrement the counter\n",
    "\n",
    "        self.counter-=1\n",
    "\n",
    "   #method for get_value()\n",
    "\n",
    "   def get_value(self):\n",
    "\n",
    "      return self.counter;\n",
    "\n",
    "#call Counter with two argument\n",
    "\n",
    "t = Counter(12,20)\n",
    "\n",
    "#call increment() method\n",
    "\n",
    "t.increment()\n",
    "\n",
    "#call get_value() method\n",
    "\n",
    "v = t.get_value()\n",
    "\n",
    "#display the counter value after call increment() method\n",
    "\n",
    "print(\"Counter Value: \",v)\n",
    "\n",
    "#call decrement() method\n",
    "\n",
    "t.decrement()\n",
    "\n",
    "#call get_value() method\n",
    "\n",
    "v = t.get_value()\n",
    "\n",
    "#display the counter value after call decrement() method\n",
    "\n",
    "print(\"Counter Value: \",v)"
   ]
  },
  {
   "cell_type": "code",
   "execution_count": null,
   "metadata": {},
   "outputs": [],
   "source": [
    "class Counter:\n",
    "       counter = 0\n",
    "       limit = 0\n",
    "       def __init__(self, counter, limit):\n",
    "               self.counter = counter\n",
    "               self.limit = limit\n",
    "       def increment(self): \n",
    "               if self.counter < self.limit:\n",
    "                       self.counter += 1\n",
    "       def decrement(self):\n",
    "               if self.counter > 0:\n",
    "                       self.counter -= 1\n",
    "       def get_value(self): return self.counter"
   ]
  },
  {
   "cell_type": "markdown",
   "metadata": {},
   "source": [
    "Write the definition of a class Player containing:\n",
    "* An instance variable name of type String, initialized to the empty String.\n",
    "* An instance variable score of type int, initialized to zero.\n",
    "* A method called set_name that has one parameter, whose value it assigns to the instance variable name.\n",
    "* A method called set_score that has one parameter, whose value it assigns to the instance variable score.\n",
    "* A method called get_name that has no parameters and that returns the value of the instance variable name.\n",
    "* A method called get_score that has no parameters and that returns the value of the instance variable score.\n",
    "\n",
    "No constructor need be defined. "
   ]
  },
  {
   "cell_type": "code",
   "execution_count": null,
   "metadata": {},
   "outputs": [],
   "source": [
    "#class for Player\n",
    "\n",
    "class Player:\n",
    "\n",
    "    def __init__(self):\n",
    "\n",
    "       #initializes the empty string for name\n",
    "\n",
    "       self.name=\"\"\n",
    "\n",
    "       #initializes teh score is 0\n",
    "\n",
    "       self.score=0\n",
    "\n",
    "    #method for set_name() with one parameter name\n",
    "\n",
    "    def set_name(self,name):\n",
    "\n",
    "       self.name=name\n",
    "\n",
    "    #method for set_score() with one parameter score\n",
    "\n",
    "    def set_score(self,score):\n",
    "\n",
    "       self.score=score\n",
    "\n",
    "    #method for get_name()\n",
    "\n",
    "    def get_name(self):\n",
    "\n",
    "       #return name\n",
    "\n",
    "       return self.name\n",
    "\n",
    "    #method for set_score()\n",
    "\n",
    "    def get_score(self):\n",
    "\n",
    "       #return score\n",
    "\n",
    "       return self.score\n",
    "\n",
    "#Player() class\n",
    "\n",
    "test = Player()\n",
    "\n",
    "#assign name\n",
    "\n",
    "test.set_name(\"Merry\")\n",
    "\n",
    "#assign score\n",
    "\n",
    "test.set_score(\"400\")\n",
    "\n",
    "print(\"Name: \",test.get_name())\n",
    "\n",
    "print(\"Score: \",test.get_score())"
   ]
  },
  {
   "cell_type": "code",
   "execution_count": null,
   "metadata": {},
   "outputs": [],
   "source": [
    "class Player:\n",
    "       name = \"\"\n",
    "       score = 0\n",
    "       def set_score(self, score):\n",
    "               self.score = score\n",
    "       def set_name(self, name):\n",
    "               self.name = name\n",
    "       def get_score(self):\n",
    "               return self.score\n",
    "       def get_name(self):\n",
    "               return self.name"
   ]
  },
  {
   "cell_type": "markdown",
   "metadata": {},
   "source": [
    "Write the definition of a class ContestResult containing:\n",
    "* An instance variable winner of type String, initialized to the empty String.\n",
    "* An instance variable second_place of type String, initialized to the empty String.\n",
    "* An instance variable third_place of type String, initialized to the empty String.\n",
    "* A method called set_winner that has one parameter, whose value it assigns to the instance variable winner.\n",
    "* A method called set_second_place that has one parameter, whose value it assigns to the instance variable second_place.\n",
    "* A method called set_third_place that has one parameter, whose value it assigns to the instance variable third_place.\n",
    "* A method called get_winner that has no parameters and that returns the value of the instance variable winner.\n",
    "* A method called get_second_place that has no parameters and that returns the value of the instance variable second_place.\n",
    "* A method called get_third_place that has no parameters and that returns the value of the instance variable third_place.\n",
    "\n",
    "No constructor need be defined. "
   ]
  },
  {
   "cell_type": "code",
   "execution_count": null,
   "metadata": {},
   "outputs": [],
   "source": [
    "#class definition for ContestResult\n",
    "\n",
    "class ContestResult:\n",
    "\n",
    "    #variable initialization\n",
    "\n",
    "    def __init__(self):\n",
    "\n",
    "        self.__winner = \"\"  \n",
    "\n",
    "        self.__second_place = \"\"\n",
    "\n",
    "        self.__third_place = \"\"\n",
    "\n",
    "    #method for set_winner()\n",
    "\n",
    "    def set_winner(self, winner):\n",
    "\n",
    "        #assign to winner variable\n",
    "\n",
    "        self.__winner = winner\n",
    "\n",
    "    #method for set_second_place()\n",
    "\n",
    "    def set_second_place(self, second_place):\n",
    "\n",
    "        #assign to second_place variable\n",
    "\n",
    "        self.__second_place = second_place\n",
    "\n",
    "    #method for set_third_place()\n",
    "\n",
    "    def set_third_place(self, third_place):\n",
    "\n",
    "        #assign to third_place variable\n",
    "\n",
    "        self.__third_place = third_place\n",
    "\n",
    "    #method for get_winner()\n",
    "\n",
    "    def get_winner(self):\n",
    "\n",
    "        print(\"Winner is: \", self.__winner)\n",
    "\n",
    "        return self.__winner\n",
    "\n",
    "    #method for get_second_place()\n",
    "\n",
    "    def get_second_place(self):\n",
    "\n",
    "        print(\"Second place is: \", self.__second_place)\n",
    "\n",
    "        return self.__second_place\n",
    "\n",
    "    #method for get_third_place()  \n",
    "\n",
    "    def get_third_place(self):\n",
    "\n",
    "        print(\"Third place is: \", self.__third_place)\n",
    "\n",
    "        return self.__third_place\n",
    "\n",
    "test = ContestResult()\n",
    "\n",
    "#assign value set method\n",
    "\n",
    "test.set_winner(\"Merry\")\n",
    "\n",
    "test.set_second_place(\"John\")\n",
    "\n",
    "test.set_third_place(\"Rose\")\n",
    "\n",
    "#for print the value\n",
    "\n",
    "test.get_winner()\n",
    "\n",
    "test.get_second_place()\n",
    "\n",
    "test.get_third_place()"
   ]
  },
  {
   "cell_type": "code",
   "execution_count": null,
   "metadata": {},
   "outputs": [],
   "source": [
    "class ContestResult:\n",
    "       winner = \"\"\n",
    "       second_place = \"\"\n",
    "       third_place = \"\"\n",
    "       def set_winner(self, winner): self.winner = winner\n",
    "       def set_second_place(self, second_place): self.second_place = second_place\n",
    "       def set_third_place(self, third_place): self.third_place = third_place\n",
    "       def get_winner(self): return self.winner\n",
    "       def get_second_place(self): return self.second_place\n",
    "       def get_third_place(self): return self.third_place"
   ]
  },
  {
   "cell_type": "markdown",
   "metadata": {},
   "source": [
    "Write the definition of a class WeatherForecast that provides the following behavior (methods):\n",
    "* A method called set_skies that has one parameter, a String.\n",
    "* A method called set_high that has one parameter, an int.\n",
    "* A method called set_low that has one parameter, an int.\n",
    "* A method called get_skies that has no parameters and that returns the value that was last used as an argument in set_skies.\n",
    "* A method called get_high that has no parameters and that returns the value that was last used as an argument in set_high.\n",
    "* A method called get_low that has no parameters and that returns the value that was last used as an argument in set_low.\n",
    "\n",
    "No constructor need be defined. Be sure to define instance variables as needed by your \"get\"/\"set\" methods. "
   ]
  },
  {
   "cell_type": "code",
   "execution_count": null,
   "metadata": {},
   "outputs": [],
   "source": [
    "#class definition for WeatherForecast\n",
    "\n",
    "class WeatherForecast:\n",
    "\n",
    "    #initializes the value\n",
    "\n",
    "    def __init__(self):\n",
    "\n",
    "        self.skies = \"\"\n",
    "\n",
    "        self.low = 0\n",
    "\n",
    "        self.high = 0\n",
    "\n",
    "    #method for set_skies() with one string parameter\n",
    "\n",
    "    def set_skies(self,skies):\n",
    "\n",
    "        self.skies = skies\n",
    "\n",
    "    #method for set_high() with one int parameter\n",
    "\n",
    "    def set_high(self,high):\n",
    "\n",
    "        self.high = high\n",
    "\n",
    "    #method for set_low() with one int parameter\n",
    "\n",
    "    def set_low(self,low):\n",
    "\n",
    "        self.low = low\n",
    "\n",
    "    #method for get_skies() return string argument\n",
    "\n",
    "    def get_skies(self):\n",
    "\n",
    "        print(\"Sky name: \", self.skies)\n",
    "\n",
    "        return self.skies\n",
    "\n",
    "    #method for get_high() return int argument\n",
    "\n",
    "    def get_high(self):\n",
    "\n",
    "        print(\"High: \", self.high)\n",
    "\n",
    "        return self.high\n",
    "\n",
    "    #method for get_low() return int argument\n",
    "\n",
    "    def get_low(self):\n",
    "\n",
    "        print(\"Low: \", self.low)\n",
    "\n",
    "        return self.low\n",
    "\n",
    "test = WeatherForecast()\n",
    "\n",
    "#assign value set method\n",
    "\n",
    "test.set_skies(\"Raining\")\n",
    "\n",
    "test.set_high(10)\n",
    "\n",
    "test.set_low(20)\n",
    "\n",
    "#for print the value\n",
    "\n",
    "test.get_skies()\n",
    "\n",
    "test.get_high()\n",
    "\n",
    "test.get_low()"
   ]
  },
  {
   "cell_type": "code",
   "execution_count": null,
   "metadata": {},
   "outputs": [],
   "source": [
    "class WeatherForecast:\n",
    "        skies = \"\";\n",
    "        high = 0;\n",
    "        low = 0;\n",
    "\n",
    "        def set_skies(self, skies): self.skies = skies\n",
    "        def set_high(self, high): self.high = high\n",
    "        def set_low(self,low): self.low = low\n",
    "\n",
    "        def get_skies(self): return self.skies\n",
    "        def get_high(self): return self.high\n",
    "        def get_low(self): return self.low"
   ]
  },
  {
   "cell_type": "code",
   "execution_count": null,
   "metadata": {},
   "outputs": [],
   "source": [
    "class WeatherForecast:\n",
    "        skies = \"\";\n",
    "        high = 0;\n",
    "        low = 0;\n",
    "\n",
    "        def set_skies(self, skies): self.skies = skies\n",
    "        def set_high(self, high): self.high = high\n",
    "        def set_low(self,low): self.low = low\n",
    "\n",
    "        def get_skies(self): return self.skies\n",
    "        def get_high(self): return self.high\n",
    "        def get_low(self): return self.low"
   ]
  },
  {
   "cell_type": "code",
   "execution_count": null,
   "metadata": {},
   "outputs": [],
   "source": [
    "class WeatherForecast():\n",
    "      skies = \"\"\n",
    "      high = 0\n",
    "      low = 0\n",
    "      def set_skies(self, skies):\n",
    "          self.skies = skies\n",
    "      def get_skies(self):\n",
    "          return self.skies\n",
    "      def set_high(self, high):\n",
    "          self.high = high\n",
    "      def get_high(self):\n",
    "          return self.high\n",
    "      def set_low(self, low):\n",
    "          self.low = low\n",
    "      def get_low(self):\n",
    "          return self.low"
   ]
  },
  {
   "cell_type": "markdown",
   "metadata": {},
   "source": [
    "## Chapter 12 - MORE ON THE CLASSES"
   ]
  },
  {
   "cell_type": "markdown",
   "metadata": {},
   "source": [
    "#### Programming Projects"
   ]
  },
  {
   "cell_type": "markdown",
   "metadata": {},
   "source": [
    "Write a class named Car that has the following data attributes:\n",
    "\n",
    "\n",
    "__year_model: (for the car's year model)\n",
    "\n",
    "__make: (for the make of the car)\n",
    "\n",
    "__speed: (for the car's current speed)\n",
    "\n",
    "\n",
    "\n",
    "In addition, the class should have the following methods:\n",
    "\n",
    "\n",
    "* __init__ method that accepts the car’s year model and make as arguments.  These values should be assigned to the object’s __year_model and __make data attributes. It should also assign 0 to the __speed data attribute.\n",
    "\n",
    "* accelerate: The accelerate method should add 5 to the speed data attribute when  it is called.\n",
    "\n",
    "* brake: The brake method should subtract 5 from the speed data attribute each time it is called.\n",
    "\n",
    "* get_speed: The get_speed method should return the current speed\n",
    "\n",
    "\n",
    "\n",
    "Next, design a program that creates a Car object and then calls the accelerate method \n",
    "five times. After each call to the accelerate method, get the current speed of the car \n",
    "and display it. Then call the brake method five times. After each call to the brake \n",
    "method, get the current speed of the car and display it.\n",
    "\n",
    "SAMPLE RUN 0: python3 Car.py"
   ]
  },
  {
   "cell_type": "code",
   "execution_count": null,
   "metadata": {},
   "outputs": [],
   "source": [
    "class Car:\n",
    "    __year_model = 1900\n",
    "    __make = \"x\"\n",
    "    __speed = 0\n",
    "\n",
    "    def __init__(self, year_model, make):\n",
    "        self.__year_model = year_model\n",
    "        self.__make = make\n",
    "        self.__speed = 0\n",
    "\n",
    "    def accelerate(self):\n",
    "        self.__speed += 5\n",
    "\n",
    "    def brake(self):\n",
    "        self.__speed -= 5\n",
    "\n",
    "    def get_speed(self):\n",
    "        return self.__speed\n",
    "\n",
    "\n",
    "car = Car(2018, \"BMW\")\n",
    "\n",
    "car.accelerate()\n",
    "print(car.get_speed())\n",
    "car.accelerate()\n",
    "print(car.get_speed())\n",
    "car.accelerate()\n",
    "print(car.get_speed())\n",
    "car.accelerate()\n",
    "print(car.get_speed())\n",
    "car.accelerate()\n",
    "print(car.get_speed())\n",
    "\n",
    "car.brake()\n",
    "print(car.get_speed())\n",
    "car.brake()\n",
    "print(car.get_speed())\n",
    "car.brake()\n",
    "print(car.get_speed())\n",
    "car.brake()\n",
    "print(car.get_speed())\n",
    "car.brake()\n",
    "print(car.get_speed())"
   ]
  },
  {
   "cell_type": "code",
   "execution_count": null,
   "metadata": {},
   "outputs": [],
   "source": [
    "class Car:\n",
    "\n",
    "    def __init__(self, ym, m):\n",
    "        self.__year_model = ym\n",
    "        self.__make = m\n",
    "        self.__speed = 0\n",
    "    \n",
    "    \n",
    "    def accelerate(self):\n",
    "        self.__speed += 5\n",
    "\n",
    "    def brake(self):\n",
    "        self.__speed -= 5\n",
    "\n",
    "    def get_speed(self):\n",
    "        return self.__speed\n",
    "    \n",
    "car = Car(1965, 'Ford Anglia')\n",
    "\n",
    "for i in range(0, 5):\n",
    "    car.accelerate()\n",
    "    print(car.get_speed())\n",
    "\n",
    "for i in range(0, 5):\n",
    "    car.brake()\n",
    "    print(car.get_speed())"
   ]
  },
  {
   "cell_type": "markdown",
   "metadata": {},
   "source": [
    "Write a class named Employee that holds the following data about an employee in \n",
    "attributes: name, ID number, department, and job title. Don't include a constructor\n",
    "or any other methods.\n",
    "\n",
    "Once you have written the class, write a program that creates three Employee objects\n",
    "to hold the following data:\n",
    "\n",
    "Name\tID Number\tDepartment\tJob Title\n",
    "* Susan Meyers\t47899\tAccounting\tVice President\n",
    "* Mark Jones\t39119\tIT\tProgrammer\n",
    "* Joy Rogers\t81774\tManufacturing\tEngineering\n",
    "\n",
    "The program should store this data in three Employee objects and then print the \n",
    "data for each employee.\t\n",
    "SAMPLE RUN 0: python3 Employee.py"
   ]
  },
  {
   "cell_type": "code",
   "execution_count": null,
   "metadata": {},
   "outputs": [],
   "source": [
    "class Employee:\n",
    "    name = \"\"\n",
    "    ID = 0\n",
    "    number = 0\n",
    "    department = \"\"\n",
    "    jobTitle = \"\"\n",
    "\n",
    "\n",
    "\n",
    "def infoEmployee(e):\n",
    "    print(\"Name:\", e.name)\n",
    "    print(\"ID Number:\", e.ID)\n",
    "    print(\"Department:\", e.department)\n",
    "    print(\"Job Title:\", e.jobTitle)\n",
    "    print(\"\")\n",
    "\n",
    "e1 = Employee()\n",
    "e1.name = \"Susan Meyers\"\n",
    "e1.ID = 47899\n",
    "e1.department = \"Accounting\"\n",
    "e1.jobTitle = \"Vice President\"\n",
    "\n",
    "e2 = Employee()\n",
    "e2.name = \"Mark Jones\"\n",
    "e2.ID = 39119\n",
    "e2.department = \"IT\"\n",
    "e2.jobTitle = \"Programmer\"\n",
    "\n",
    "e3 = Employee()\n",
    "e3.name = \"Joy Rogers\"\n",
    "e3.ID = 81774\n",
    "e3.department = \"Manufacturing\"\n",
    "e3.jobTitle = \"Engineer\"\n",
    "\n",
    "infoEmployee(e1)\n",
    "infoEmployee(e2)\n",
    "infoEmployee(e3)"
   ]
  },
  {
   "cell_type": "code",
   "execution_count": null,
   "metadata": {},
   "outputs": [],
   "source": [
    "class Employee:\n",
    "    name = \"\"\n",
    "    idNumber = \"\"\n",
    "    department = \"\"\n",
    "    jobTitle = \"\"\n",
    "\n",
    "susanMeyers = Employee()\n",
    "susanMeyers.name = \"Susan Meyers\"\n",
    "susanMeyers.idNumber = \"47899\"\n",
    "susanMeyers.department = \"Accounting\"\n",
    "susanMeyers.jobTitle = \"Vice President\"\n",
    "\n",
    "markJones = Employee()\n",
    "markJones.name = \"Mark Jones\"\n",
    "markJones.idNumber = \"39119\"\n",
    "markJones.department = \"IT\"\n",
    "markJones.jobTitle = \"Programmer\"\n",
    "\n",
    "joyRogers = Employee()\n",
    "joyRogers.name = \"Joy Rogers\"\n",
    "joyRogers.idNumber = \"81774\"\n",
    "joyRogers.department = \"Manufacturing\"\n",
    "joyRogers.jobTitle = \"Engineer\"\n",
    "\n",
    "emp = [susanMeyers, markJones, joyRogers]\n",
    "\n",
    "for employee in emp:\n",
    "    print(\"Name: \" + employee.name)\n",
    "    print(\"ID Number: \" + employee.idNumber)\n",
    "    print(\"Department: \" + employee.department)\n",
    "    print(\"Job Title: \" + employee.jobTitle, end=\"\\n\\n\")"
   ]
  },
  {
   "cell_type": "markdown",
   "metadata": {},
   "source": [
    "Design a class named Account that contains:\n",
    "\n",
    "* A private data field named id that contains an int value referring to the account number\n",
    "* A private data field named balance containing the amount of money in the account as a float value\n",
    "* A private data field named annualInterestRate that stores the current interest rate as a float\n",
    "* A constructor that creates an account with a specified id (default 0), initial balance (default 100), and annual interest rate (default 0)\n",
    "* The accessor and mutator methods for id, balance, and annualInterestRate.\n",
    "* A method named getMonthlyInterestRate() that returns the monthly interest rate (the annual interest rate divided by 12)\n",
    "* A method named getMonthlyInterest() that returns the monthly interest\n",
    "* A method named withdraw that withdraws a specified amount from the account\n",
    "* A method named deposit that deposits a specified amount into the account.\n",
    "\n",
    "Test your class in a program that prompts the user to enter an id, balance, and annual interest rate. It should then ask them whether they want to deposit, withdraw, or get their monthly interest, and invoke the appropriate methods. Before terminating, the program should print out the id number and the balance of the account.\t\n",
    "\n",
    "\n",
    "\n",
    "SAMPLE RUN 1\n"
   ]
  },
  {
   "cell_type": "code",
   "execution_count": null,
   "metadata": {},
   "outputs": [],
   "source": [
    "class Account:\n",
    "    _id = 0\n",
    "    _balance = 0.0\n",
    "    _annualInterestRate = 0.0\n",
    "\n",
    "    def __init__(self):\n",
    "        self._id = 0\n",
    "        self._balance = 100.0\n",
    "        self._annualInterestRate = 0.0\n",
    "\n",
    "    def setId(self, value):\n",
    "        self._id = value\n",
    "\n",
    "    def getId(self):\n",
    "        return self._id\n",
    "\n",
    "    def setBalance(self, value):\n",
    "        self._balance = value\n",
    "\n",
    "    def getBalance(self):\n",
    "        return self._balance\n",
    "\n",
    "    def setAnnualInterestRate(self, value):\n",
    "        self._annualInterestRate = value\n",
    "\n",
    "    def getAnnualInterestRate(self):\n",
    "        return self._annualInterestRate\n",
    "\n",
    "    def getMonthlyInterestRate(self):\n",
    "        return self._annualInterestRate / 12\n",
    "\n",
    "    def getMonthlyInterest(self):\n",
    "        return self._balance + self._balance * self.getMonthlyInterestRate() / 100\n",
    "\n",
    "    def deposit(self, amount):\n",
    "        self._balance += amount\n",
    "\n",
    "    def withdraw(self, amount):\n",
    "        self._balance -= amount\n",
    "\n",
    "\n",
    "\n",
    "\n",
    "acc = Account()\n",
    "acc.setId((int)(input(\"Enter account ID number:\")))\n",
    "acc.setBalance((float)(input(\"Enter account balance:\")))\n",
    "acc.setAnnualInterestRate((float)(input(\"Enter annual interest rate (as a percentage):\")))\n",
    "\n",
    "print(\"Enter\")\n",
    "print(\"1)Deposit\")\n",
    "print(\"2)Withdraw\")\n",
    "choice = (int)(input(\"3)Get monthly interest:\"))\n",
    "\n",
    "if choice == 1:\n",
    "    amount = (float)(input(\"Enter deposit amount:\"))\n",
    "    acc.deposit(amount)\n",
    "    print(\"ID Number:\", acc.getId())\n",
    "    print(\"Balance: $%.2f\" % acc.getBalance())\n",
    "elif choice == 2:\n",
    "    amount = (float)(input(\"Enter amount to withdraw:\"))\n",
    "    acc.withdraw(amount)\n",
    "    print(\"ID Number:\", acc.getId())\n",
    "    print(\"Balance: $%.2f\" % acc.getBalance())\n",
    "else:\n",
    "    #print(acc.getMonthlyInterest())\n",
    "    print(\"ID Number:\", acc.getId())\n",
    "    print(\"Balance: $%.2f\" % acc.getMonthlyInterest())"
   ]
  },
  {
   "cell_type": "code",
   "execution_count": null,
   "metadata": {},
   "outputs": [],
   "source": [
    "class Account:\n",
    "    __id = 0\n",
    "    __balance = 100\n",
    "    __annualInterestRate = 0\n",
    "\n",
    "    def __init__(self, i, b, air):\n",
    "        self.__id = i\n",
    "        self.__balance = b\n",
    "        self.__annualInterestRate = air\n",
    "\n",
    "    def getID(self):\n",
    "        return self.__id\n",
    "\n",
    "    def getBalance(self):\n",
    "        return self.__balance\n",
    "\n",
    "    def getAnnualInterestRate(self):\n",
    "        return self.__annualInterestRate\n",
    "\n",
    "    def setID(self, i):\n",
    "        self.__id = i\n",
    "\n",
    "    def setBalance(self, b):\n",
    "        self.__balance = b\n",
    "\n",
    "    def setAnnualInterestRate(self, air):\n",
    "        self.annualInterestRate = air\n",
    "\n",
    "    def getMonthlyInterestRate(self):\n",
    "        return self.__annualInterestRate/12\n",
    "\n",
    "    def getMonthlyInterest(self):\n",
    "        return self.__balance * self.getMonthlyInterestRate()\n",
    "\n",
    "    def withdraw(self, amt):\n",
    "        if self.__balance - amt >= 0:\n",
    "            self.__balance -= amt\n",
    "\n",
    "    def deposit(self, amt):\n",
    "        self.__balance += amt\n",
    "\n",
    "\n",
    "ID = input(\"Enter account ID number:\")\n",
    "balance = input(\"Enter account balance:\")\n",
    "interest = input(\"Enter annual interest rate (as a percentage):\")\n",
    "\n",
    "account = Account(int(ID), float(balance), float(interest)/100)\n",
    "choice = int(input(\"Enter\\n1)Deposit\\n2)Withdraw\\n3)Get monthly interest:\"))\n",
    "\n",
    "if choice == 1:\n",
    "    amt = input(\"Enter deposit amount:\")\n",
    "    account.deposit(float(amt))\n",
    "elif choice == 2:\n",
    "    amt = input(\"Enter amount to withdraw:\")\n",
    "    account.withdraw(float(amt))\n",
    "else:\n",
    "    account.deposit(account.getMonthlyInterest())\n",
    "\n",
    "print(\"ID Number:\", str(account.getID()) + \"\\nBalance: $\" + \"{0:.{1}f}\".format(account.getBalance(), 2))"
   ]
  },
  {
   "cell_type": "markdown",
   "metadata": {},
   "source": [
    "Use the Account class created in Exercise 7.3 to simulate an ATM machine. Create an account with an initial balance of $100. Then, have the program print out a menu that allows the user to check their balance, withdraw money, deposit money, or exit. The menu should be displayed after every exaction until the user chooses to exit, at which point the program should terminate.\t\n",
    "\n",
    "SAMPLE RUN 1\n",
    "\n",
    "Interactive Session\n",
    "\n",
    "Enter\n",
    "\n",
    "1) check balance\n",
    "\n",
    "2) withdraw\n",
    "\n",
    "3) deposit\n",
    "\n",
    "4) exit:2\n",
    "\n",
    "Enter an amount to withdraw:45\n",
    "\n",
    "Enter\n",
    "\n",
    "1) check balance\n",
    "\n",
    "2) withdraw\n",
    "\n",
    "3) deposit\n",
    "\n",
    "4) exit:1\n",
    "\n",
    "The balance is 55.00\n",
    "\n",
    "Enter\n",
    "\n",
    "1) check balance\n",
    "\n",
    "2) withdraw\n",
    "\n",
    "3) deposit\n",
    "\n",
    "4) exit:4\n"
   ]
  },
  {
   "cell_type": "code",
   "execution_count": null,
   "metadata": {},
   "outputs": [],
   "source": [
    "class Account:\n",
    "    _id = 0\n",
    "    _balance = 0.0\n",
    "    _annualInterestRate = 0.0\n",
    "\n",
    "    def __init__(self):\n",
    "        self._id = 0\n",
    "        self._balance = 100.0\n",
    "        self._annualInterestRate = 0.0\n",
    "\n",
    "    def setId(self, value):\n",
    "        self._id = value\n",
    "\n",
    "    def getId(self):\n",
    "        return self._id\n",
    "\n",
    "    def setBalance(self, value):\n",
    "        self._balance = value\n",
    "\n",
    "    def getBalance(self):\n",
    "        return self._balance\n",
    "\n",
    "    def setAnnualInterestRate(self, value):\n",
    "        self._annualInterestRate = value\n",
    "\n",
    "    def getAnnualInterestRate(self):\n",
    "        return self._annualInterestRate\n",
    "\n",
    "    def getMonthlyInterestRate(self):\n",
    "        return self._annualInterestRate / 12\n",
    "\n",
    "    def getMonthlyInterest(self):\n",
    "        return self._balance + self._balance * self.getMonthlyInterestRate() / 100\n",
    "\n",
    "    def deposit(self, amount):\n",
    "        self._balance += amount\n",
    "\n",
    "    def withdraw(self, amount):\n",
    "        self._balance -= amount\n",
    "\n",
    "\n",
    "\n",
    "\n",
    "acc = Account()\n",
    "acc.setId(100)\n",
    "acc.setBalance(100.0)\n",
    "acc.setAnnualInterestRate(0)\n",
    "\n",
    "while True:\n",
    "    print(\"Enter\")\n",
    "    print(\"1) check balance\")\n",
    "    print(\"2) withdraw\")\n",
    "    print(\"3) deposit\")\n",
    "    choice = (int)(input(\"4) exit:\"))\n",
    "\n",
    "    if choice == 1:\n",
    "        print(\"The balance is %.2f\" % acc.getBalance())\n",
    "    elif choice == 2:\n",
    "        amount = (float)(input(\"Enter an amount to withdraw:\"))\n",
    "        acc.withdraw(amount)\n",
    "    elif choice == 3:\n",
    "        amount = (float)(input(\"Enter amount to deposit:\"))\n",
    "        acc.deposit(amount)\n",
    "    elif choice == 4:\n",
    "        break"
   ]
  },
  {
   "cell_type": "code",
   "execution_count": null,
   "metadata": {},
   "outputs": [],
   "source": [
    "class Account:\n",
    "    __id = 0\n",
    "    __balance = 100\n",
    "    __annualInterestRate = 0\n",
    "\n",
    "    def __init__(self, i, b, air):\n",
    "        self.__id = i\n",
    "        self.__balance = b\n",
    "        self.__annualInterestRate = air\n",
    "\n",
    "    def getID(self):\n",
    "        return self.__id\n",
    "\n",
    "    def getBalance(self):\n",
    "        return self.__balance\n",
    "\n",
    "    def getAnnualInterestRate(self):\n",
    "        return self.__annualInterestRate\n",
    "\n",
    "    def setID(self, i):\n",
    "        self.__id = i\n",
    "\n",
    "    def setBalance(self, b):\n",
    "        self.__balance = b\n",
    "\n",
    "    def setAnnualInterestRate(self, air):\n",
    "        self.annualInterestRate = air\n",
    "\n",
    "    def getMonthlyInterestRate(self):\n",
    "        return self.__annualInterestRate/12\n",
    "\n",
    "    def getMonthlyInterest(self):\n",
    "        return self.__balance * self.getMonthlyInterestRate()\n",
    "\n",
    "    def withdraw(self, amt):\n",
    "        if self.__balance - amt >= 0:\n",
    "            self.__balance -= amt\n",
    "\n",
    "    def deposit(self, amt):\n",
    "        self.__balance += amt\n",
    "\n",
    "account = Account(5740, 100, 3.4)\n",
    "\n",
    "choice = int(input(\"Enter\\n1) check balance\\n2) withdraw\\n3) deposit\\n4) exit:\"))\n",
    "\n",
    "while choice != 4:\n",
    "    if choice == 1:\n",
    "        print(\"The balance is\", \"{0:.{1}f}\".format(account.getBalance(), 2))\n",
    "    elif choice == 2:\n",
    "        amt = float(input(\"Enter an amount to withdraw:\"))\n",
    "        account.withdraw(amt)\n",
    "    elif choice == 3:\n",
    "        amt = float(input(\"Enter amount to deposit:\"))\n",
    "        account.deposit(amt)\n",
    "\n",
    "    choice = int(input(\"Enter\\n1) check balance\\n2) withdraw\\n3) deposit\\n4) exit:\"))"
   ]
  },
  {
   "cell_type": "markdown",
   "metadata": {},
   "source": [
    "## Chapter 15 - RECURSION ANOTHER CONTROL MECHANISM (Assignment -7)"
   ]
  },
  {
   "cell_type": "markdown",
   "metadata": {},
   "source": [
    "#### Recursion Practice"
   ]
  },
  {
   "cell_type": "markdown",
   "metadata": {},
   "source": [
    "Assume the availability of a function called printStars. The function receives an integer value as an argument. If the argument is positive, the function prints (to standard output) the given number of asterisks. Thus, if printStars(8) is called, ******** (8 asterisks) will be printed. \n",
    "\n",
    "Assume further that the variable starCount has been declared and initialized to contain a positive integer value. \n",
    "\n",
    "Write some code that prints starCount asterisks to standard output by:\n",
    "* first printing a single asterisk and no other characters\n",
    "* then calls printStars to print the remaining asterisks."
   ]
  },
  {
   "cell_type": "code",
   "execution_count": null,
   "metadata": {},
   "outputs": [],
   "source": [
    "printStars(1)\n",
    "printStars(starCount-1)"
   ]
  },
  {
   "cell_type": "code",
   "execution_count": null,
   "metadata": {},
   "outputs": [],
   "source": [
    "print(\"*\", end=\"\")\n",
    "printStars(starCount-1)"
   ]
  },
  {
   "cell_type": "markdown",
   "metadata": {},
   "source": [
    "Assume the availability of a function called printStars. The function receives an integer value as an argument. If the argument is positive, the function prints (to standard output) the given number of asterisks. Thus, if printStars(8) is called, ******** (8 asterisks) will be printed. \n",
    "\n",
    "Assume further that the variable starCount has been declared and initialized with an integer value, possibly negative or zero. \n",
    "\n",
    "Write some code that does nothing if starCount is not positive but that otherwise prints starCount asterisks to standard ouput by:\n",
    "* first printing a single asterisk (and no other characters)\n",
    "* then calls printStars to print the remaining asterisks"
   ]
  },
  {
   "cell_type": "code",
   "execution_count": null,
   "metadata": {},
   "outputs": [],
   "source": [
    "if starCount > 0:\n",
    "\tprintStars(1)\n",
    "\tprintStars(starCount-1)"
   ]
  },
  {
   "cell_type": "code",
   "execution_count": null,
   "metadata": {},
   "outputs": [],
   "source": [
    "if starCount > 0:\n",
    "\tprint(\"*\", end=\"\")\n",
    "\tprintStars(starCount-1)"
   ]
  },
  {
   "cell_type": "markdown",
   "metadata": {},
   "source": [
    "Write a function called printStars. The function receives a parameter containing an integer value. If the parameter is positive, the funciton prints (to standard output) the given number of asterisks. Otherwise the function does nothing. The function does not return a value. Thus, if printStars(8) is called, ******** (8 asterisks) will be printed. The function must not use a loop of any kind (for, while, do-while) to accomplish its job. Instead, it should examine its parameter, returning if the parameters value is not positive. If the parameter is positive, it:\n",
    "* prints a single asterisk (and no other characters)\n",
    "* then crecursively calls itself to print the remaining asterisks"
   ]
  },
  {
   "cell_type": "code",
   "execution_count": null,
   "metadata": {},
   "outputs": [],
   "source": [
    "def printStars(starCount):\n",
    "   if starCount>=1:\n",
    "       print ('*', end=\"\")\n",
    "       printStars(starCount-1)"
   ]
  },
  {
   "cell_type": "code",
   "execution_count": null,
   "metadata": {},
   "outputs": [],
   "source": [
    "def printStars(num):\n",
    "\tif num > 0:\n",
    "\t\tprint(\"*\", end=\"\")\n",
    "\t\tprintStars(num-1)"
   ]
  },
  {
   "cell_type": "markdown",
   "metadata": {},
   "source": [
    "Assume the availability of a function named printStars that can be passed a parameter containing a non-negative integer value. The function prints out the given number of asterisks. \n",
    "\n",
    "Write a function named printTriangle that receives a parameter that holds a non-negative integer value and prints a triangle of asterisks as follows: first a line of n asterisks, followed by a line of n-1 askterisks, and then a line of n-2 asterisks, and so on. \n",
    "\n",
    "For example, if the function received 5, it would print:\n",
    "\n",
    "5 x *\n",
    "\n",
    "4 x *\n",
    "\n",
    "3 x *\n",
    "\n",
    "2 x *\n",
    "\n",
    "1 x *\n",
    "\n",
    "The function must not use a loop of any kind (for, while, do-while) to accomplish its job. The function should invoke printStars to accom;lish the task of printing a single line."
   ]
  },
  {
   "cell_type": "code",
   "execution_count": null,
   "metadata": {},
   "outputs": [],
   "source": [
    "def printTriangle(n):\n",
    "    if n == 0:\n",
    "        return\n",
    "    if n > 0:\n",
    "        printStars(n)\n",
    "        print()\n",
    "        printTriangle(n-1)"
   ]
  },
  {
   "cell_type": "code",
   "execution_count": null,
   "metadata": {},
   "outputs": [],
   "source": [
    "def printTriangle(n):\n",
    "\tprintStars(n)\n",
    "\tif n > 1:\n",
    "\t\tprint()\n",
    "\t\tprintTriangle(n-1)"
   ]
  },
  {
   "cell_type": "code",
   "execution_count": null,
   "metadata": {},
   "outputs": [],
   "source": [
    "def printTriangle(n):\n",
    "    if n == 0:\n",
    "        return\n",
    "    if n > 0:\n",
    "        printStars(n)\n",
    "        print()\n",
    "        printTriangle(n-1)"
   ]
  },
  {
   "cell_type": "markdown",
   "metadata": {},
   "source": [
    "Assume the availability of a function called fact. The function receives an argument containing an integer value and returns an integer value. The function should return the factorial of the argument. That is, if the argument is one or zero, the function should return 1. Otherwise, it should return the product of all the integers from 1 to the argument. So the value of fact(4) is 1*2*3*4 and the value of fact(10) is 1*2*3*4*5*6*7*8*9*10. \n",
    "\n",
    "Additionally, assume that the variable k has been initialized with a positive integer value. Write a statement that assigns the value of fact(k) to a variable x. The solution must include multiplying the return value of fact by k. "
   ]
  },
  {
   "cell_type": "code",
   "execution_count": null,
   "metadata": {},
   "outputs": [],
   "source": [
    "def fact(k):\n",
    "    if k ==0 or k == 1:\n",
    "    \tx=1\n",
    "    else:\n",
    "      \tx=k * fact(k-1)\n",
    "\t\t\n",
    "def fact(n):\n",
    "    if n ==0 or n == 1:\n",
    "           return 1\n",
    "    else:\n",
    "      return n * fact(n-1)\n",
    "\n",
    "x = fact(k)\n",
    "print(x)"
   ]
  },
  {
   "cell_type": "code",
   "execution_count": null,
   "metadata": {},
   "outputs": [],
   "source": [
    "x = fact(k-1)*k"
   ]
  },
  {
   "cell_type": "code",
   "execution_count": null,
   "metadata": {},
   "outputs": [],
   "source": [
    "x = fact(k)"
   ]
  },
  {
   "cell_type": "markdown",
   "metadata": {},
   "source": [
    "Write a function called fact that recursively calculates the factorial value of its parameter, which is an integer value. \n",
    "\n"
   ]
  },
  {
   "cell_type": "code",
   "execution_count": null,
   "metadata": {},
   "outputs": [],
   "source": [
    "def fact( n ):\n",
    "   if n <1: \n",
    "       return 1\n",
    "   else:\n",
    "       return n * fact( n - 1 )"
   ]
  },
  {
   "cell_type": "code",
   "execution_count": null,
   "metadata": {},
   "outputs": [],
   "source": [
    "def fact(n):\n",
    "\tif n==0 or n==1:\n",
    "\t\treturn 1\n",
    "\telse:\n",
    "\t\treturn n * fact(n-1)"
   ]
  },
  {
   "cell_type": "code",
   "execution_count": null,
   "metadata": {},
   "outputs": [],
   "source": [
    "def fact(n):\n",
    "    if n == 0:\n",
    "        return 1\n",
    "    else:\n",
    "        return n * fact(n-1)\n"
   ]
  },
  {
   "cell_type": "markdown",
   "metadata": {},
   "source": [
    "Write a definition of a function called product. The function receives two parameters containing integer values. You may assume that neither parameter is negative. The function returns the product of the parameters. So, product(3,5) returns 15. The function must not use a loop of any kind (for, while, do-while). \n",
    "\n"
   ]
  },
  {
   "cell_type": "code",
   "execution_count": null,
   "metadata": {},
   "outputs": [],
   "source": [
    "def product(x,y):\n",
    "    if x == 0:\n",
    "       return 0\n",
    "    if y == 0:\n",
    "       return 0\n",
    "    else:\n",
    "       return (x + product(x,y-1))"
   ]
  },
  {
   "cell_type": "code",
   "execution_count": null,
   "metadata": {},
   "outputs": [],
   "source": [
    "def product(x, n):\n",
    "\tif n == 0:\n",
    "\t\treturn 0\n",
    "\telse:\n",
    "\t\treturn x + product(x, n-1)\n"
   ]
  },
  {
   "cell_type": "markdown",
   "metadata": {},
   "source": [
    "The sum of the numbers 1 to n can be calculated recursively as follows:\n",
    "* The sum from 1 to 1 is 1.\n",
    "* The sum from 1 to n is n more than the sum from 1 to n-1\n",
    "Write a function named sum that accepts a variable containing an integer value as its parameter and returns the sum of the numbers from 1 to to the parameter (calculated recursively)."
   ]
  },
  {
   "cell_type": "code",
   "execution_count": null,
   "metadata": {},
   "outputs": [],
   "source": [
    "def sum(n):\n",
    "    if n == 0:\n",
    "        return 0\n",
    "    else:\n",
    "        return n + sum(n - 1)"
   ]
  },
  {
   "cell_type": "code",
   "execution_count": null,
   "metadata": {},
   "outputs": [],
   "source": [
    "def sum(n):\n",
    "\tif n==1:\n",
    "\t\treturn 1\n",
    "\telse:\n",
    "\t\treturn n + sum(n-1)"
   ]
  },
  {
   "cell_type": "markdown",
   "metadata": {},
   "source": [
    "Given non-negative integers x and n, x to the nth power can be defined as:\n",
    "* x to the 0th power is 1\n",
    "* x to the nth power can be obtained by multiplying x to the (n-1)th power with x\n",
    "\n",
    "Write a function named power that accepts two parameters containing integer values (x and n, in that order) and recursively calculates and returns the value of x to the nth power."
   ]
  },
  {
   "cell_type": "code",
   "execution_count": null,
   "metadata": {},
   "outputs": [],
   "source": [
    "def power(x, n):\n",
    "    if n == 0:\n",
    "        return 1\n",
    "    else:\n",
    "        return x* power(x,n - 1)"
   ]
  },
  {
   "cell_type": "markdown",
   "metadata": {},
   "source": [
    "The nth harmonic number is defined non-recursively as: 1+1/2+1/3+1/4+...+1/n. Come up with a recursive definition and use it to write a function called harmonic that accepts a parameter n that contains an integer value and returns the nth harmonic number.\n",
    "\n"
   ]
  },
  {
   "cell_type": "code",
   "execution_count": null,
   "metadata": {},
   "outputs": [],
   "source": [
    "def harmonic(N):\n",
    "     if (N == 1):\n",
    "          return 1.0\n",
    "     else:\n",
    "          return (1.0/N + harmonic(N-1))"
   ]
  },
  {
   "cell_type": "markdown",
   "metadata": {},
   "source": [
    "The \"odd/even factorial\" of a positive integer n is represented as n and is defined non-recursively as: (n)(n-2)(n-4)...(4)(2) if n is even and (n)(n-2)(n-4)...(5)(3)(1) if n is odd. For example, the odd factorial of 7 equals 7*5*3*1 or 105, and the even factorial of 6 equals 6*4*2 or 48.\n",
    "\n",
    "Come up with a recursive definition for the odd/even factorials and use it to write a function called oddevenfact that recursively calcules that odd/even factorial value of its single parameter, which contains an integer value.\n",
    "\n"
   ]
  },
  {
   "cell_type": "code",
   "execution_count": null,
   "metadata": {},
   "outputs": [],
   "source": [
    "def oddevenfact(n):\n",
    "\tfact = 1 \n",
    "\tif n > 1:\n",
    "\t\tfact = n * oddevenfact (n-2)   \n",
    "\treturn fact"
   ]
  },
  {
   "cell_type": "code",
   "execution_count": null,
   "metadata": {},
   "outputs": [],
   "source": [
    "def oddevenfact(n):\n",
    "\tif n==1 or n==2:\n",
    "\t\treturn n\n",
    "\telse:\n",
    "\t\treturn n * oddevenfact(n-2)"
   ]
  },
  {
   "cell_type": "markdown",
   "metadata": {},
   "source": [
    "The Fibonacci series (0, 1, 1, 2, 3, 5, 8, 13, 21) has as its first two values 0 and 1; each successive value is then calculated as the sum of the previous two values. The first element in the series is considered the 0th element. \n",
    "\n",
    "The nth element in the series, written as fib(n), is thus defined as:\n",
    "* n if n=0 or n=1\n",
    "* fib(n-1)+fib(n-2) otherwise\n",
    "\n",
    "Write a function fib, that takes a single parameter, n, which contains an integer value, and recursively calculates and returns the nth element of the Fibonacci series."
   ]
  },
  {
   "cell_type": "code",
   "execution_count": null,
   "metadata": {},
   "outputs": [],
   "source": [
    "def fib(n):\n",
    "    if n == 0 or n == 1:\n",
    "        return n\n",
    "    else:\n",
    "        return fib(n-1)+fib(n-2)\n",
    " \n",
    "\n",
    "print(fib(7))"
   ]
  },
  {
   "cell_type": "code",
   "execution_count": null,
   "metadata": {},
   "outputs": [],
   "source": [
    "def fib(n):\n",
    "\tif n==0 or n==1:\n",
    "\t\treturn n\n",
    "\telse:\n",
    "\t\treturn fib(n-1)+fib(n-2)"
   ]
  },
  {
   "cell_type": "markdown",
   "metadata": {},
   "source": [
    "Write a recursive function, len, that accepts a parameter that holds a string value, and returns the number of characters in the string. \n",
    "The length of the string is:\n",
    "* 0 if the string is empy (\"\")\n",
    "* 1 more than the length of the string beyond the first character\n"
   ]
  },
  {
   "cell_type": "code",
   "execution_count": null,
   "metadata": {},
   "outputs": [],
   "source": [
    "def len(str):\n",
    "    if(str==\"\"):\n",
    "        return 0\n",
    "    else:\n",
    "        return 1+len(str[1:])"
   ]
  },
  {
   "cell_type": "markdown",
   "metadata": {},
   "source": [
    "Write a recursive function, containsVowel, which accepts one parameter containing a string value and returns True if the string contains a vowel. \n",
    "\n",
    "A string contains a vowel if:\n",
    "* The first character of the string is a vowel or\n",
    "* The rest of the string (beyond the first character) contains a vowel\n"
   ]
  },
  {
   "cell_type": "code",
   "execution_count": null,
   "metadata": {},
   "outputs": [],
   "source": [
    "def containsVowel(s):\n",
    "\tif len(s) != 0:\n",
    "\t\tvowel_set = s[0]\n",
    "\t\tif vowel_set in 'aeiouAEIOU':\n",
    "\t\t\treturn True\n",
    "\t\telse:\n",
    "\t\t\treturn containsVowel(s[1:])\n",
    "\telse:\n",
    "\t\treturn False"
   ]
  },
  {
   "cell_type": "markdown",
   "metadata": {},
   "source": [
    "Write a recursive function, replace, that accepts a parameter containing a string value and returns another string value, the same as the original string except with each blank replaced by an asterisk \"*\". \n",
    "\n",
    "Replacing the blanks in a string involves:\n",
    "Nothing if the string is empty\n",
    "Otherwise\n",
    "* If the first character is not a blank, simply concatenate it with the result of replacing the rest of the string.\n",
    "* If the first character IS a blank, concatenate an asterisk with the result of replacing the rest of the string.\n"
   ]
  },
  {
   "cell_type": "code",
   "execution_count": null,
   "metadata": {},
   "outputs": [],
   "source": [
    "def replace(string):\n",
    "\tif string==\"\":\n",
    "\t\treturn \"\"\n",
    "\telif string[0]==\" \":\n",
    "\t\treturn \"*\" + replace(string[1:])\n",
    "\telse:\n",
    "\t\treturn string[0] + replace(string[1:])\n"
   ]
  },
  {
   "cell_type": "markdown",
   "metadata": {},
   "source": [
    "Write a recursive function, reverse, that accepts a parameter containing a string value and returns the original string in reverse. For example, calling reverse('goodbye') would return 'eybdoog'. \n",
    "\n",
    "Reversing a string involves:\n",
    "* No action if the string is empty or only has 1 character\n",
    "* Concatenating the last character with the result of reversing the string consisting of the second through next-to-last character, followed by the first character\n"
   ]
  },
  {
   "cell_type": "code",
   "execution_count": null,
   "metadata": {},
   "outputs": [],
   "source": [
    "def reverse(s):\n",
    "    if s == \"\":\n",
    "        return s\n",
    "    else:\n",
    "        return reverse(s[1:]) + s[0]"
   ]
  },
  {
   "cell_type": "code",
   "execution_count": null,
   "metadata": {},
   "outputs": [],
   "source": [
    "def reverse(string):\n",
    "\tif len(string) == 0 or len(string) == 1:\n",
    "\t\treturn string\n",
    "\telse:\n",
    "\t\treturn string[len(string)-1] + reverse(string[:-1])"
   ]
  },
  {
   "cell_type": "markdown",
   "metadata": {},
   "source": [
    "A palindrome is a word or phrase that reads the same forwards or backwards (e.g. \"dad\", \"mom\", \"deed\"). \n",
    "Write a recrusive function, isPalindrome that accepts a string and returns whether the string is a palindrome. A string is a palindrome if:\n",
    "* it is an empty string or consists of a single letter, or\n",
    "* if the first and last characters are the same, and the rest of the string forms a palindrome\n",
    "\n",
    "Your function should ignore spaces and only compare letters."
   ]
  },
  {
   "cell_type": "code",
   "execution_count": null,
   "metadata": {},
   "outputs": [],
   "source": [
    "def isPalindrome(string):\n",
    "\tif len(string) == 0 or len(string) == 1:\n",
    "\t\treturn True\n",
    "\telse:\n",
    "\t\tif string[0] == string[-1]:\n",
    "\t\t\treturn isPalindrome(string[1:-1])\n",
    "\t\telif string[0] == \" \":\n",
    "\t\t\treturn isPalindrome(string[1:])\n",
    "\t\telif string[-1] == \" \":\n",
    "\t\t\treturn isPalindrome(string[:-1])\n",
    "\t\telse:\n",
    "\t\t\treturn False"
   ]
  },
  {
   "cell_type": "code",
   "execution_count": null,
   "metadata": {},
   "outputs": [],
   "source": [
    "def isPalindrome(string):\n",
    "\tif len(string) == 0 or len(string) == 1:\n",
    "\t\treturn True\n",
    "\telse:\n",
    "\t\tif string[0] == string[-1]:\n",
    "\t\t\treturn isPalindrome(string[1:-1])\n",
    "\t\telif string[0] == \" \":\n",
    "\t\t\treturn isPalindrome(string[1:])\n",
    "\t\telif string[-1] == \" \":\n",
    "\t\t\treturn isPalindrome(string[:-1])\n",
    "\t\telse:\n",
    "\t\t\treturn False"
   ]
  },
  {
   "cell_type": "markdown",
   "metadata": {},
   "source": [
    "The elements of a tuple can be set to 0 recursively as follows:\n",
    "* If the tuple has a length of zero, nothing should be done to it.\n",
    "* Otherwise, set the first element of the tuple to 0, and then append it to the rest of the tuple.\n",
    "\n",
    "Write a function named clearthat accepts one argument, a tuple of any length, and returns a tuple of the same length with every element set to 0.\n",
    "\n"
   ]
  },
  {
   "cell_type": "code",
   "execution_count": null,
   "metadata": {},
   "outputs": [],
   "source": [
    "def clear(tup):\n",
    "    if not tup:\n",
    "        return ()\n",
    "    return( (0,) + clear(tup[1:]) )"
   ]
  },
  {
   "cell_type": "code",
   "execution_count": null,
   "metadata": {},
   "outputs": [],
   "source": [
    "def clear(tup):\n",
    "\tif len(tup) == 0:\n",
    "\t\treturn ()\n",
    "\telse:\n",
    "\t\treturn (0,) + clear(tup[1:])\n"
   ]
  },
  {
   "cell_type": "markdown",
   "metadata": {},
   "source": [
    "The sum of the elements in a tuple can be recusively calculated as follows:\n",
    "* The sum of the elements in a tuple of size 0 is 0\n",
    "* Otherwise, the sum is the value of the first element added to the sum of the rest of the elements\n",
    "\n",
    "Write a function named sum that accepts a tuple as an argument and returns the sum of the elements in the tuple."
   ]
  },
  {
   "cell_type": "code",
   "execution_count": null,
   "metadata": {},
   "outputs": [],
   "source": [
    "def sum(tup):\n",
    "    if(len(tup)==0):\n",
    "        return 0\n",
    "    else:\n",
    "        return tup[0]+sum(tup[1:])"
   ]
  },
  {
   "cell_type": "markdown",
   "metadata": {},
   "source": [
    "An 'array palindrome' is an array, which, when its elements are reversed, remains the same.\n",
    "Write a recursive function, isPalindrome, that accepts a tuple and returns whether the tuple is a palindrome.\n",
    "A tuple is a palindrome if:\n",
    "* the tuple is empty or contains one element\n",
    "* the first and last elements of the tuple are the same, and the rest of the tuple is a palindrome"
   ]
  },
  {
   "cell_type": "code",
   "execution_count": null,
   "metadata": {},
   "outputs": [],
   "source": [
    "def isPalindrome(tup):\n",
    "    if(len(tup)==0 or len(tup)==1):\n",
    "        return True\n",
    "    else:\n",
    "        length=len(tup)\n",
    "        if (tup[0]==tup[length-1] and isPalindrome(tup[1:length-1])):\n",
    "            return True\n",
    "        else:\n",
    "            return False"
   ]
  },
  {
   "cell_type": "code",
   "execution_count": null,
   "metadata": {},
   "outputs": [],
   "source": [
    "def isPalindrome(tup):\n",
    "\tif len(tup) == 0 or len(tup) == 1:\n",
    "\t\treturn True\n",
    "\telse:\n",
    "\t\tif tup[0] == tup[-1]:\n",
    "\t\t\treturn isPalindrome(tup[1:-1])\n",
    "\t\telse:\n",
    "\t\t\treturn False"
   ]
  },
  {
   "cell_type": "markdown",
   "metadata": {},
   "source": [
    "The maximum-valued element in a tuple can be recursively calculated as follows:\n",
    "* If the tuple has a single element, that is its maximum (tuples of size zero have no maxiumum)\n",
    "* Otherwise, compare the first element with the maximum of the rest of the tuple\n",
    "\n",
    "Write a function named max that accepts a tuple and returns the largest value in the tuple. Assume the tuple has at least one element."
   ]
  },
  {
   "cell_type": "code",
   "execution_count": null,
   "metadata": {},
   "outputs": [],
   "source": [
    "def Max(list):\n",
    "    if len(list) == 1:\n",
    "        return list[0]\n",
    "    else:\n",
    "        m = Max(list[1:])\n",
    "        return m if m > list[0] else list[0]"
   ]
  },
  {
   "cell_type": "code",
   "execution_count": null,
   "metadata": {},
   "outputs": [],
   "source": [
    "def max(tup):\n",
    "\tif len(tup) == 1:\n",
    "\t\treturn tup[0]\n",
    "\telse:\n",
    "\t\tif tup[0] > max(tup[1:]):\n",
    "\t\t\treturn tup[0]\n",
    "\t\telse:\n",
    "\t\t\treturn max(tup[1:])"
   ]
  },
  {
   "cell_type": "markdown",
   "metadata": {},
   "source": [
    "The elements of tuple can be initialized so that tup[i] == i in a recursive fashion as follows:\n",
    "A tuple of size 0 is already initialized\n",
    "Otherwise:\n",
    "* set the last element of the tuple to n-1 (where n is the number of elements in the tuple)\n",
    "* initialize the portion of the tuple consisting of the first n-1 elements\n",
    "\n",
    "Write a function named init that takes one argument, a tuple of the proper length, and returns an tuple initialized as described above."
   ]
  },
  {
   "cell_type": "code",
   "execution_count": null,
   "metadata": {},
   "outputs": [],
   "source": [
    "def init(tup):\n",
    "\tif len(tup) == 0:\n",
    "\t\treturn ()\n",
    "\telse:\n",
    "\t\treturn init(tup[:-1]) + (len(tup)-1,)"
   ]
  },
  {
   "cell_type": "markdown",
   "metadata": {},
   "source": [
    "Write a recursive function named productOfOdds that accepts a tuple containing integer values and returns the product of the odd-valued elements in the tuple. You may assume the tuple has at least one odd-valued element. \n",
    "The product of the odd-valued elements may be calculated as follows:\n",
    "* If the tuple has a single element and it is odd, return the value of that element; otherwise return 1\n",
    "* Otherwise, if the first element of the tuple is odd, return the product of that element and the result of finding the product of hte odd elements of the rest of the tuple. If the first element is not odd, simply return the result of of finding the product of the odd elements of the rest of the tuple.\n"
   ]
  },
  {
   "cell_type": "code",
   "execution_count": null,
   "metadata": {},
   "outputs": [],
   "source": [
    "def productOfOdds(tup):\n",
    "\tif len(tup) == 1:\n",
    "\t\tif tup[0]%2 == 1:\n",
    "\t\t\treturn tup[0]\n",
    "\t\telse:\n",
    "\t\t\treturn 1\n",
    "\telse:\n",
    "\t\tif tup[0]%2 == 1:\n",
    "\t\t\treturn tup[0]*productOfOdds(tup[1:])\n",
    "\t\telse:\n",
    "\t\t\treturn productOfOdds(tup[1:])"
   ]
  },
  {
   "cell_type": "markdown",
   "metadata": {},
   "source": [
    "Two non-negative integers x and y are equal if either:\n",
    "* Both are 0, or\n",
    "* x-1 and y-1 are equal\n",
    "\n",
    "Write a function named equals that recursively determines whether two parameters (both containing integer values) are equal and returns True or False."
   ]
  },
  {
   "cell_type": "code",
   "execution_count": null,
   "metadata": {},
   "outputs": [],
   "source": [
    "def equals(x, y):\n",
    "\tif x ==0 and y==0:\n",
    "\t\treturn True\n",
    "\telif x ==0 or y ==0:\n",
    "\t\treturn False\n",
    "\telse:\n",
    "\t\treturn equals(x-1, y-1)\n"
   ]
  },
  {
   "cell_type": "markdown",
   "metadata": {},
   "source": [
    "Write a definition of a function named copy that reads all of the lines that remain in standard input and displays them in standard output, one on a line with no other spacing. \n",
    "\n",
    "The function must not use a loop of any kind."
   ]
  },
  {
   "cell_type": "code",
   "execution_count": null,
   "metadata": {},
   "outputs": [],
   "source": [
    "def copy():\t\n",
    "\ttry:\t\t\n",
    "\t\tstdin = input()\t\t\n",
    "\t\tprint(stdin)\n",
    "\t\tcopy()\t\n",
    "\texcept EOFError:\t\t\n",
    "\t\tpass"
   ]
  },
  {
   "cell_type": "code",
   "execution_count": null,
   "metadata": {},
   "outputs": [],
   "source": [
    "#Finally! No more code lab to deal with!!! Book rarely helped with these exercises!!!!!\n",
    "\n",
    "def copy():\n",
    "\t\n",
    "\ttry:\n",
    "\t\tprint(input())\n",
    "\t\tcopy()\n",
    "\t\n",
    "\texcept EOFError:\n",
    "\t\treturn"
   ]
  },
  {
   "cell_type": "markdown",
   "metadata": {},
   "source": [
    "Write the definition of a function named countPosthat reads integer values from standard input until there are none left and returns the number that are positive. \n",
    "The function must not use a loop of any kind."
   ]
  },
  {
   "cell_type": "code",
   "execution_count": null,
   "metadata": {},
   "outputs": [],
   "source": [
    "def countPos():\n",
    "\ttry:\n",
    "\t\tif int(input()) < 0:\n",
    "\t\t\treturn 1 + countPos()\n",
    "\t\telse:\n",
    "\t\t\treturn countPos()\n",
    "\texcept EOFError:\n",
    "\t\treturn 0"
   ]
  },
  {
   "cell_type": "markdown",
   "metadata": {},
   "source": [
    "Assume the availability of a function named printStars that can be passed one argument, an integer value n, which prints n asterisks. Write a function named printTriangle that receives an integer value as an argument and prints a triangle of asterisks as follows: first a line with 1 asterisk, then a line with 2 asterisks, then a line with 3 asterisks, and so on until it prints a line of n asterisks, at which point it stops. \n",
    "\n",
    "For example, if the function received 5, it would print: \n",
    "\n",
    "1 x*\n",
    "\n",
    "2 x*\n",
    "\n",
    "3 x*\n",
    "\n",
    "4 x*\n",
    "\n",
    "5 x* \n",
    "\n",
    "The function must not use a loop of any kind. The function should invoke printStarsto accomplish the task of printing a single line."
   ]
  },
  {
   "cell_type": "code",
   "execution_count": null,
   "metadata": {},
   "outputs": [],
   "source": [
    "def printTriangle(n):\t\n",
    "\tif n > 0:\t\t\n",
    "\t\tprintTriangle(n-1)\n",
    "\t\tif n > 1:\n",
    "\t\t\tprint()\n",
    "\tprintStars(n)"
   ]
  },
  {
   "cell_type": "code",
   "execution_count": null,
   "metadata": {},
   "outputs": [],
   "source": [
    "def printTriangle(n):\n",
    "\tif n == 0:\n",
    "\t\treturn\n",
    "\tprintTriangle(n-1)\n",
    "\tprintStars(n)\n",
    "\tprint()"
   ]
  },
  {
   "cell_type": "markdown",
   "metadata": {},
   "source": [
    "Write the definition of a function named printStarBucks that receives one parameter containing a non-negative integer value, n, and prints a line consisting of n asterisks followed by n dollar signs. \n",
    "\n",
    "So if the function received 5, it would print: *****$$$$$ \n",
    "\n",
    "And if it received 3, it would print: ***$$$ \n",
    "\n",
    "The function must not use a loop of any kind."
   ]
  },
  {
   "cell_type": "code",
   "execution_count": null,
   "metadata": {},
   "outputs": [],
   "source": [
    "def printStarBucks(n):\n",
    "\tif n > 0:\n",
    "\t\tprint(\"*\", end=\"\")\n",
    "\t\tprintStarBucks(n-1)\n",
    "\t\tprint(\"$\", end=\"\")"
   ]
  },
  {
   "cell_type": "code",
   "execution_count": null,
   "metadata": {},
   "outputs": [],
   "source": [
    "def printStarBucks(n):\n",
    "\tif n == 0:\n",
    "\t\treturn\n",
    "\tprint('*', end='')\n",
    "\tprintStarBucks(n-1)\n",
    "\tprint('$', end='')\n"
   ]
  },
  {
   "cell_type": "markdown",
   "metadata": {},
   "source": [
    "### ASSIGNMENT 8 - SOME EXAMPLES"
   ]
  },
  {
   "cell_type": "markdown",
   "metadata": {},
   "source": [
    "Write a loop that reads strings from standard input where the string is either \"land\", \"air\", or \"water\". The loop terminates when \"xxxxx\" (five x characters) is read in. Other strings are ignored. After the loop, your code should print out 3 lines: the first consisting of the string \"land:\" followed by the number of \"land\" strings read in, the second consisting of the string \"air:\" followed by the number of \"air\" strings read in, and the third consisting of the string \"water:\" followed by the number of \"water\" strings read in. Each of these should be printed on a separate line.\n",
    "\n",
    "ASSUME the availability of a variable, stdin, that references a Scanner object associated with standard input.\n",
    "\n"
   ]
  },
  {
   "cell_type": "code",
   "execution_count": null,
   "metadata": {},
   "outputs": [],
   "source": [
    "landCount = 0\n",
    "airCount = 0\n",
    "waterCount = 0\n",
    "word = input()\n",
    "while word != \"xxxxx\" :\n",
    "\tif word == \"land\" :\n",
    "\t\tlandCount += 1\n",
    "\telif  word == \"air\" :\n",
    "\t\tairCount += 1\n",
    "\telif  word == \"water\" :\n",
    "\t\twaterCount += 1\n",
    "\tword = input()\n",
    "print(\"land:\"+str(landCount))\n",
    "print(\"air:\"+str(airCount))\n",
    "print(\"water:\"+str(waterCount))"
   ]
  },
  {
   "cell_type": "markdown",
   "metadata": {},
   "source": [
    "Consider this data sequence: \"3 11 5 5 5 2 4 6 6 7 3 -8\". Any value that is the same as the immediately preceding value is considered a CONSECUTIVE DUPLICATE. In this example, there are three such consecutive duplicates: the 2nd and 3rd 5s and the second 6. Note that the last 3 is not a consecutive duplicate because it was preceded by a 7. Write some code that uses a loop to read such a sequence of non-negative integers, terminated by a negative number. When the code finishes executing, the number of consecutive duplicates encountered is printed. In this case,3 would be printed.\n",
    "\n",
    "ASSUME the availability of a variable, stdin, that references a Scanner object associated with standard input.\n",
    "\n"
   ]
  },
  {
   "cell_type": "code",
   "execution_count": null,
   "metadata": {},
   "outputs": [],
   "source": [
    "consecdups = 0\n",
    "prev = eval(input())\n",
    "n = eval(input())\n",
    "while n>=0 :\n",
    "\tif n == prev :\n",
    "\t\tconsecdups += 1\n",
    "\tprev = n\n",
    "\tn = eval(input())\n",
    "print(consecdups)"
   ]
  },
  {
   "cell_type": "markdown",
   "metadata": {},
   "source": [
    "Write a loop that displays all possible combinations of two letters where the letters are 'a', or 'b', or 'c', or 'd', or 'e'. The combinations should be displayed in ascending alphabetical order:\n",
    "\n",
    "aa\n",
    "\n",
    "ab\n",
    "\n",
    "ac\n",
    "\n",
    "ad\n",
    "\n",
    "ae\n",
    "\n",
    "ba\n",
    "\n",
    "bb\n",
    "\n",
    "...\n",
    "\n",
    "ee\n"
   ]
  },
  {
   "cell_type": "code",
   "execution_count": null,
   "metadata": {},
   "outputs": [],
   "source": [
    "for i in range(ord('a'), ord('e')+1) :\n",
    "\tfor j in range(ord('a'), ord('e')+1) :\n",
    "\t\tprint(chr(i)+chr(j))\n"
   ]
  },
  {
   "cell_type": "code",
   "execution_count": null,
   "metadata": {},
   "outputs": [],
   "source": [
    "import itertools\n",
    "for x in itertools.product('abcde',repeat=2):\n",
    "\tprint(x[0]+x[1])\n"
   ]
  },
  {
   "cell_type": "markdown",
   "metadata": {},
   "source": [
    "Assume the input data is structured as follows: first there is a non-negative integer specifying the number of employee timesheets to be read in. This is followed by data for each of the employees. The first number for each employee is an integer that specifies their pay per hour in cents. Following this are 5 integers, the number of hours they worked on each of the days of the workweek. Given this data, write a loop and any necessary code that reads the data and stores the total payroll of all employees into the variable total. Note that you will have to add up the numbers worked by each employee and multiply that by that particular employee's pay rate to get the employee's pay for the week-- and sum those values into total."
   ]
  },
  {
   "cell_type": "code",
   "execution_count": null,
   "metadata": {},
   "outputs": [],
   "source": [
    "total = 0\n",
    "nEmployees = eval(input())\n",
    "for i in range(nEmployees)  : \n",
    "\t\tweekhours = 0\n",
    "\t\twagerate = eval(input())\n",
    "\t\tfor j in range(5) :\n",
    "\t\t\thours = eval(input())\n",
    "\t\t\tweekhours += hours\n",
    "\t\ttotal += wagerate * weekhours\n"
   ]
  },
  {
   "cell_type": "code",
   "execution_count": null,
   "metadata": {},
   "outputs": [],
   "source": [
    "total = 0\n",
    "emp_numbs = input(\"Amount of employee's\")\n",
    "for i in range(int(emp_numbs)):\n",
    "\temp_pay = input(\"Pay per hour in cents\")\n",
    "\temp_mon = input(\"Pay on Monday\")\n",
    "\temp_tues = input(\"Pay on Tuesday\")\n",
    "\temp_wed = input(\"Pay on Wednesday\")\n",
    "\temp_thurs = input(\"Pay on Thursday\")\n",
    "\temp_fri = input(\"Pay on Friday\")\n",
    "\thours = int(emp_mon) + int(emp_tues) + int(emp_wed) + int(emp_thurs) + int(emp_fri)\n",
    "\tpay = hours*int(emp_pay)\n",
    "\ttotal += pay\n"
   ]
  },
  {
   "cell_type": "markdown",
   "metadata": {},
   "source": [
    "### THE END"
   ]
  }
 ],
 "metadata": {
  "kernelspec": {
   "display_name": "Python 3",
   "language": "python",
   "name": "python3"
  },
  "language_info": {
   "codemirror_mode": {
    "name": "ipython",
    "version": 3
   },
   "file_extension": ".py",
   "mimetype": "text/x-python",
   "name": "python",
   "nbconvert_exporter": "python",
   "pygments_lexer": "ipython3",
   "version": "3.6.5"
  }
 },
 "nbformat": 4,
 "nbformat_minor": 2
}
